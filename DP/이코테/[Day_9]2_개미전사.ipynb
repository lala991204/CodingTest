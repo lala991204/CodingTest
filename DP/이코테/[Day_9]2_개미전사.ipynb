{
  "nbformat": 4,
  "nbformat_minor": 0,
  "metadata": {
    "colab": {
      "provenance": [],
      "collapsed_sections": [],
      "toc_visible": true,
      "authorship_tag": "ABX9TyO0jbMC23j0Vau7OguHC/I/",
      "include_colab_link": true
    },
    "kernelspec": {
      "name": "python3",
      "display_name": "Python 3"
    },
    "language_info": {
      "name": "python"
    }
  },
  "cells": [
    {
      "cell_type": "markdown",
      "metadata": {
        "id": "view-in-github",
        "colab_type": "text"
      },
      "source": [
        "<a href=\"https://colab.research.google.com/github/lala991204/CodingTest/blob/master/DP/%EC%9D%B4%EC%BD%94%ED%85%8C/%5BDay_9%5D2_%EA%B0%9C%EB%AF%B8%EC%A0%84%EC%82%AC.ipynb\" target=\"_parent\"><img src=\"https://colab.research.google.com/assets/colab-badge.svg\" alt=\"Open In Colab\"/></a>"
      ]
    },
    {
      "cell_type": "code",
      "source": [
        "n= int(input())\n",
        "array = list(map(int, input().split()))\n",
        "\n",
        "d = [0] * 100   # max(n)=100, index=0~ / element=0 -> for using 'max'\n",
        "d[0] = array[0]\n",
        "d[1] = max(array[0], array[1])\n",
        "# according to odd, even\n",
        "for i in range(2, n):\n",
        "    d[i] = max(d[i-1], d[i-2] + array[i])\n",
        "print(d[n-1])"
      ],
      "metadata": {
        "id": "Q5MkbWYxnbjh",
        "outputId": "182076d0-b642-42d0-d42b-941634f02fcd",
        "colab": {
          "base_uri": "https://localhost:8080/"
        }
      },
      "execution_count": null,
      "outputs": [
        {
          "output_type": "stream",
          "name": "stdout",
          "text": [
            "4\n",
            "1 3 1 5\n",
            "8\n"
          ]
        }
      ]
    }
  ]
}