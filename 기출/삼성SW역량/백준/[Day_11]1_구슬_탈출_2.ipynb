{
  "nbformat": 4,
  "nbformat_minor": 0,
  "metadata": {
    "colab": {
      "provenance": [],
      "collapsed_sections": [],
      "toc_visible": true,
      "authorship_tag": "ABX9TyOedXqDetnKE56vq3mqW4PQ",
      "include_colab_link": true
    },
    "kernelspec": {
      "name": "python3",
      "display_name": "Python 3"
    },
    "language_info": {
      "name": "python"
    }
  },
  "cells": [
    {
      "cell_type": "markdown",
      "metadata": {
        "id": "view-in-github",
        "colab_type": "text"
      },
      "source": [
        "<a href=\"https://colab.research.google.com/github/lala991204/CodingTest/blob/master/%EA%B8%B0%EC%B6%9C/%EC%82%BC%EC%84%B1SW%EC%97%AD%EB%9F%89/%EB%B0%B1%EC%A4%80/%5BDay_11%5D1_%EA%B5%AC%EC%8A%AC_%ED%83%88%EC%B6%9C_2.ipynb\" target=\"_parent\"><img src=\"https://colab.research.google.com/assets/colab-badge.svg\" alt=\"Open In Colab\"/></a>"
      ]
    },
    {
      "cell_type": "markdown",
      "source": [
        "# 문제"
      ],
      "metadata": {
        "id": "sih1Zvpdy3OS"
      }
    },
    {
      "cell_type": "code",
      "execution_count": null,
      "metadata": {
        "id": "nE3znlOCvl0u"
      },
      "outputs": [],
      "source": [
        "# 문제: https://www.acmicpc.net/problem/13460"
      ]
    },
    {
      "cell_type": "markdown",
      "source": [
        "# 작성 코드"
      ],
      "metadata": {
        "id": "tFKBYE4Jy7yV"
      }
    },
    {
      "cell_type": "code",
      "source": [
        "import time "
      ],
      "metadata": {
        "id": "jCvNK7FHxkWy"
      },
      "execution_count": 3,
      "outputs": []
    },
    {
      "cell_type": "code",
      "source": [
        "n, m = map(int, input().split())\n",
        "\n",
        "board = []\n",
        "emp = []\n",
        "for i in range(n):\n",
        "    board.append(list(map(int, input().split())))\n",
        "    for j in range(m):\n",
        "         if board[i][j] == '.':\n",
        "             emp.append((i, j))\n",
        "         elif board[i][j] == 'B':\n",
        "             a = i\n",
        "             b = j  \n",
        "         elif board[i][j] == 'R':\n",
        "             c = i\n",
        "             d = j                     \n",
        "\n",
        "start = time.time()\n",
        "cnt = 0\n",
        "# 구멍 들어감 : True, 구멍 안들어감 : False\n",
        "def watch(x, y, direction):\n",
        "    global cnt\n",
        "    # 왼쪽 방향으로 감시\n",
        "    if direction == 0:\n",
        "        while y >= 0:     # 경계 벗어나지 않도록\n",
        "            if board[x][y] == 'O':\n",
        "                cnt += 1\n",
        "                return True\n",
        "            if board[x][y] == '#':\n",
        "                cnt += 1 \n",
        "                return False\n",
        "            y -= 1        # 한 칸씩 특정 방향으로 이동하며\n",
        "    # 오른쪽 방향으로 감시\n",
        "    if direction == 1:\n",
        "        while y < n:\n",
        "            if board[x][y] == 'O':\n",
        "                cnt += 1\n",
        "                return True\n",
        "            if board[x][y] == '#':\n",
        "                cnt += 1\n",
        "                return False\n",
        "            y += 1\n",
        "    # 위쪽 방향으로 감시\n",
        "    if direction == 2:\n",
        "        while x >= 0:\n",
        "            if board[x][y] == 'O':\n",
        "                cnt += 1\n",
        "                return True\n",
        "            if board[x][y] == '#':\n",
        "                cnt += 1\n",
        "                return False\n",
        "            x -= 1\n",
        "    # 아래쪽 방향으로 감시\n",
        "    if direction == 3:\n",
        "        while x < m:\n",
        "            if board[x][y] == 'O':\n",
        "                cnt += 1\n",
        "                return True\n",
        "            if board[x][y] == '#':\n",
        "                cnt += 1\n",
        "                return False\n",
        "            x += 1\n",
        "    return False\n",
        "\n",
        "\n",
        "\n",
        "##################잠깐@@@ 감시 피하기처럼 자리 고정아님!! dfs로 재귀함수해서 이동해야함 다른 알고리즘 def dfs 찾기!!\n",
        "\n",
        "\n",
        "# 구멍을 만났는지 확인 (cnt<=10인 것만 인정됨)\n",
        "def process():\n",
        "    for i in range(4):\n",
        "        if watch(a, b, i) and cnt <= 10 and not watch(c, d, i):   # (a, b) 파란 공 위치 고정 !\n",
        "            return True   \n",
        "    return False\n",
        "\n",
        "\n",
        "###### 여기서 부터 main()입니다#######\n",
        "find = False\n",
        "if not process():\n",
        "    find = True      # 구멍 만났음 ! 블루 공도 안 떨어짐 !\n",
        "\n",
        "\n",
        "# 구멍 만났으면 카운트 출력, 못 만났으면 -1 출력\n",
        "if find:\n",
        "    print('%d', cnt)\n",
        "else:\n",
        "    print(-1)\n",
        "end = time.time()\n",
        "print(end-start)\n",
        "\n",
        "# 오답 이유 ->"
      ],
      "metadata": {
        "colab": {
          "base_uri": "https://localhost:8080/",
          "height": 137
        },
        "id": "G_4sCPTHwAMd",
        "outputId": "1ab62550-d622-4b34-f557-4208e6d2ce8b"
      },
      "execution_count": 2,
      "outputs": [
        {
          "output_type": "error",
          "ename": "IndentationError",
          "evalue": "ignored",
          "traceback": [
            "\u001b[0;36m  File \u001b[0;32m\"<tokenize>\"\u001b[0;36m, line \u001b[0;32m10\u001b[0m\n\u001b[0;31m    elif board[i][j] == 'B':\u001b[0m\n\u001b[0m    ^\u001b[0m\n\u001b[0;31mIndentationError\u001b[0m\u001b[0;31m:\u001b[0m unindent does not match any outer indentation level\n"
          ]
        }
      ]
    },
    {
      "cell_type": "markdown",
      "source": [
        "# 모범 답안"
      ],
      "metadata": {
        "id": "7RfxRbVNy_WD"
      }
    },
    {
      "cell_type": "code",
      "source": [
        "\n",
        "\n",
        "start = time.time()\n",
        "\n",
        "\n",
        "\n",
        "end = time.time()\n",
        "print(end-start)\n",
        "\n",
        "# Tip1: "
      ],
      "metadata": {
        "colab": {
          "base_uri": "https://localhost:8080/"
        },
        "id": "2iNHBpuay1fa",
        "outputId": "9af445c8-da6a-4153-97bc-eb1270b9dd6d"
      },
      "execution_count": null,
      "outputs": [
        {
          "output_type": "stream",
          "name": "stdout",
          "text": [
            "2.9325485229492188e-05\n"
          ]
        }
      ]
    },
    {
      "cell_type": "markdown",
      "source": [
        "# 기술 면접 대비"
      ],
      "metadata": {
        "id": "gryCrmQlnYJ3"
      }
    },
    {
      "cell_type": "code",
      "source": [
        "# 1."
      ],
      "metadata": {
        "id": "Q5MkbWYxnbjh"
      },
      "execution_count": null,
      "outputs": []
    }
  ]
}