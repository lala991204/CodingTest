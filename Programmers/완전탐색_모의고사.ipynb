{
  "nbformat": 4,
  "nbformat_minor": 0,
  "metadata": {
    "colab": {
      "provenance": [],
      "authorship_tag": "ABX9TyNTkBLaHsoLDhxvIGXr8afP",
      "include_colab_link": true
    },
    "kernelspec": {
      "name": "python3",
      "display_name": "Python 3"
    },
    "language_info": {
      "name": "python"
    }
  },
  "cells": [
    {
      "cell_type": "markdown",
      "metadata": {
        "id": "view-in-github",
        "colab_type": "text"
      },
      "source": [
        "<a href=\"https://colab.research.google.com/github/lala991204/CodingTest/blob/master/Programmers/%EC%99%84%EC%A0%84%ED%83%90%EC%83%89_%EB%AA%A8%EC%9D%98%EA%B3%A0%EC%82%AC.ipynb\" target=\"_parent\"><img src=\"https://colab.research.google.com/assets/colab-badge.svg\" alt=\"Open In Colab\"/></a>"
      ]
    },
    {
      "cell_type": "code",
      "source": [
        "def solution(answers):\n",
        "    answer = []\n",
        "    p1 = [1,2,3,4,5] * 2000\n",
        "    p2 = [2,1,2,3,2,4,2,5] * 2000\n",
        "    p3 = [3,3,1,1,2,2,4,4,5,5] * 2000\n",
        "    r = [0,0,0,0]\n",
        "    for i, ans in enumerate(answers):\n",
        "        if ans == p1[i]:\n",
        "            r[1] += 1\n",
        "        if ans == p2[i]:\n",
        "            r[2] += 1\n",
        "        if ans == p3[i]:\n",
        "            r[3] += 1\n",
        "    mx = r.index(max(r))\n",
        "    if r[mx] == r[1] and mx != 1:\n",
        "        answer.append(1)\n",
        "    if r[mx] == r[2] and mx != 2:\n",
        "        answer.append(2)\n",
        "    if r[mx] == r[3] and mx != 3:\n",
        "        answer.append(3)\n",
        "    answer.append(mx)\n",
        "    answer.sort()\n",
        "    return answer"
      ],
      "metadata": {
        "id": "RDRUlFETr1sj"
      },
      "execution_count": null,
      "outputs": []
    }
  ]
}