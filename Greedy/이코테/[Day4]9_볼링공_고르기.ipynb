{
  "nbformat": 4,
  "nbformat_minor": 0,
  "metadata": {
    "colab": {
      "provenance": [],
      "collapsed_sections": [],
      "authorship_tag": "ABX9TyNDLegqHRLzAjo5QYvcoXH2",
      "include_colab_link": true
    },
    "kernelspec": {
      "name": "python3",
      "display_name": "Python 3"
    },
    "language_info": {
      "name": "python"
    }
  },
  "cells": [
    {
      "cell_type": "markdown",
      "metadata": {
        "id": "view-in-github",
        "colab_type": "text"
      },
      "source": [
        "<a href=\"https://colab.research.google.com/github/lala991204/CodingTest/blob/master/Greedy/%EC%9D%B4%EC%BD%94%ED%85%8C/%5BDay4%5D9_%EB%B3%BC%EB%A7%81%EA%B3%B5_%EA%B3%A0%EB%A5%B4%EA%B8%B0.ipynb\" target=\"_parent\"><img src=\"https://colab.research.google.com/assets/colab-badge.svg\" alt=\"Open In Colab\"/></a>"
      ]
    },
    {
      "cell_type": "code",
      "source": [
        "n,m = map(int, input().split())\n",
        "data = list(map(int, input().split()))\n",
        "\n",
        "array = [0] * 11    # 1~10 볼링 공 무게 담긴 리스트\n",
        "for x in data:\n",
        "    array[x] += 1   # count\n",
        "\n",
        "result = 0   # A고정 => B 나머지\n",
        "for i in range(1, m + 1):    # 최대 무게를 이용하라\n",
        "    n -= array[i]\n",
        "    result += n * array[i]\n",
        "print(result)"
      ],
      "metadata": {
        "id": "Y5Z1A2hZns0f",
        "colab": {
          "base_uri": "https://localhost:8080/"
        },
        "outputId": "994adccb-5ce7-475a-8e96-0aa2955b993a"
      },
      "execution_count": null,
      "outputs": [
        {
          "output_type": "stream",
          "name": "stdout",
          "text": [
            "8 5\n",
            "1 5 4 3 2 4 5 2\n",
            "25\n"
          ]
        }
      ]
    }
  ]
}