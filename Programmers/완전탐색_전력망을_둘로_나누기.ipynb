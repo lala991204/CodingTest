{
  "nbformat": 4,
  "nbformat_minor": 0,
  "metadata": {
    "colab": {
      "provenance": [],
      "authorship_tag": "ABX9TyMnkJGUYYe+qQES2qLME7uw",
      "include_colab_link": true
    },
    "kernelspec": {
      "name": "python3",
      "display_name": "Python 3"
    },
    "language_info": {
      "name": "python"
    }
  },
  "cells": [
    {
      "cell_type": "markdown",
      "metadata": {
        "id": "view-in-github",
        "colab_type": "text"
      },
      "source": [
        "<a href=\"https://colab.research.google.com/github/lala991204/CodingTest/blob/master/Programmers/%EC%99%84%EC%A0%84%ED%83%90%EC%83%89_%EC%A0%84%EB%A0%A5%EB%A7%9D%EC%9D%84_%EB%91%98%EB%A1%9C_%EB%82%98%EB%88%84%EA%B8%B0.ipynb\" target=\"_parent\"><img src=\"https://colab.research.google.com/assets/colab-badge.svg\" alt=\"Open In Colab\"/></a>"
      ]
    },
    {
      "cell_type": "code",
      "source": [
        "# wrong code\n",
        "def dfs(x, wires, cnt, visited):\n",
        "    for ind, w in enumerate(wires):\n",
        "        if x in w and visited[ind] == 0:\n",
        "            cnt += 1\n",
        "            visited[ind] = 1\n",
        "            if x == w[0]:\n",
        "                dfs(w[1], wires, cnt, visited)\n",
        "            else:\n",
        "                dfs(w[0], wires, cnt, visited)\n",
        "    return cnt\n",
        "\n",
        "def solution(n, wires):\n",
        "    m = []\n",
        "    for ind, wire in enumerate(wires):\n",
        "        a, b = wire[0], wire[1]\n",
        "        visited = [0] * n\n",
        "        visited[ind] = 1\n",
        "        t1 = dfs(a, wires, 1, visited)\n",
        "        \n",
        "        visited = [0] * n\n",
        "        visited[ind] = 1\n",
        "        t2 = dfs(b, wires, 1, visited)\n",
        "        m.append(abs(t1- t2))\n",
        "    return min(m)"
      ],
      "metadata": {
        "id": "SdFlgf50DuH7"
      },
      "execution_count": null,
      "outputs": []
    },
    {
      "cell_type": "code",
      "source": [
        "# correct code\n",
        "from collections import deque\n",
        "\n",
        "def bfs(node, tree, visited, wire, cnt):\n",
        "    queue = deque()\n",
        "    queue.append([node, tree, visited, wire])\n",
        "    visited[node] = True\n",
        "    while queue:\n",
        "        node, tree, visited, wire = queue.popleft()\n",
        "        cnt += 1\n",
        "        for i in tree[node]:\n",
        "            if not ((node == wire[0] and i == wire[1]) or (node == wire[1] and i == wire[0])):\n",
        "                if not visited[i]:\n",
        "                    visited[i] = True\n",
        "                    queue.append([i, tree, visited, wire])\n",
        "    return cnt\n",
        "    \n",
        "def solution(n, wires):\n",
        "    answer = 1e9\n",
        "    tree = [[] for _ in range(n + 1)]\n",
        "    for wire in wires:\n",
        "        a, b = wire\n",
        "        tree[a].append(b)\n",
        "        tree[b].append(a)\n",
        "        \n",
        "    for wire in wires:\n",
        "        visited = [False] * (n + 1)\n",
        "        temp = []\n",
        "        for i in range(1, n+1):\n",
        "            if not visited[i]:\n",
        "                cnt = bfs(i, tree, visited, wire, 0)\n",
        "                temp.append(cnt)\n",
        "        answer = min(answer, abs(temp[0] - temp[1]))\n",
        "    return answer"
      ],
      "metadata": {
        "id": "gg7w54JjhEnM"
      },
      "execution_count": null,
      "outputs": []
    }
  ]
}