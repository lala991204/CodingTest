{
  "nbformat": 4,
  "nbformat_minor": 0,
  "metadata": {
    "colab": {
      "provenance": [],
      "collapsed_sections": [],
      "toc_visible": true,
      "authorship_tag": "ABX9TyOB9Ha9hAcJju6g9WcC2VRi",
      "include_colab_link": true
    },
    "kernelspec": {
      "name": "python3",
      "display_name": "Python 3"
    },
    "language_info": {
      "name": "python"
    }
  },
  "cells": [
    {
      "cell_type": "markdown",
      "metadata": {
        "id": "view-in-github",
        "colab_type": "text"
      },
      "source": [
        "<a href=\"https://colab.research.google.com/github/lala991204/CodingTest/blob/master/Search/%EC%9D%B4%EC%BD%94%ED%85%8C/%5BDay_6%5D4_%EC%97%B0%EA%B5%AC%EC%86%8C.ipynb\" target=\"_parent\"><img src=\"https://colab.research.google.com/assets/colab-badge.svg\" alt=\"Open In Colab\"/></a>"
      ]
    },
    {
      "cell_type": "markdown",
      "source": [
        "# 문제"
      ],
      "metadata": {
        "id": "sih1Zvpdy3OS"
      }
    },
    {
      "cell_type": "code",
      "execution_count": null,
      "metadata": {
        "id": "nE3znlOCvl0u"
      },
      "outputs": [],
      "source": [
        "# 문제: 연구소는 크기가 N*M인 직사각형으로 나타낼 수 있으며, 직사각형은 1*1 크기의 정사각형으로 나누어져 있다.\n",
        "# 연구소는 빈칸(0), 벽(1)으로 이루어져 있으며, 벽은 칸 하나를 가득 차지한다.(정사각형이라 생각한다!)\n",
        "# 일부 칸은 바이러스가 존재(2)하며, 이 바이러스는 상하좌우로 인접한 빈칸으로 모두 퍼져나갈 수 있다.\n",
        "# 새로 세울 수 있는 벽의 개수는 3개이며, 꼭 세워야 한다.\n",
        "# 연구소의 지도가 주어졌을 때 얻을 수 있는 안전 영역 크기의 최댓값(바이러스가 퍼질 수 없는 곳 => 0의 개수)을 구하시오."
      ]
    },
    {
      "cell_type": "markdown",
      "source": [
        "# 작성 코드"
      ],
      "metadata": {
        "id": "tFKBYE4Jy7yV"
      }
    },
    {
      "cell_type": "code",
      "source": [
        "import time "
      ],
      "metadata": {
        "id": "-G8s84Tbxgsi"
      },
      "execution_count": null,
      "outputs": []
    },
    {
      "cell_type": "code",
      "source": [
        "n, m = map(int, input().split())\n",
        "map = []\n",
        "for i in range(n):\n",
        "    map.append(list(map(int, input().split())))\n",
        "\n",
        "start = time.time()\n",
        "\n",
        "\n",
        "\n",
        "end = time.time()\n",
        "print(end-start)\n",
        "\n",
        "# 오답 이유 -> 제한 시간 내 알고리즘을 생각해내지 못함."
      ],
      "metadata": {
        "colab": {
          "base_uri": "https://localhost:8080/"
        },
        "id": "G_4sCPTHwAMd",
        "outputId": "f3032b72-a955-4983-8c60-9060753de6e9"
      },
      "execution_count": null,
      "outputs": [
        {
          "output_type": "stream",
          "name": "stdout",
          "text": [
            "2.6702880859375e-05\n"
          ]
        }
      ]
    },
    {
      "cell_type": "markdown",
      "source": [
        "# 모범 답안"
      ],
      "metadata": {
        "id": "7RfxRbVNy_WD"
      }
    },
    {
      "cell_type": "code",
      "source": [
        "import time\n",
        "n,m = map(int, input().split())\n",
        "\n",
        "data = []    # 초기 맵 리스트\n",
        "temp = [[0] * m for _ in range(n)]    # 벽 설치한 뒤의 맵 리스트(행렬)\n",
        "for _ in range(n):\n",
        "    data.append(list(map(int, input().split())))\n",
        "\n",
        "start = time.time()\n",
        "dx = [-1, 0, 1, 0]\n",
        "dy = [0, 1, 0, -1]\n",
        "\n",
        "result = 0\n",
        "# DFS(깊이 우선 탐색) => 깊이적으로 갈 수 있는 부분까지 간 후, 순차적으로 이웃도 탐색\n",
        "# 즉, 각 바이러스가 사방으로 퍼지도록 하기\n",
        "def virus(x, y):\n",
        "    for i in range(4):\n",
        "        nx = x + dx[i]\n",
        "        ny = y + dy[i]\n",
        "        if nx >= 0 and nx < n and ny >= 0 and ny < m:\n",
        "            if temp[nx][ny] == 0:\n",
        "                temp[nx][ny] = 2\n",
        "                virus(nx, ny)\n",
        "\n",
        "# 현재 맵에서 안전 영역 크기 계산 (바이러스에 대해 살아남은)\n",
        "def get_score():\n",
        "    score = 0\n",
        "    for i in range(n):\n",
        "        for j in range(m):\n",
        "            if temp[i][j] == 0:\n",
        "                score += 1\n",
        "    return score\n",
        "\n",
        "# DFS(깊이 우선 탐색) => 깊이적으로 갈 수 있는 부분까지 간 후, 순차적으로 이웃도 탐색하여 울타리 설치\n",
        "# 매번 안전 영역 크기 계산\n",
        "def dfs(count):\n",
        "    global result       # result라는 전역 변수를 이용하겠다!\n",
        "    # 울타리가 3개 설치된 경우\n",
        "    if count == 3:  \n",
        "        for i in range(n):\n",
        "            for j in range(m):\n",
        "                temp[i][j] = data[i][j]\n",
        "        # 각 바이러스 위치에서 전파 진행\n",
        "        for i in range(n):\n",
        "            for j in range(m):\n",
        "                if temp[i][j] == 2:\n",
        "                    virus(i, j)\n",
        "        # 안전 영역 최댓값 계산\n",
        "        result = max(result, get_score())  # 0이상의 수를 고려하기 위해, 앞서 result=0으로 초기화함\n",
        "        return   # 호출 종료 <= 모든 3가지 조합을 보기 위해 이 부분을 넣음. 모두 보았으면 이 함수 종료되는 것.\n",
        "\n",
        "    # 빈 공간에 울타리 설치\n",
        "    # 재귀적으로 진행할 때, count==3 만족하지 않으면 다시 0으로 주고하여 이 조건 만족할 때까지 수행하도록 함. \n",
        "    for i in range(n):\n",
        "        for j in range(m):\n",
        "            if data[i][j] == 0:\n",
        "                data[i][j] = 1\n",
        "                count += 1\n",
        "                dfs(count)\n",
        "                data[i][j] = 0\n",
        "                count -= 1\n",
        "dfs(0)\n",
        "print(result)\n",
        "end = time.time()\n",
        "print(end-start)\n",
        "\n",
        "# Tip1: "
      ],
      "metadata": {
        "colab": {
          "base_uri": "https://localhost:8080/"
        },
        "id": "2iNHBpuay1fa",
        "outputId": "00f32da8-b8a1-405d-92bc-c3b01c1f32a2"
      },
      "execution_count": null,
      "outputs": [
        {
          "output_type": "stream",
          "name": "stdout",
          "text": [
            "4 6\n",
            "0 0 0 0 0 0\n",
            "1 0 0 0 0 2\n",
            "1 1 1 0 0 2\n",
            "0 0 0 0 0 2\n",
            "9\n",
            "0.19480490684509277\n"
          ]
        }
      ]
    },
    {
      "cell_type": "markdown",
      "source": [
        "# 기술 면접 대비"
      ],
      "metadata": {
        "id": "gryCrmQlnYJ3"
      }
    },
    {
      "cell_type": "code",
      "source": [
        "# 1. 울타리 3개 설치하는 모든 경우의 수 모두 계산. 그 조합의 수(맵 8*8일때 조합의 수 64_C_3)가 제한 시간보다 작으므로 가능함.\n",
        "# 참고로, 이 문제의 메모리 제한은 512MB이다. KB = 1024^1, MB = 1024^2(=2^20), GB = 1024^3(=2^30)\n",
        "# 2. 모든 조합을 계산 시에, 파이썬의 조합 라이브러리 또는 DFS/BFS 해결 가능함"
      ],
      "metadata": {
        "id": "Q5MkbWYxnbjh"
      },
      "execution_count": null,
      "outputs": []
    }
  ]
}