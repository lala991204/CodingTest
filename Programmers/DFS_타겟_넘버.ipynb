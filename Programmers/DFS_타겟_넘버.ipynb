{
  "nbformat": 4,
  "nbformat_minor": 0,
  "metadata": {
    "colab": {
      "provenance": [],
      "authorship_tag": "ABX9TyNbKn6ljFqckidWiZfqKl8/",
      "include_colab_link": true
    },
    "kernelspec": {
      "name": "python3",
      "display_name": "Python 3"
    },
    "language_info": {
      "name": "python"
    }
  },
  "cells": [
    {
      "cell_type": "markdown",
      "metadata": {
        "id": "view-in-github",
        "colab_type": "text"
      },
      "source": [
        "<a href=\"https://colab.research.google.com/github/lala991204/CodingTest/blob/master/Programmers/DFS_%ED%83%80%EA%B2%9F_%EB%84%98%EB%B2%84.ipynb\" target=\"_parent\"><img src=\"https://colab.research.google.com/assets/colab-badge.svg\" alt=\"Open In Colab\"/></a>"
      ]
    },
    {
      "cell_type": "code",
      "source": [
        "def solution(numbers, target):\n",
        "    if not numbers and target == 0:\n",
        "        return 1\n",
        "    elif not numbers:\n",
        "        return 0\n",
        "    else:\n",
        "        return solution(numbers[1:], target-numbers[0]) + solution(numbers[1:], target+numbers[0])"
      ],
      "metadata": {
        "id": "RDRUlFETr1sj"
      },
      "execution_count": null,
      "outputs": []
    }
  ]
}