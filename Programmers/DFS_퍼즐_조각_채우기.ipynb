{
  "nbformat": 4,
  "nbformat_minor": 0,
  "metadata": {
    "colab": {
      "provenance": [],
      "authorship_tag": "ABX9TyMOdk1eHXCjSHdP3TG2i/Uo",
      "include_colab_link": true
    },
    "kernelspec": {
      "name": "python3",
      "display_name": "Python 3"
    },
    "language_info": {
      "name": "python"
    }
  },
  "cells": [
    {
      "cell_type": "markdown",
      "metadata": {
        "id": "view-in-github",
        "colab_type": "text"
      },
      "source": [
        "<a href=\"https://colab.research.google.com/github/lala991204/CodingTest/blob/master/Programmers/DFS_%ED%8D%BC%EC%A6%90_%EC%A1%B0%EA%B0%81_%EC%B1%84%EC%9A%B0%EA%B8%B0.ipynb\" target=\"_parent\"><img src=\"https://colab.research.google.com/assets/colab-badge.svg\" alt=\"Open In Colab\"/></a>"
      ]
    },
    {
      "cell_type": "code",
      "source": [
        "import copy\n",
        "\n",
        "def solution(game_board, table):\n",
        "    n = len(game_board)\n",
        "    answer = 0\n",
        "    blank = []\n",
        "    for i in range(n):\n",
        "        for j in range(n):\n",
        "            if game_board[i][j] == 0:\n",
        "                blank.append(dfs(game_board, i, j, [0, 0], n, 0))\n",
        "    for k in range(4):\n",
        "        table = rotate(table)\n",
        "        copy_table = copy.deepcopy(table)\n",
        "        for i in range(n):\n",
        "            for j in range(n):\n",
        "                if copy_table[i][j] == 1:\n",
        "                    block = dfs(copy_table, i, j, [0, 0], n, 1)\n",
        "                    if block in blank:\n",
        "                        blank.remove(block)\n",
        "                        answer += len(block)\n",
        "                        table = copy.deepcopy(copy_table)\n",
        "                    else:\n",
        "                        copy_table = copy.deepcopy(table)\n",
        "    return answer\n",
        "\n",
        "def dfs(board, x, y, position, n, num):\n",
        "    dx = [-1,1,0,0]\n",
        "    dy = [0,0,-1,1]\n",
        "    result = [position]\n",
        "    board[x][y] = 2\n",
        "    for i in range(4):\n",
        "        px = x + dx[i]\n",
        "        py = y + dy[i]\n",
        "        if 0 <= px and px < n and 0 <= py and py < n:\n",
        "            if board[px][py] == num:\n",
        "                result += dfs(board, px, py, [position[0] + dx[i], position[1] + dy[i]], n, num)               \n",
        "    return result\n",
        "\n",
        "\n",
        "def rotate(table):\n",
        "    n = len(table)\n",
        "    rotated = [[0] * n for _ in range(n)]\n",
        "    for i in range(n):\n",
        "        for j in range(n):\n",
        "            rotated[j][n-i-1] = table[i][j]\n",
        "    return rotated"
      ],
      "metadata": {
        "id": "TB6Xv86G4c5-"
      },
      "execution_count": null,
      "outputs": []
    }
  ]
}