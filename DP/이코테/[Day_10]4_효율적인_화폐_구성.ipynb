{
  "nbformat": 4,
  "nbformat_minor": 0,
  "metadata": {
    "colab": {
      "provenance": [],
      "collapsed_sections": [],
      "toc_visible": true,
      "authorship_tag": "ABX9TyPv0t0HOMBE52L+1CodvnpU",
      "include_colab_link": true
    },
    "kernelspec": {
      "name": "python3",
      "display_name": "Python 3"
    },
    "language_info": {
      "name": "python"
    }
  },
  "cells": [
    {
      "cell_type": "markdown",
      "metadata": {
        "id": "view-in-github",
        "colab_type": "text"
      },
      "source": [
        "<a href=\"https://colab.research.google.com/github/lala991204/CodingTest/blob/master/DP/%EC%9D%B4%EC%BD%94%ED%85%8C/%5BDay_10%5D4_%ED%9A%A8%EC%9C%A8%EC%A0%81%EC%9D%B8_%ED%99%94%ED%8F%90_%EA%B5%AC%EC%84%B1.ipynb\" target=\"_parent\"><img src=\"https://colab.research.google.com/assets/colab-badge.svg\" alt=\"Open In Colab\"/></a>"
      ]
    },
    {
      "cell_type": "code",
      "source": [
        "n, m = map(int, input().split())\n",
        "array = []\n",
        "for i in range(n):\n",
        "    array.append(int(input()))\n",
        "\n",
        "d = [10001] * (m + 1) \n",
        "d[0] = 0   \n",
        "for i in range(n):\n",
        "    for j in range(array[i], m + 1):\n",
        "        if d[j - array[i]] != 10001:   # 현 탐색부분과 화폐단위의 차액을 계산하는 방법이 존재할 때\n",
        "            d[j] = min(d[j], d[j - array[i]] + 1)  # 최소한이 되는 부분으로 현 탐색부분에 저장\n",
        "\n",
        "if d[m] == 10001:\n",
        "    print(-1)\n",
        "else:\n",
        "    print(d[m])"
      ],
      "metadata": {
        "id": "Q5MkbWYxnbjh",
        "colab": {
          "base_uri": "https://localhost:8080/"
        },
        "outputId": "d7d01cca-10a7-4065-c520-fe1f6ffafab3"
      },
      "execution_count": 1,
      "outputs": [
        {
          "output_type": "stream",
          "name": "stdout",
          "text": [
            "2 15\n",
            "3\n",
            "5\n",
            "3\n"
          ]
        }
      ]
    }
  ]
}