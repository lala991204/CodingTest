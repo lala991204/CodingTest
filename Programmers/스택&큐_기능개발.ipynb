{
  "nbformat": 4,
  "nbformat_minor": 0,
  "metadata": {
    "colab": {
      "provenance": [],
      "authorship_tag": "ABX9TyNpJ+VFFbJ2dlgeg/I5euWE",
      "include_colab_link": true
    },
    "kernelspec": {
      "name": "python3",
      "display_name": "Python 3"
    },
    "language_info": {
      "name": "python"
    }
  },
  "cells": [
    {
      "cell_type": "markdown",
      "metadata": {
        "id": "view-in-github",
        "colab_type": "text"
      },
      "source": [
        "<a href=\"https://colab.research.google.com/github/lala991204/CodingTest/blob/master/Programmers/%EC%8A%A4%ED%83%9D%26%ED%81%90_%EA%B8%B0%EB%8A%A5%EA%B0%9C%EB%B0%9C.ipynb\" target=\"_parent\"><img src=\"https://colab.research.google.com/assets/colab-badge.svg\" alt=\"Open In Colab\"/></a>"
      ]
    },
    {
      "cell_type": "code",
      "source": [
        "import math \n",
        "\n",
        "def solution(progresses, speeds):\n",
        "    answer = []\n",
        "    time = [math.ceil((100-progresses[i])/speeds[i]) for i in range(len(progresses))]\n",
        "    s = time[0]\n",
        "    cnt = 1\n",
        "    for i in time[1:]:\n",
        "        if s < i:\n",
        "            s = i\n",
        "            answer.append(cnt)\n",
        "            cnt = 1\n",
        "        else:\n",
        "            cnt += 1\n",
        "    answer.append(cnt)\n",
        "    return answer"
      ],
      "metadata": {
        "id": "SdFlgf50DuH7"
      },
      "execution_count": null,
      "outputs": []
    }
  ]
}