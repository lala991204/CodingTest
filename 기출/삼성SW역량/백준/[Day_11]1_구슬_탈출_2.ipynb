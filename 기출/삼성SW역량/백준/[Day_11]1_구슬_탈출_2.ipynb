{
  "nbformat": 4,
  "nbformat_minor": 0,
  "metadata": {
    "colab": {
      "provenance": [],
      "collapsed_sections": [],
      "authorship_tag": "ABX9TyPKDlPWizVznOYuJICgpMCh",
      "include_colab_link": true
    },
    "kernelspec": {
      "name": "python3",
      "display_name": "Python 3"
    },
    "language_info": {
      "name": "python"
    }
  },
  "cells": [
    {
      "cell_type": "markdown",
      "metadata": {
        "id": "view-in-github",
        "colab_type": "text"
      },
      "source": [
        "<a href=\"https://colab.research.google.com/github/lala991204/CodingTest/blob/master/%EA%B8%B0%EC%B6%9C/%EC%82%BC%EC%84%B1SW%EC%97%AD%EB%9F%89/%EB%B0%B1%EC%A4%80/%5BDay_11%5D1_%EA%B5%AC%EC%8A%AC_%ED%83%88%EC%B6%9C_2.ipynb\" target=\"_parent\"><img src=\"https://colab.research.google.com/assets/colab-badge.svg\" alt=\"Open In Colab\"/></a>"
      ]
    },
    {
      "cell_type": "code",
      "source": [
        "from collections import deque\n",
        "\n",
        "n, m = map(int, input().split())\n",
        "board = []\n",
        "for i in range(n):\n",
        "    board.append(list(input()))       # CHECK(공백이 없는 input값은 split()없이.)\n",
        "    for j in range(m):\n",
        "        if board[i][j] == 'R':\n",
        "            rx, ry = i, j\n",
        "        elif board[i][j] == 'B':\n",
        "            bx, by = i, j \n",
        "\n",
        "dx = [-1,1,0,0]\n",
        "dy = [0,0,-1,1]\n",
        "def bfs(rx, ry, bx, by):\n",
        "    q = deque()\n",
        "    q.append((rx, ry, bx, by))\n",
        "    visited = []\n",
        "    visited.append((rx, ry, bx, by))\n",
        "    count = 0\n",
        "    while q:\n",
        "        for _ in range(len(q)):\n",
        "            rx, ry, bx, by = q.popleft()     # queue에서 popleft하고 바로 조건 확인\n",
        "            if count > 10:\n",
        "                print(-1)\n",
        "                return   # 함수 종료\n",
        "            if board[rx][ry] == 'O':\n",
        "                print(count)\n",
        "                return\n",
        "            for i in range(4):\n",
        "                nrx, nry = rx, ry\n",
        "                while True:\n",
        "                    nrx += dx[i]\n",
        "                    nry += dy[i]\n",
        "                    if board[nrx][nry] == '#':\n",
        "                        nrx -= dx[i]\n",
        "                        nry -= dy[i]\n",
        "                        break       # 복구 후, while문 빠져나옴\n",
        "                    elif board[nrx][nry] == 'O':\n",
        "                        break\n",
        "                \n",
        "                nbx, nby = bx, by\n",
        "                while True:\n",
        "                    nbx += dx[i]\n",
        "                    nby += dy[i]\n",
        "                    if board[nbx][nby] == '#':\n",
        "                        nbx -= dx[i]\n",
        "                        nby -= dy[i]\n",
        "                        break\n",
        "                    elif board[nbx][nby] == 'O':\n",
        "                        break\n",
        "                \n",
        "                if board[nbx][nby] == 'O':\n",
        "                    continue        # 블루 공이 먼저 들어가거나 동시 들어가면 이 반복문은 무시하라.\n",
        "                if nbx == nrx and nby == nry:      # 둘 위치가 같게 할 수는 없으니\n",
        "                    if abs(nbx - bx) + abs(nby - by) > abs(nrx - rx) + abs(nry - ry):  # CHECK(차는 abs라구!)  # 해당 방향으로 더 많이 간 쪽이 back함\n",
        "                        nbx -= dx[i]\n",
        "                        nby -= dy[i]\n",
        "                    else:                  # CHECK\n",
        "                        nrx -= dx[i]\n",
        "                        nry -= dy[i]\n",
        "                if (nrx, nry, nbx, nby) not in visited:\n",
        "                    q.append((nrx, nry, nbx, nby))\n",
        "                    visited.append((nrx, nry, nbx, nby))\n",
        "        count += 1\n",
        "    print(-1)      # 큐가 빌 때까지 아무 일도 일어나지 않으면 -1\n",
        "bfs(rx, ry, bx, by)"
      ],
      "metadata": {
        "colab": {
          "base_uri": "https://localhost:8080/"
        },
        "id": "G_4sCPTHwAMd",
        "outputId": "9fdaa757-575b-4a2e-94eb-8b9e5a2d2472"
      },
      "execution_count": 1,
      "outputs": [
        {
          "output_type": "stream",
          "name": "stdout",
          "text": [
            "3 7\n",
            "#######\n",
            "#R.O.B#\n",
            "#######\n",
            "1\n"
          ]
        }
      ]
    },
    {
      "cell_type": "code",
      "source": [
        "# 삼성 기출문제 특성상 구현 즉 시뮬레이션 유형도 포함이 되어 있는 문제임"
      ],
      "metadata": {
        "id": "Q5MkbWYxnbjh"
      },
      "execution_count": null,
      "outputs": []
    }
  ]
}