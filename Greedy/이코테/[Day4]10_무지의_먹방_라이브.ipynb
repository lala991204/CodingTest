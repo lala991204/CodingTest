{
  "nbformat": 4,
  "nbformat_minor": 0,
  "metadata": {
    "colab": {
      "name": "[Day4]10.무지의 먹방 라이브.ipynb",
      "provenance": [],
      "collapsed_sections": [],
      "authorship_tag": "ABX9TyNCmtdI3awzCVntCEGVVYmO",
      "include_colab_link": true
    },
    "kernelspec": {
      "name": "python3",
      "display_name": "Python 3"
    },
    "language_info": {
      "name": "python"
    }
  },
  "cells": [
    {
      "cell_type": "markdown",
      "metadata": {
        "id": "view-in-github",
        "colab_type": "text"
      },
      "source": [
        "<a href=\"https://colab.research.google.com/github/lala991204/CodingTest/blob/master/Greedy/%EC%9D%B4%EC%BD%94%ED%85%8C/%5BDay4%5D10_%EB%AC%B4%EC%A7%80%EC%9D%98_%EB%A8%B9%EB%B0%A9_%EB%9D%BC%EC%9D%B4%EB%B8%8C.ipynb\" target=\"_parent\"><img src=\"https://colab.research.google.com/assets/colab-badge.svg\" alt=\"Open In Colab\"/></a>"
      ]
    },
    {
      "cell_type": "markdown",
      "source": [
        "# 문제"
      ],
      "metadata": {
        "id": "sih1Zvpdy3OS"
      }
    },
    {
      "cell_type": "code",
      "execution_count": null,
      "metadata": {
        "id": "nE3znlOCvl0u"
      },
      "outputs": [],
      "source": [
        "# 문제 및 채점 확인: https://school.programmers.co.kr/learn/courses/30/lessons/42891"
      ]
    },
    {
      "cell_type": "markdown",
      "source": [
        "# 작성 코드"
      ],
      "metadata": {
        "id": "tFKBYE4Jy7yV"
      }
    },
    {
      "cell_type": "code",
      "source": [
        "import time "
      ],
      "metadata": {
        "id": "MiCxqmMbzpWZ"
      },
      "execution_count": 2,
      "outputs": []
    },
    {
      "cell_type": "code",
      "source": [
        "start = time.time()\n",
        "def solution(food_times, k):\n",
        "    w2 = 0\n",
        "    for r in range(k):    # 반복 횟수\n",
        "        if food_times[w2%len(food_times)] != 0:\n",
        "            food_times[w2%len(food_times)] -= 1\n",
        "            w2 += 1\n",
        "        else:      \n",
        "            zro = []\n",
        "            for w in range(w2+1, w2+len(food_times)):\n",
        "                w1 = w%len(food_times)\n",
        "                if food_times[w1] != 0:\n",
        "                    food_times[w1] -= 1\n",
        "                    w2 = w+1   # 그 다음순서부터 진행하도록\n",
        "                    break\n",
        "                else:\n",
        "                    zro.append(0)\n",
        "                    continue\n",
        "            if len(zro) == (len(food_times)-1):\n",
        "                return -1\n",
        "\n",
        "    # 현재 위에서 진행된 인덱스 번호가 w2에 저장됨 => 0이 없는 부분을 찾으면 됨\n",
        "    zro = []\n",
        "    for w in range(w2, w2+len(food_times)):\n",
        "        w1 = w%len(food_times)\n",
        "        if food_times[w1] != 0:\n",
        "            # answer = w1  # 인덱스 저장\n",
        "            break\n",
        "        else:\n",
        "            zro.append(0)\n",
        "            continue\n",
        "    if len(zro) == len(food_times):\n",
        "        return -1\n",
        "    \n",
        "\n",
        "    answer = w1+1    # 인덱스 번호가 아닌 실제 번호\n",
        "    return answer\n",
        "print(solution([3,10,8],15))\n",
        "end = time.time()\n",
        "print(end-start)\n",
        "\n",
        "##프로그래머스 채점 결과\n",
        "#정확성: 42.9\n",
        "#효율성: 0.0\n",
        "#합계: 42.9 / 100.0\n",
        "\n",
        "## 효율적 알고리즘에 대한 방법론이 아직 많이 부족한 단계임. 물론, 해결하는 시간도 1시간만에 해결(30분 제한시간이지만)"
      ],
      "metadata": {
        "colab": {
          "base_uri": "https://localhost:8080/"
        },
        "id": "G_4sCPTHwAMd",
        "outputId": "4d2f4f9f-2c34-40d7-cc97-091e78d504df"
      },
      "execution_count": 8,
      "outputs": [
        {
          "output_type": "stream",
          "name": "stdout",
          "text": [
            "2\n",
            "0.004189491271972656\n"
          ]
        }
      ]
    },
    {
      "cell_type": "markdown",
      "source": [
        "# 모범 답안"
      ],
      "metadata": {
        "id": "7RfxRbVNy_WD"
      }
    },
    {
      "cell_type": "code",
      "source": [
        "start = time.time()\n",
        "import heapq\n",
        "\n",
        "def solution(food_times, k):\n",
        "    # 전체 음식을 먹는 시간보다 k가 크거나 같다면 -1 => 모두 0이 되기 때문 => 미리 선택지에서 제외하는 것임!\n",
        "    if sum(food_times) <= k:\n",
        "        return -1\n",
        "    \n",
        "    # (Greedy 알고리즘을 위해)시간이 작은 음식부터 빼야 하므로 우선순위 큐를 이용 \n",
        "    q = []\n",
        "    for i in range(len(food_times)):\n",
        "        # (음식 시간, 음식 번호) 형태로 우선순위 큐에 삽입 (음식 시간 가장 작은것부터 들어가고 나오도록 즉, 선입선출)\n",
        "        heapq.heappush(q, (food_times[i], i+1))    # index는 1부터 시작하도록\n",
        "    \n",
        "    sum_value = 0   # 먹기 위해 사용한 시간\n",
        "    previous = 0    # 직전에 다 먹은 음식 시간\n",
        "    length = len(food_times)   # 남은 음식의 개수\n",
        "    \n",
        "    # \"sum_value + (현재의 음식 시간 - 이전의 음식 시간) * 현재의 음식 개수\"와 k 비교\n",
        "    while sum_value + ((q[0][0] - previous) * length) <= k:     # 현재의 음식 시간에서 더 이상 선택지에서 제외할 것이 없을 때까지\n",
        "        now = heapq.heappop(q)[0]      # 현재의 음식 시간\n",
        "        sum_value += (now - previous) * length     # 이미 먹은 previous만큼 제외하고 봐야 함.\n",
        "        length -= 1   # 다 먹은 음식 제외\n",
        "        previous = now    # 이전 음식 시간 재설정\n",
        "        \n",
        "    # \"남은 음식 중에서 몇 번째 음식인지\" 확인하여 출력 (선택지에서 제외할 것이 없다면 음식 순서대로 나열)\n",
        "    result = sorted(q, key = lambda x: x[1])    # q를 음식의 번호 기준(key)으로 정렬\n",
        "    return result[(k - sum_value) % length][1]  \n",
        "print(solution([3,10,8],15))\n",
        "end = time.time()\n",
        "print(end-start)\n",
        "\n",
        "##채점 결과\n",
        "#정확성: 42.9                                 \n",
        "#효율성: 57.1\n",
        "#합계: 100.0 / 100.0\n",
        "\n",
        "# Tip1: 시간이 적게 걸리는 음식부터 확인하는(=>당장 좋은 것부터) 탐욕적(Greedy) 접근 방식으로 해결 가능하다.\n",
        "# 이를 위해 우선순위 큐를 이용할 수 있는데, heapq 이용. (다익스트라 알고리즘 part)\n",
        "# 다만, 문제를 풀기 위해 고려해야 하는 부분이 많아 까다로울 수 있다.\n",
        "\n",
        "# EX: k=15, [3 10 8]  => 정렬: [3 8 10]  => \"3\"*3='9' <= 15     9+(\"8\"-3)*2=19 > 15  => 음식순서대로 정렬: [10, 8] => (15-'9')%3 = 2번째 음식(\"10\"에 해당하는)이 정답"
      ],
      "metadata": {
        "colab": {
          "base_uri": "https://localhost:8080/"
        },
        "id": "2iNHBpuay1fa",
        "outputId": "08230d8a-6cab-41d6-e8f2-f10e3ba6167a"
      },
      "execution_count": 7,
      "outputs": [
        {
          "output_type": "stream",
          "name": "stdout",
          "text": [
            "2\n",
            "0.0004208087921142578\n"
          ]
        }
      ]
    },
    {
      "cell_type": "markdown",
      "source": [
        "# 기술 면접 대비"
      ],
      "metadata": {
        "id": "gryCrmQlnYJ3"
      }
    },
    {
      "cell_type": "code",
      "source": [
        "# 1. 이해는 되지만 안 보고 하는 연습 필요"
      ],
      "metadata": {
        "id": "Q5MkbWYxnbjh"
      },
      "execution_count": null,
      "outputs": []
    }
  ]
}