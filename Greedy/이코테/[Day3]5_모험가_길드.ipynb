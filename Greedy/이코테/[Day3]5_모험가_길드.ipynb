{
  "nbformat": 4,
  "nbformat_minor": 0,
  "metadata": {
    "colab": {
      "provenance": [],
      "collapsed_sections": [],
      "authorship_tag": "ABX9TyODpBSsZhyN+GWdAUwgU1Ii",
      "include_colab_link": true
    },
    "kernelspec": {
      "name": "python3",
      "display_name": "Python 3"
    },
    "language_info": {
      "name": "python"
    }
  },
  "cells": [
    {
      "cell_type": "markdown",
      "metadata": {
        "id": "view-in-github",
        "colab_type": "text"
      },
      "source": [
        "<a href=\"https://colab.research.google.com/github/lala991204/CodingTest/blob/master/Greedy/%EC%9D%B4%EC%BD%94%ED%85%8C/%5BDay3%5D5_%EB%AA%A8%ED%97%98%EA%B0%80_%EA%B8%B8%EB%93%9C.ipynb\" target=\"_parent\"><img src=\"https://colab.research.google.com/assets/colab-badge.svg\" alt=\"Open In Colab\"/></a>"
      ]
    },
    {
      "cell_type": "code",
      "source": [
        "n = int(input())\n",
        "data = list(map(int, input().split()))\n",
        "\n",
        "data.sort()   # 낮은 공포도부터 구성해야 최대 수 그룹 구성 가능. => 중요 부분!!!\n",
        "# 고로, 항상 최소한의 모험가 수를 포함한 그룹 결성 가능 => 최대 그룹 수 나옴 (단, 모든 모험가가 구성할 필요없다는 조건 있음.)\n",
        "count = 0  # 현 그룹 사람 수\n",
        "result = 0    # 그룹 총 수\n",
        "for i in data:         \n",
        "    count += 1\n",
        "    if count >= i:     # if reach for scaring\n",
        "        result += 1\n",
        "        count = 0\n",
        "print(result)"
      ],
      "metadata": {
        "colab": {
          "base_uri": "https://localhost:8080/"
        },
        "id": "2iNHBpuay1fa",
        "outputId": "9c11301f-dc82-4657-af33-eb070aa634a6"
      },
      "execution_count": 1,
      "outputs": [
        {
          "output_type": "stream",
          "name": "stdout",
          "text": [
            "5\n",
            "2 4 1 2 2\n",
            "2\n"
          ]
        }
      ]
    },
    {
      "cell_type": "code",
      "source": [],
      "metadata": {
        "id": "kakWgDDrF7I-"
      },
      "execution_count": null,
      "outputs": []
    }
  ]
}