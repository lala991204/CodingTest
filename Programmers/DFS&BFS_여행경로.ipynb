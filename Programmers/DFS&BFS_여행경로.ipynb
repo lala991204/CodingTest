{
  "nbformat": 4,
  "nbformat_minor": 0,
  "metadata": {
    "colab": {
      "provenance": [],
      "authorship_tag": "ABX9TyNOgTUVvB5TYnbF0BetiedZ",
      "include_colab_link": true
    },
    "kernelspec": {
      "name": "python3",
      "display_name": "Python 3"
    },
    "language_info": {
      "name": "python"
    }
  },
  "cells": [
    {
      "cell_type": "markdown",
      "metadata": {
        "id": "view-in-github",
        "colab_type": "text"
      },
      "source": [
        "<a href=\"https://colab.research.google.com/github/lala991204/CodingTest/blob/master/Programmers/DFS%26BFS_%EC%97%AC%ED%96%89%EA%B2%BD%EB%A1%9C.ipynb\" target=\"_parent\"><img src=\"https://colab.research.google.com/assets/colab-badge.svg\" alt=\"Open In Colab\"/></a>"
      ]
    },
    {
      "cell_type": "code",
      "source": [
        "# DFS\n",
        "def solution(tickets):\n",
        "    answer = []\n",
        "    visited = [False] * len(tickets)\n",
        "    def dfs(airport, path):\n",
        "        if len(path) == len(tickets) + 1:\n",
        "            answer.append(path)\n",
        "            return\n",
        "        \n",
        "        for idx, ticket in enumerate(tickets):\n",
        "            if airport == ticket[0] and visited[idx] == False:\n",
        "                visited[idx] = True\n",
        "                dfs(ticket[1], path + [ticket[1]])\n",
        "                visited[idx] = False\n",
        "    dfs(\"ICN\", [\"ICN\"])\n",
        "    answer.sort()\n",
        "    return answer[0]"
      ],
      "metadata": {
        "id": "yWmyAmHgVxhY"
      },
      "execution_count": 13,
      "outputs": []
    },
    {
      "cell_type": "code",
      "source": [
        "# BFS\n",
        "from collections import deque\n",
        "def solution(tickets):\n",
        "    answer = []\n",
        "    q = deque()\n",
        "    q.append((\"ICN\", [\"ICN\"], []))\n",
        "    while q:\n",
        "        airport, path, used = q.popleft()\n",
        "        if len(used) == len(tickets):\n",
        "            answer.append(path)\n",
        "\n",
        "        for idx, ticket in enumerate(tickets):\n",
        "            if ticket[0] == airport and not idx in used:\n",
        "                q.append((ticket[1], path + [ticket[1]], used + [idx]))\n",
        "    answer.sort()\n",
        "    return answer[0]"
      ],
      "metadata": {
        "id": "FZK9EvA2Vxey"
      },
      "execution_count": 14,
      "outputs": []
    }
  ]
}