{
  "nbformat": 4,
  "nbformat_minor": 0,
  "metadata": {
    "colab": {
      "provenance": [],
      "collapsed_sections": [],
      "authorship_tag": "ABX9TyP/cKpVqvInsxGrj8Iqlfxc",
      "include_colab_link": true
    },
    "kernelspec": {
      "name": "python3",
      "display_name": "Python 3"
    },
    "language_info": {
      "name": "python"
    }
  },
  "cells": [
    {
      "cell_type": "markdown",
      "metadata": {
        "id": "view-in-github",
        "colab_type": "text"
      },
      "source": [
        "<a href=\"https://colab.research.google.com/github/lala991204/CodingTest/blob/master/Greedy/%EC%9D%B4%EC%BD%94%ED%85%8C/%5BDay1%5D2_%ED%81%B0_%EC%88%98%EC%9D%98_%EB%B2%95%EC%B9%99.ipynb\" target=\"_parent\"><img src=\"https://colab.research.google.com/assets/colab-badge.svg\" alt=\"Open In Colab\"/></a>"
      ]
    },
    {
      "cell_type": "code",
      "source": [
        "n, m, k = map(int, input().split())  # n은 배열 길이, m는 더해지는 갯수, k은 초과하지 않는 수\n",
        "data = list(map(int, input().split()))\n",
        "data.sort()\n",
        "\n",
        "first = data[-1]       # (cf: n이용하려면 여기 n-1로 넣으면 됨)\n",
        "second = data[-2]\n",
        "count = (m//(k+1))*k\n",
        "count += m % (k+1)\n",
        "print(count * first + (m - count) * second)"
      ],
      "metadata": {
        "id": "K0rogXBriE19",
        "outputId": "499d3534-4baf-4922-b783-15f35e774fcb",
        "colab": {
          "base_uri": "https://localhost:8080/"
        }
      },
      "execution_count": null,
      "outputs": [
        {
          "output_type": "stream",
          "name": "stdout",
          "text": [
            "5 8 3\n",
            "2 4 5 4 6\n",
            "46\n"
          ]
        }
      ]
    },
    {
      "cell_type": "code",
      "source": [],
      "metadata": {
        "id": "Vf1Tob6rFfXq"
      },
      "execution_count": null,
      "outputs": []
    }
  ]
}