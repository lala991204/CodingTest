{
  "nbformat": 4,
  "nbformat_minor": 0,
  "metadata": {
    "colab": {
      "provenance": [],
      "collapsed_sections": [],
      "toc_visible": true,
      "authorship_tag": "ABX9TyMFJ71ctO1Fn7313F4hkpm2",
      "include_colab_link": true
    },
    "kernelspec": {
      "name": "python3",
      "display_name": "Python 3"
    },
    "language_info": {
      "name": "python"
    }
  },
  "cells": [
    {
      "cell_type": "markdown",
      "metadata": {
        "id": "view-in-github",
        "colab_type": "text"
      },
      "source": [
        "<a href=\"https://colab.research.google.com/github/lala991204/CodingTest/blob/master/DP/%EC%9D%B4%EC%BD%94%ED%85%8C/%5BDay_9%5D3_%EB%B0%94%EB%8B%A5_%EA%B3%B5%EC%82%AC.ipynb\" target=\"_parent\"><img src=\"https://colab.research.google.com/assets/colab-badge.svg\" alt=\"Open In Colab\"/></a>"
      ]
    },
    {
      "cell_type": "markdown",
      "source": [
        "# 문제"
      ],
      "metadata": {
        "id": "sih1Zvpdy3OS"
      }
    },
    {
      "cell_type": "code",
      "execution_count": null,
      "metadata": {
        "id": "nE3znlOCvl0u"
      },
      "outputs": [],
      "source": [
        "# 문제: 가로 길이가 N, 세로 길이가 2인 직사각형 형태의 얇은 바닥이 있다.(2*N) \n",
        "# 태일이는 이 얇은 바닥을 1*2 덮개, 2*1 덮개, 2*2 덮개로 채우고자 한다.\n",
        "# 이때 바닥을 채우는 모든 경우의 수를 구하는 프로그램 작성하시오."
      ]
    },
    {
      "cell_type": "markdown",
      "source": [
        "# 작성 코드"
      ],
      "metadata": {
        "id": "tFKBYE4Jy7yV"
      }
    },
    {
      "cell_type": "code",
      "source": [
        "import time "
      ],
      "metadata": {
        "id": "-G8s84Tbxgsi"
      },
      "execution_count": 2,
      "outputs": []
    },
    {
      "cell_type": "code",
      "source": [
        "N = int(input())\n",
        "\n",
        "start = time.time()\n",
        "\n",
        "\n",
        "\n",
        "end = time.time()\n",
        "print(end-start)\n",
        "\n",
        "# 오답 이유 -> 그림으로 그려서 경우의 수를 생각할 수는 있는데 알고리즘을 못 짰음."
      ],
      "metadata": {
        "colab": {
          "base_uri": "https://localhost:8080/"
        },
        "id": "G_4sCPTHwAMd",
        "outputId": "f3032b72-a955-4983-8c60-9060753de6e9"
      },
      "execution_count": null,
      "outputs": [
        {
          "output_type": "stream",
          "name": "stdout",
          "text": [
            "2.6702880859375e-05\n"
          ]
        }
      ]
    },
    {
      "cell_type": "markdown",
      "source": [
        "# 모범 답안"
      ],
      "metadata": {
        "id": "7RfxRbVNy_WD"
      }
    },
    {
      "cell_type": "code",
      "source": [
        "n = int(input())\n",
        "\n",
        "start = time.time()\n",
        "# 앞서 계산된 결과를 저장할 DP 테이블 초기화 (숫자 제한 참고, 인덱스 0도 포함함)\n",
        "d = [0] * 1001\n",
        "\n",
        "# DP의 보텀업 방식\n",
        "d[1] = 1\n",
        "d[2] = 3\n",
        "for i in range(3, n+1):\n",
        "    d[i] = (d[i-1] + 2 * d[i-2]) % 796796\n",
        "\n",
        "print(d[n])\n",
        "end = time.time()\n",
        "print(end-start)\n",
        "\n",
        "# Tip1: 왼쪽부터 덮개를 채운다고 할 때, i-1까지 채워져 있다면 2*1 덮개 채우는 하나의 경우 밖에 없고\n",
        "# i-2까지 채워져 있다면 1*2 덮개 2개 채우는 경우, 혹은 2*2 덮개 하나를 넣는 경우 총 2가지 경우가 존재한다.\n",
        "# 참고로, 2*1 덮개 두 개 덮는 경우는 이미 맨 위의 경우에서 고려되었으므로!"
      ],
      "metadata": {
        "colab": {
          "base_uri": "https://localhost:8080/"
        },
        "id": "2iNHBpuay1fa",
        "outputId": "f447f0e2-451b-4a0e-ab14-7c8f11a4df93"
      },
      "execution_count": 3,
      "outputs": [
        {
          "output_type": "stream",
          "name": "stdout",
          "text": [
            "3\n",
            "5\n",
            "0.0012936592102050781\n"
          ]
        }
      ]
    },
    {
      "cell_type": "markdown",
      "source": [
        "# 기술 면접 대비"
      ],
      "metadata": {
        "id": "gryCrmQlnYJ3"
      }
    },
    {
      "cell_type": "code",
      "source": [
        "# 1.덮개의 형태가 최대 2*2 크기의 직사각형 형태이므로 바닥을 채울 수 있는 형태는 위에서 언급한 경우밖에 없으므로\n",
        "# 위의 점화식을 세울 수 있고 이로써 보텀업 DP를 이용해 간략히 표현 가능하다."
      ],
      "metadata": {
        "id": "Q5MkbWYxnbjh"
      },
      "execution_count": null,
      "outputs": []
    }
  ]
}