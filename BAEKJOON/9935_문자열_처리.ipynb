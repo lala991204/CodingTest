{
  "nbformat": 4,
  "nbformat_minor": 0,
  "metadata": {
    "colab": {
      "provenance": [],
      "authorship_tag": "ABX9TyOXYSnn2MfV3PH4Ajg/Yjs+",
      "include_colab_link": true
    },
    "kernelspec": {
      "name": "python3",
      "display_name": "Python 3"
    },
    "language_info": {
      "name": "python"
    }
  },
  "cells": [
    {
      "cell_type": "markdown",
      "metadata": {
        "id": "view-in-github",
        "colab_type": "text"
      },
      "source": [
        "<a href=\"https://colab.research.google.com/github/lala991204/CodingTest/blob/master/BAEKJOON/9935_%EB%AC%B8%EC%9E%90%EC%97%B4_%EC%B2%98%EB%A6%AC.ipynb\" target=\"_parent\"><img src=\"https://colab.research.google.com/assets/colab-badge.svg\" alt=\"Open In Colab\"/></a>"
      ]
    },
    {
      "cell_type": "code",
      "source": [
        "def main():\n",
        "    s = input()\n",
        "    comp = input()\n",
        "    answer = []\n",
        "    for i in s:\n",
        "        answer.append(i)\n",
        "        if i == comp[-1] and ''.join(answer[-len(comp):]) == comp:\n",
        "            del answer[-len(comp):]\n",
        "    ans = ''.join(answer)\n",
        "    if ans == '':\n",
        "        print('FRULA')\n",
        "    else:\n",
        "        print(ans)\n",
        "\n",
        "if __name__ == '__main__':\n",
        "    main()"
      ],
      "metadata": {
        "id": "yWmyAmHgVxhY"
      },
      "execution_count": null,
      "outputs": []
    }
  ]
}