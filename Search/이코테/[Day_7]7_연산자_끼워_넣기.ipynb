{
  "nbformat": 4,
  "nbformat_minor": 0,
  "metadata": {
    "colab": {
      "provenance": [],
      "collapsed_sections": [],
      "toc_visible": true,
      "authorship_tag": "ABX9TyNGjPMr69L6IeJVdKMJQuju",
      "include_colab_link": true
    },
    "kernelspec": {
      "name": "python3",
      "display_name": "Python 3"
    },
    "language_info": {
      "name": "python"
    }
  },
  "cells": [
    {
      "cell_type": "markdown",
      "metadata": {
        "id": "view-in-github",
        "colab_type": "text"
      },
      "source": [
        "<a href=\"https://colab.research.google.com/github/lala991204/CodingTest/blob/master/Search/%EC%9D%B4%EC%BD%94%ED%85%8C/%5BDay_7%5D7_%EC%97%B0%EC%82%B0%EC%9E%90_%EB%81%BC%EC%9B%8C_%EB%84%A3%EA%B8%B0.ipynb\" target=\"_parent\"><img src=\"https://colab.research.google.com/assets/colab-badge.svg\" alt=\"Open In Colab\"/></a>"
      ]
    },
    {
      "cell_type": "markdown",
      "source": [
        "# 문제"
      ],
      "metadata": {
        "id": "sih1Zvpdy3OS"
      }
    },
    {
      "cell_type": "code",
      "execution_count": null,
      "metadata": {
        "id": "nE3znlOCvl0u"
      },
      "outputs": [],
      "source": [
        "# 문제: N개의 수와 N-1개의 연산자가 주어졌을 때, 만들 수 있는 식의 결과가 최대인 것과 최소인 것을 구하는 프로그램을 작성하시오.\n",
        "# 연산자는 덧셈,뺄셈,곱셈,나눗셈으로만 이루어져 있고, 수와 수 사이에 연산자를 하나씩만 넣어 수의 순서를 바꾸지 않고 연산자 우선 순위를 무시하여 계산된다.\n",
        "# 단, 나눗셈은 몫만 취하며, 음수를 양수로 나눌 때에는 양수로 바꾼 뒤 몫을 취하고, 그 몫을 음수로 바꾼 것과 같다."
      ]
    },
    {
      "cell_type": "markdown",
      "source": [
        "# 작성 코드"
      ],
      "metadata": {
        "id": "tFKBYE4Jy7yV"
      }
    },
    {
      "cell_type": "code",
      "source": [
        "import time \n",
        "from itertools import permutations"
      ],
      "metadata": {
        "id": "-G8s84Tbxgsi"
      },
      "execution_count": 1,
      "outputs": []
    },
    {
      "cell_type": "code",
      "source": [
        "n = int(input())\n",
        "# num = list(map(int, input().split()))\n",
        "# op = list(map(int, input().split()))\n",
        "num = list(input().split())\n",
        "op = list(input().split())\n",
        "for i in range(len(num)):\n",
        "    num[i] = int(num[i])\n",
        "for i in range(len(op)):\n",
        "    op[i] = int(op[i])\n",
        "\n",
        "\n",
        "start = time.time()\n",
        "op_ = []\n",
        "if op[0] != 0:\n",
        "    op_ += ['+']*op[0]\n",
        "\n",
        "if op[1] != 0:\n",
        "    op_ += ['-']*op[1]\n",
        "\n",
        "if op[2] != 0:\n",
        "    op_ += ['*']*op[2]\n",
        "\n",
        "if op[3] != 0:\n",
        "    op_ += ['//']*op[3]\n",
        "\n",
        "map = []\n",
        "for c in permutations(op_, n):\n",
        "    map.append(c)\n",
        "# operator의 모든 순열 경우의 수에 대해 다 해본 후 결과 중에서 min,max만 출력하면 됨\n",
        "# 중복 순열 tool써서 해당 수 만큼 (안 쓰고도?!)\n",
        "\n",
        "def add(a,b):\n",
        "    return a + b\n",
        "\n",
        "def sub(a,b):\n",
        "    return a - b\n",
        "\n",
        "def div(a,b):\n",
        "    return a//b\n",
        "\n",
        "def ndiv(a,b):\n",
        "    return (-1)*(abs(a)//b)\n",
        "\n",
        "def mul(a,b):\n",
        "    return a*b\n",
        "\n",
        "def comput(map, num, op):\n",
        "    li = []\n",
        "    for i in range(len(map)):\n",
        "        result = num[0]       # 순열이 바뀔 때마다 리셋\n",
        "        for j in range(n-1):\n",
        "            if map[i][j] == '+':\n",
        "                result += add(result, num[i+1])\n",
        "            elif map[i][j] == '-':\n",
        "                result += sub(result, num[i+1])\n",
        "            elif map[i][j] == '//':\n",
        "                if result < 0:\n",
        "                    result += ndiv(result, num[i+1])\n",
        "                else:\n",
        "                    result += div(result, num[i+1])\n",
        "            elif map[i][j] == '*':\n",
        "                result += mul(result, num[i+1])\n",
        "        li.append(result)\n",
        "    return li\n",
        "\n",
        "li = comput(map, num, op_)\n",
        "print(max(li))\n",
        "print(min(li))\n",
        "end = time.time()\n",
        "print(end-start)\n",
        "\n",
        "# 오답 이유 -> li가 빈 리스트인 상태로 출력되니, def 내부 또는 적용 단계에서 오류 생긴 듯하다.\n",
        "# 정확한 이유는 모범 답안을 통해 찾기"
      ],
      "metadata": {
        "colab": {
          "base_uri": "https://localhost:8080/",
          "height": 299
        },
        "id": "G_4sCPTHwAMd",
        "outputId": "d4048c14-b120-4dc8-d1bf-fb3cb1eeeed1"
      },
      "execution_count": 19,
      "outputs": [
        {
          "name": "stdout",
          "output_type": "stream",
          "text": [
            "2\n",
            "5 6\n",
            "0 0 1 0\n"
          ]
        },
        {
          "output_type": "error",
          "ename": "ValueError",
          "evalue": "ignored",
          "traceback": [
            "\u001b[0;31m---------------------------------------------------------------------------\u001b[0m",
            "\u001b[0;31mValueError\u001b[0m                                Traceback (most recent call last)",
            "\u001b[0;32m<ipython-input-19-8f7e00bc213f>\u001b[0m in \u001b[0;36m<module>\u001b[0;34m\u001b[0m\n\u001b[1;32m     65\u001b[0m \u001b[0;34m\u001b[0m\u001b[0m\n\u001b[1;32m     66\u001b[0m \u001b[0mli\u001b[0m \u001b[0;34m=\u001b[0m \u001b[0mcomput\u001b[0m\u001b[0;34m(\u001b[0m\u001b[0mmap\u001b[0m\u001b[0;34m,\u001b[0m \u001b[0mnum\u001b[0m\u001b[0;34m,\u001b[0m \u001b[0mop_\u001b[0m\u001b[0;34m)\u001b[0m\u001b[0;34m\u001b[0m\u001b[0;34m\u001b[0m\u001b[0m\n\u001b[0;32m---> 67\u001b[0;31m \u001b[0mprint\u001b[0m\u001b[0;34m(\u001b[0m\u001b[0mmax\u001b[0m\u001b[0;34m(\u001b[0m\u001b[0mli\u001b[0m\u001b[0;34m)\u001b[0m\u001b[0;34m)\u001b[0m\u001b[0;34m\u001b[0m\u001b[0;34m\u001b[0m\u001b[0m\n\u001b[0m\u001b[1;32m     68\u001b[0m \u001b[0mprint\u001b[0m\u001b[0;34m(\u001b[0m\u001b[0mmin\u001b[0m\u001b[0;34m(\u001b[0m\u001b[0mli\u001b[0m\u001b[0;34m)\u001b[0m\u001b[0;34m)\u001b[0m\u001b[0;34m\u001b[0m\u001b[0;34m\u001b[0m\u001b[0m\n\u001b[1;32m     69\u001b[0m \u001b[0mend\u001b[0m \u001b[0;34m=\u001b[0m \u001b[0mtime\u001b[0m\u001b[0;34m.\u001b[0m\u001b[0mtime\u001b[0m\u001b[0;34m(\u001b[0m\u001b[0;34m)\u001b[0m\u001b[0;34m\u001b[0m\u001b[0;34m\u001b[0m\u001b[0m\n",
            "\u001b[0;31mValueError\u001b[0m: max() arg is an empty sequence"
          ]
        }
      ]
    },
    {
      "cell_type": "markdown",
      "source": [
        "# 모범 답안"
      ],
      "metadata": {
        "id": "7RfxRbVNy_WD"
      }
    },
    {
      "cell_type": "code",
      "source": [
        "n = int(input())\n",
        "data = list(input().split())\n",
        "for i in range(len(data)):\n",
        "    data[i] = int(data[i])\n",
        "add, sub, mul, div = input().split()\n",
        "add = int(add)\n",
        "sub = int(sub)\n",
        "mul = int(mul)\n",
        "div = int(div)\n",
        "\n",
        "\n",
        "\n",
        "start = time.time()\n",
        "min_value = 1e9\n",
        "max_value = -1e9\n",
        "\n",
        "# 깊이 우선 탐색 (DFS)\n",
        "def dfs(i, now):\n",
        "    global min_value, max_value, add, sub, mul, div        # 전역 변수\n",
        "    if i == n:\n",
        "        min_value = min(min_value, now)\n",
        "        max_value = max(max_value, now)\n",
        "    else:\n",
        "        if add > 0:\n",
        "            add -= 1\n",
        "            dfs(i + 1, now + data[i])\n",
        "            add += 1\n",
        "        if sub > 0:\n",
        "            sub -= 1\n",
        "            dfs(i + 1, now - data[i])\n",
        "            sub += 1\n",
        "        if mul > 0:\n",
        "            mul -= 1\n",
        "            dfs(i + 1, now * data[i])\n",
        "            mul += 1\n",
        "        if div > 0:\n",
        "            div -= 1\n",
        "            dfs(i + 1, int(now / data[i]))        # 대신 '//'로 해도 됨\n",
        "\n",
        "dfs(1, data[0])\n",
        "\n",
        "print(max_value)\n",
        "print(min_value)\n",
        "end = time.time()\n",
        "print(end-start)\n",
        "\n",
        "# Tip1: 전역 변수 이용 <= 재귀적으로 할 시 def 호출할 때마다 그 변수 값이 다시 정의되므로\n",
        "# 이런 경우를 피하기 위해 즉, fix된 값을 이용하고자 전역 변수를 씀. 마지막에 결과 출력 시에도 함수 부른 후 바로\n",
        "# 함수 밖에서 그 변수를 print하면 바로 나올 수 있게 됨.\n",
        "\n",
        "# TIP2: min, max를 바로 씌우는 것이 아닌, 미리 fix한 최소,최대(절대 나올 수 없는 값으로 설정)를 이용하여 구함\n",
        "# <= 최소, 최대가 재귀 호출을 반복하며 계속 업데이트 해야 하기 때문에 위의 방법을 필히 사용해야 함\n",
        "\n",
        "# Tip3: 중복 순열 대신, dfs 이용하여 구현할 수 있음을 보여주는 코드임\n",
        "# <= 될 수 있는 모든 경우를 생각해낼 때 각 종류마다 카운트 저장하고 하나씩 빼며 함수 호출하고 호출 종류 시에는\n",
        "# 다시 카운트 하나 복구 시킨다. (다른 경우를 위해)\n",
        "\n",
        "# Tip4: 함수의 인자를 정하는 것이 간혹 어렵다.\n",
        "# <= dfs 즉, 재귀함수 바탕인 알고리즘에서는 재귀 호출시 계속 변하게 되는 변수를 보통 인자로 사용함\n",
        "# 여기서는 다음 숫자인 now, 숫자 인덱스에 해당하는 i가 사용됨. 나머지는 모두 전역 변수 처리 (호출 시 업데이트 되지 않도록.)"
      ],
      "metadata": {
        "colab": {
          "base_uri": "https://localhost:8080/"
        },
        "id": "2iNHBpuay1fa",
        "outputId": "429b6fff-108f-499a-b40f-654e6d1effc9"
      },
      "execution_count": 26,
      "outputs": [
        {
          "output_type": "stream",
          "name": "stdout",
          "text": [
            "2\n",
            "5 6\n",
            "0 0 1 0\n",
            "30\n",
            "30\n",
            "0.0027227401733398438\n"
          ]
        }
      ]
    },
    {
      "cell_type": "markdown",
      "source": [
        "# 기술 면접 대비"
      ],
      "metadata": {
        "id": "gryCrmQlnYJ3"
      }
    },
    {
      "cell_type": "code",
      "source": [
        "# 1."
      ],
      "metadata": {
        "id": "Q5MkbWYxnbjh"
      },
      "execution_count": null,
      "outputs": []
    }
  ]
}