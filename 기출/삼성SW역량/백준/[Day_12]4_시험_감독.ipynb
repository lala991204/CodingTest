{
  "nbformat": 4,
  "nbformat_minor": 0,
  "metadata": {
    "colab": {
      "provenance": [],
      "collapsed_sections": [],
      "authorship_tag": "ABX9TyNTTgbLelXClXfJtAGwyzY5",
      "include_colab_link": true
    },
    "kernelspec": {
      "name": "python3",
      "display_name": "Python 3"
    },
    "language_info": {
      "name": "python"
    }
  },
  "cells": [
    {
      "cell_type": "markdown",
      "metadata": {
        "id": "view-in-github",
        "colab_type": "text"
      },
      "source": [
        "<a href=\"https://colab.research.google.com/github/lala991204/CodingTest/blob/master/%EA%B8%B0%EC%B6%9C/%EC%82%BC%EC%84%B1SW%EC%97%AD%EB%9F%89/%EB%B0%B1%EC%A4%80/%5BDay_12%5D4_%EC%8B%9C%ED%97%98_%EA%B0%90%EB%8F%85.ipynb\" target=\"_parent\"><img src=\"https://colab.research.google.com/assets/colab-badge.svg\" alt=\"Open In Colab\"/></a>"
      ]
    },
    {
      "cell_type": "code",
      "source": [
        "N = int(input())  # 시험장 수\n",
        "tester = input().split()     # 각 시험장 안 응시자 수\n",
        "for i in range(len(tester)):\n",
        "    tester[i] = int(tester[i])\n",
        "s, p = map(int, input().split())   # 총감독관, 부감독관 수(한 시험장서 감시가능 응시자 수)\n",
        "\n",
        "cnt = N\n",
        "for i in tester:\n",
        "    i -= s\n",
        "    if i > 0:  # 부감독관 필요한 경우\n",
        "        if i % p:\n",
        "            cnt += (i // p) + 1\n",
        "        else:\n",
        "            cnt += (i // p)\n",
        "print(cnt)"
      ],
      "metadata": {
        "colab": {
          "base_uri": "https://localhost:8080/"
        },
        "id": "G_4sCPTHwAMd",
        "outputId": "866c55d7-0cac-404b-83ee-14a083afb5fc"
      },
      "execution_count": 17,
      "outputs": [
        {
          "output_type": "stream",
          "name": "stdout",
          "text": [
            "5\n",
            "10 9 10 9 10\n",
            "2 7\n",
            "13\n"
          ]
        }
      ]
    },
    {
      "cell_type": "code",
      "source": [
        "# 리스트를 웬만해선 만들지 말고, 안 해도되는 연산 하지 말 것.\n",
        "# 일괄 처리 권장함 <= 시간 단축\n",
        "# 변수명 신경써서"
      ],
      "metadata": {
        "id": "rRl2qF0uE54g"
      },
      "execution_count": null,
      "outputs": []
    }
  ]
}