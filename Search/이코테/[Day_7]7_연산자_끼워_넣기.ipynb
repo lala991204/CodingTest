{
  "nbformat": 4,
  "nbformat_minor": 0,
  "metadata": {
    "colab": {
      "provenance": [],
      "collapsed_sections": [],
      "authorship_tag": "ABX9TyOlzxSP0v4Z3EpWjm5jngBF",
      "include_colab_link": true
    },
    "kernelspec": {
      "name": "python3",
      "display_name": "Python 3"
    },
    "language_info": {
      "name": "python"
    }
  },
  "cells": [
    {
      "cell_type": "markdown",
      "metadata": {
        "id": "view-in-github",
        "colab_type": "text"
      },
      "source": [
        "<a href=\"https://colab.research.google.com/github/lala991204/CodingTest/blob/master/Search/%EC%9D%B4%EC%BD%94%ED%85%8C/%5BDay_7%5D7_%EC%97%B0%EC%82%B0%EC%9E%90_%EB%81%BC%EC%9B%8C_%EB%84%A3%EA%B8%B0.ipynb\" target=\"_parent\"><img src=\"https://colab.research.google.com/assets/colab-badge.svg\" alt=\"Open In Colab\"/></a>"
      ]
    },
    {
      "cell_type": "code",
      "source": [
        "n = int(input())\n",
        "data = list(map(int, input().split()))\n",
        "add, sub, mul, div = map(int, input().split())\n",
        "\n",
        "min_value = 1e9\n",
        "max_value = 1e-9\n",
        "def dfs(i, sum):\n",
        "    global min_value, max_value, add, sub, mul, div  # CHECK(재귀함수 <= global지정 확실히)\n",
        "    if i == n:\n",
        "        min_value = min(min_value, sum)   # CHECK(data[i] -> sum\")\n",
        "        max_value = max(max_value, sum)\n",
        "    else:\n",
        "        if add > 0:\n",
        "            add -= 1\n",
        "            dfs(i + 1, sum + data[i])\n",
        "            add += 1\n",
        "        if sub > 0:\n",
        "            sub -= 1\n",
        "            dfs(i + 1, sum - data[i])\n",
        "            sub += 1\n",
        "        if mul > 0:\n",
        "            mul -= 1\n",
        "            dfs(i + 1, sum * data[i])\n",
        "            mul += 1\n",
        "        if div > 0:\n",
        "            div -= 1\n",
        "            dfs(i + 1, sum // data[i])\n",
        "            div += 1\n",
        "dfs(1, data[0])      # CHECK(시작점 지정)\n",
        "print(min_value)\n",
        "print(max_value)"
      ],
      "metadata": {
        "colab": {
          "base_uri": "https://localhost:8080/"
        },
        "id": "G_4sCPTHwAMd",
        "outputId": "7b1b55d6-0b5f-4f8a-e1a1-fbb93f32a920"
      },
      "execution_count": 1,
      "outputs": [
        {
          "output_type": "stream",
          "name": "stdout",
          "text": [
            "2\n",
            "5 6\n",
            "0 0 1 0\n",
            "30\n",
            "30\n"
          ]
        }
      ]
    }
  ]
}