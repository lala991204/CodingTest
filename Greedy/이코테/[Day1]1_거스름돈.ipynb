{
  "nbformat": 4,
  "nbformat_minor": 0,
  "metadata": {
    "colab": {
      "provenance": [],
      "collapsed_sections": [],
      "toc_visible": true,
      "authorship_tag": "ABX9TyOZCGDwjBeFQkNqfpDiiAi4",
      "include_colab_link": true
    },
    "kernelspec": {
      "name": "python3",
      "display_name": "Python 3"
    },
    "language_info": {
      "name": "python"
    }
  },
  "cells": [
    {
      "cell_type": "markdown",
      "metadata": {
        "id": "view-in-github",
        "colab_type": "text"
      },
      "source": [
        "<a href=\"https://colab.research.google.com/github/lala991204/CodingTest/blob/master/Greedy/%EC%9D%B4%EC%BD%94%ED%85%8C/%5BDay1%5D1_%EA%B1%B0%EC%8A%A4%EB%A6%84%EB%8F%88.ipynb\" target=\"_parent\"><img src=\"https://colab.research.google.com/assets/colab-badge.svg\" alt=\"Open In Colab\"/></a>"
      ]
    },
    {
      "cell_type": "code",
      "source": [
        "summary = int(input())\n",
        "coin = [500,100,50,10]     # 10의 배수로 주어진다는 점과 큰 단위 화폐들이 모두 작은 화폐들의 배수이기 때문에 이러한 알고리즘 적용이 가능한 것임!!\n",
        "cnt = 0\n",
        "for i in coin:\n",
        "    cnt += summary // i\n",
        "    summary %= i\n",
        "print(cnt)"
      ],
      "metadata": {
        "id": "XuFNco8uhmyO",
        "colab": {
          "base_uri": "https://localhost:8080/"
        },
        "outputId": "8c738315-6bd5-4e6d-fb16-cc9719f22ecd"
      },
      "execution_count": null,
      "outputs": [
        {
          "output_type": "stream",
          "name": "stdout",
          "text": [
            "1260\n",
            "6\n"
          ]
        }
      ]
    }
  ]
}