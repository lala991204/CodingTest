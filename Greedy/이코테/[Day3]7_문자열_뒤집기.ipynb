{
  "nbformat": 4,
  "nbformat_minor": 0,
  "metadata": {
    "colab": {
      "provenance": [],
      "collapsed_sections": [],
      "authorship_tag": "ABX9TyO4HAyxq+AvLrhYply1aMCK",
      "include_colab_link": true
    },
    "kernelspec": {
      "name": "python3",
      "display_name": "Python 3"
    },
    "language_info": {
      "name": "python"
    }
  },
  "cells": [
    {
      "cell_type": "markdown",
      "metadata": {
        "id": "view-in-github",
        "colab_type": "text"
      },
      "source": [
        "<a href=\"https://colab.research.google.com/github/lala991204/CodingTest/blob/master/Greedy/%EC%9D%B4%EC%BD%94%ED%85%8C/%5BDay3%5D7_%EB%AC%B8%EC%9E%90%EC%97%B4_%EB%92%A4%EC%A7%91%EA%B8%B0.ipynb\" target=\"_parent\"><img src=\"https://colab.research.google.com/assets/colab-badge.svg\" alt=\"Open In Colab\"/></a>"
      ]
    },
    {
      "cell_type": "code",
      "source": [
        "data = input()\n",
        "count0 = 0   # 모두 0으로 뒤집자(1이 모인 덩어리 집단 개수)\n",
        "count1 = 0 \n",
        "\n",
        "if data[0] == '1':  # start point         # CHECK(str로 표시)\n",
        "    count0 += 1\n",
        "else:\n",
        "    count1 += 1\n",
        "\n",
        "for i in range(len(data)-1):  # change point check\n",
        "    if data[i] != data[i+1]:\n",
        "        if data[i+1] == '1':\n",
        "            count0 += 1\n",
        "        else:\n",
        "            count1 += 1\n",
        "print(min(count0, count1))"
      ],
      "metadata": {
        "id": "UAxuUAzLH30p",
        "outputId": "17a221a4-5210-459a-98c8-45beb428c251",
        "colab": {
          "base_uri": "https://localhost:8080/"
        }
      },
      "execution_count": null,
      "outputs": [
        {
          "output_type": "stream",
          "name": "stdout",
          "text": [
            "000110011100\n",
            "2\n"
          ]
        }
      ]
    },
    {
      "cell_type": "code",
      "source": [],
      "metadata": {
        "id": "kALd0GWsH5ar"
      },
      "execution_count": null,
      "outputs": []
    }
  ]
}