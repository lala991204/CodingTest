{
  "nbformat": 4,
  "nbformat_minor": 0,
  "metadata": {
    "colab": {
      "name": "5.모험가 길드.ipynb",
      "provenance": [],
      "collapsed_sections": [],
      "toc_visible": true,
      "authorship_tag": "ABX9TyOY5j05AShgUI7sQv70kY8E",
      "include_colab_link": true
    },
    "kernelspec": {
      "name": "python3",
      "display_name": "Python 3"
    },
    "language_info": {
      "name": "python"
    }
  },
  "cells": [
    {
      "cell_type": "markdown",
      "metadata": {
        "id": "view-in-github",
        "colab_type": "text"
      },
      "source": [
        "<a href=\"https://colab.research.google.com/github/lala991204/CodingTest/blob/master/Greedy/5_%EB%AA%A8%ED%97%98%EA%B0%80_%EA%B8%B8%EB%93%9C.ipynb\" target=\"_parent\"><img src=\"https://colab.research.google.com/assets/colab-badge.svg\" alt=\"Open In Colab\"/></a>"
      ]
    },
    {
      "cell_type": "markdown",
      "source": [
        "# 문제"
      ],
      "metadata": {
        "id": "sih1Zvpdy3OS"
      }
    },
    {
      "cell_type": "code",
      "execution_count": null,
      "metadata": {
        "id": "nE3znlOCvl0u"
      },
      "outputs": [],
      "source": [
        "# 문제: 한 마을에 모험가가 N명 있습니다. 공포도가 X인 모험가는 반드시 X명이상으로 구성한\n",
        "# 모험가 그룹에 참여해야 여행을 떠날 수 잇도록 규정했습니다. 최대 몇 개의 모험가 그룹을 만들 수 있을까요?"
      ]
    },
    {
      "cell_type": "markdown",
      "source": [
        "# 작성 코드"
      ],
      "metadata": {
        "id": "tFKBYE4Jy7yV"
      }
    },
    {
      "cell_type": "code",
      "source": [
        "import time \n",
        "n = int(input())\n",
        "x = list(map(int, input().split()))\n",
        "\n",
        "start = time.time()\n",
        "count = 1\n",
        "ribbon = 0\n",
        "s = x[0]\n",
        "for i in range(1,len(x)):\n",
        "    m = x[i]\n",
        "    if s < m and s!=1:\n",
        "        s = m\n",
        "        count += 1\n",
        "    elif s == 1:       # 1인 경우는 예외적으로 따로 묶기 위함\n",
        "        count = 0\n",
        "        ribbon += 1\n",
        "    else:\n",
        "        count += 1\n",
        "    if s == count:\n",
        "        ribbon += 1\n",
        "        count = 0\n",
        "        s = 0   # 리셋\n",
        "print(ribbon)\n",
        "end = time.time()\n",
        "print(end-start)\n",
        "\n",
        "# 오답 이유 -> 오름차순 정렬을 하지 않으면, 항상 최소한의 모험가의 수만 포함하여 그룹을 결성할 수 없게 되므로\n",
        "# 최대한 많은 그룹을 구성할 수 없을 수 있다."
      ],
      "metadata": {
        "colab": {
          "base_uri": "https://localhost:8080/"
        },
        "id": "G_4sCPTHwAMd",
        "outputId": "9a5059d3-0ecd-4a8e-a474-dffccae47a5d"
      },
      "execution_count": 6,
      "outputs": [
        {
          "output_type": "stream",
          "name": "stdout",
          "text": [
            "5\n",
            "2 4 1 2 2\n",
            "1\n",
            "0.0009648799896240234\n"
          ]
        }
      ]
    },
    {
      "cell_type": "markdown",
      "source": [
        "# 모범 답안"
      ],
      "metadata": {
        "id": "7RfxRbVNy_WD"
      }
    },
    {
      "cell_type": "code",
      "source": [
        "n = int(input())\n",
        "data = list(map(int, input().split()))\n",
        "\n",
        "start = time.time()\n",
        "data.sort()\n",
        "result = 0   # 총 그룹의 수\n",
        "count = 0    # 현재 그룹에 포함된 모험가의 수\n",
        "for i in data:      # 공포도를 낮은 것부터 하나씩 확인하며\n",
        "    count += 1       # 현재 그룹에 해당 모험가 포함시키기\n",
        "    if count >= i:    # 현재 그룹에 포함된 모험가의 수가 현재의 공포도 이상이라면 그룹 결성\n",
        "       result += 1\n",
        "       count = 0      # 초기화\n",
        "print(result)\n",
        "end = time.time()\n",
        "print(end-start)\n",
        "\n",
        "# Tip1: 오름차순으로 정렬하여 낮은 공포도부터 차근차근 비교하는 것 => 해당 조건 하에 그룹 최대수를 구할 수 있음"
      ],
      "metadata": {
        "colab": {
          "base_uri": "https://localhost:8080/"
        },
        "id": "2iNHBpuay1fa",
        "outputId": "e81fc9e8-08c8-46e2-fa08-73e112edb97f"
      },
      "execution_count": 7,
      "outputs": [
        {
          "output_type": "stream",
          "name": "stdout",
          "text": [
            "5\n",
            "2 4 1 2 2\n",
            "2\n",
            "0.0005087852478027344\n"
          ]
        }
      ]
    }
  ]
}