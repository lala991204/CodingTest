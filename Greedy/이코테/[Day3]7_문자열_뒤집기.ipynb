{
  "nbformat": 4,
  "nbformat_minor": 0,
  "metadata": {
    "colab": {
      "name": "7.문자열 뒤집기.ipynb",
      "provenance": [],
      "collapsed_sections": [],
      "toc_visible": true,
      "authorship_tag": "ABX9TyMleVZZwEu1kd5ivbDWD1UG",
      "include_colab_link": true
    },
    "kernelspec": {
      "name": "python3",
      "display_name": "Python 3"
    },
    "language_info": {
      "name": "python"
    }
  },
  "cells": [
    {
      "cell_type": "markdown",
      "metadata": {
        "id": "view-in-github",
        "colab_type": "text"
      },
      "source": [
        "<a href=\"https://colab.research.google.com/github/lala991204/CodingTest/blob/master/Greedy/%EC%9D%B4%EC%BD%94%ED%85%8C/7_%EB%AC%B8%EC%9E%90%EC%97%B4_%EB%92%A4%EC%A7%91%EA%B8%B0.ipynb\" target=\"_parent\"><img src=\"https://colab.research.google.com/assets/colab-badge.svg\" alt=\"Open In Colab\"/></a>"
      ]
    },
    {
      "cell_type": "markdown",
      "source": [
        "# 문제"
      ],
      "metadata": {
        "id": "sih1Zvpdy3OS"
      }
    },
    {
      "cell_type": "code",
      "execution_count": null,
      "metadata": {
        "id": "nE3znlOCvl0u"
      },
      "outputs": [],
      "source": [
        "# 문제: 0과 1로만 이루어진 문자열 S가 있을 때, 문자열 S에 있는 모든 숫자를 전부 같게 만들려고 합니다.\n",
        "# 할 수 있는 행동으로는 S에서 연속된 하나 이상의 숫자를 잡고 모두 뒤집는 것입니다.(0->1 or 1->0)\n",
        "# 행동의 최소 횟수를 출력하시오."
      ]
    },
    {
      "cell_type": "markdown",
      "source": [
        "# 작성 코드"
      ],
      "metadata": {
        "id": "tFKBYE4Jy7yV"
      }
    },
    {
      "cell_type": "code",
      "source": [
        "import time \n",
        "s = input()\n",
        "\n",
        "start = time.time()\n",
        "zero = 0\n",
        "one = 0\n",
        "if int(s[0]) == 0:\n",
        "    zero += 1\n",
        "else:\n",
        "    one += 1   \n",
        "for i in range(2,len(s)):\n",
        "    if int(s[i-1]) != int(s[i]):       # 0과 1이 이웃할 때 오른쪽에 있는 숫자의 묶음을 카운트하는 방식\n",
        "        if int(s[i]) == 0:\n",
        "            zero += 1\n",
        "        else:\n",
        "            one += 1\n",
        "if zero < one:\n",
        "    print(zero)\n",
        "else:\n",
        "    print(one)\n",
        "end = time.time()\n",
        "print(end-start)"
      ],
      "metadata": {
        "colab": {
          "base_uri": "https://localhost:8080/"
        },
        "id": "G_4sCPTHwAMd",
        "outputId": "8e83204b-0c0b-451e-e493-e77c26f7e162"
      },
      "execution_count": null,
      "outputs": [
        {
          "output_type": "stream",
          "name": "stdout",
          "text": [
            "000110011100\n",
            "2\n",
            "0.0015900135040283203\n"
          ]
        }
      ]
    },
    {
      "cell_type": "markdown",
      "source": [
        "# 모범 답안"
      ],
      "metadata": {
        "id": "7RfxRbVNy_WD"
      }
    },
    {
      "cell_type": "code",
      "source": [
        "data = input()\n",
        "\n",
        "start = time.time()\n",
        "count0 = 0      # 전부 0으로 \"바꾸는\" 경우\n",
        "count1 = 0      # 전부 1로 \"바꾸는\" 경우\n",
        "if data[0] == '1':\n",
        "    count0 += 1\n",
        "else:\n",
        "    count1 += 1\n",
        "for i in range(len(data)-1):\n",
        "    if data[i] != data[i+1]:\n",
        "        if data[i+1] == '1':\n",
        "            count0 += 1\n",
        "        else:\n",
        "            count1 += 1\n",
        "print(min(count0, count1))\n",
        "\n",
        "\n",
        "end = time.time()\n",
        "print(end-start)\n",
        "\n",
        "# Tip1: 위의 답안과 프로세스는 동일. 다만, 숫자 비교가 필요없으므로\n",
        "# int형으로 바꾸지 않아도 된다는 점과, 위의 답안은 현재 숫자 상황이라면 모범답안은 앞으로 바꾸게 될 상황 저장."
      ],
      "metadata": {
        "colab": {
          "base_uri": "https://localhost:8080/"
        },
        "id": "2iNHBpuay1fa",
        "outputId": "b7553561-dff1-42d7-d635-9e186a8f49d5"
      },
      "execution_count": null,
      "outputs": [
        {
          "output_type": "stream",
          "name": "stdout",
          "text": [
            "000110011100\n",
            "2\n",
            "0.001828908920288086\n"
          ]
        }
      ]
    }
  ]
}
