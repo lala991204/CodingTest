{
  "nbformat": 4,
  "nbformat_minor": 0,
  "metadata": {
    "colab": {
      "name": "[Day 6]3.특정 거리의 도시 찾기.ipynb",
      "provenance": [],
      "collapsed_sections": [],
      "toc_visible": true,
      "authorship_tag": "ABX9TyPjN+DYtj1XlxjxwiG9ffCv",
      "include_colab_link": true
    },
    "kernelspec": {
      "name": "python3",
      "display_name": "Python 3"
    },
    "language_info": {
      "name": "python"
    }
  },
  "cells": [
    {
      "cell_type": "markdown",
      "metadata": {
        "id": "view-in-github",
        "colab_type": "text"
      },
      "source": [
        "<a href=\"https://colab.research.google.com/github/lala991204/CodingTest/blob/master/Search/%EC%9D%B4%EC%BD%94%ED%85%8C/%5BDay_6%5D3_%ED%8A%B9%EC%A0%95_%EA%B1%B0%EB%A6%AC%EC%9D%98_%EB%8F%84%EC%8B%9C_%EC%B0%BE%EA%B8%B0.ipynb\" target=\"_parent\"><img src=\"https://colab.research.google.com/assets/colab-badge.svg\" alt=\"Open In Colab\"/></a>"
      ]
    },
    {
      "cell_type": "markdown",
      "source": [
        "# 문제"
      ],
      "metadata": {
        "id": "sih1Zvpdy3OS"
      }
    },
    {
      "cell_type": "code",
      "execution_count": null,
      "metadata": {
        "id": "nE3znlOCvl0u"
      },
      "outputs": [],
      "source": [
        "# 문제: 어떤 나라에는 1~N번까지의 도시와 M개의 단방향 도로가 존재하며, 모든 도로의 거리는 1이다.\n",
        "# 이때 특정한 도시 X로부터 출발하여 도달할 수 있는 모든 도시 중에서, 최단 거리가 정확히 K인 모든 도시의 번호를 출력하라.\n",
        "# 또한 출발 도시 X에서 출발 도시 X로 가는 최단 거리는 항상 0이라 가정한다."
      ]
    },
    {
      "cell_type": "markdown",
      "source": [
        "# 작성 코드"
      ],
      "metadata": {
        "id": "tFKBYE4Jy7yV"
      }
    },
    {
      "cell_type": "code",
      "source": [
        "import time \n",
        "from collections import deque"
      ],
      "metadata": {
        "id": "-G8s84Tbxgsi"
      },
      "execution_count": 1,
      "outputs": []
    },
    {
      "cell_type": "code",
      "source": [
        "# n,m,k,x = map(int, input().split())\n",
        "n,m,k,x = input().split()\n",
        "n = int(n)\n",
        "m = int(m)\n",
        "k = int(k)\n",
        "x = int(x)\n",
        "li = []\n",
        "for i in range(m):\n",
        "    li.append(list(input().split()))\n",
        "for i in range(len(li)):\n",
        "    li[i][0] = int(li[i][0])\n",
        "    li[i][1] = int(li[i][1])\n",
        "    \n",
        "start = time.time()\n",
        "cnt = [0] * (n+1)      # index=0은 비워둠\n",
        "map = [[0]] * (n+1)    # index=0은 비워둠  \n",
        "for i in range(m):\n",
        "    map[li[i][0]].append(li[i][1])\n",
        "# BFS 구현 (한 노드에 대해 화살표를 가리키는 노드에 대해 차례로 탐색하니 bfs 특히, 최단거리 문제는 더더욱)\n",
        "# 재귀적인 표현이 쓰이는데?! => dfs이네.\n",
        "def bfs(x,count):\n",
        "    for a in map[x]:\n",
        "        count += 1\n",
        "        if cnt[a] != 0:\n",
        "            cnt[a] = min(cnt[a], count)\n",
        "        else:\n",
        "            cnt[a] = count   # 그대로 넣기\n",
        "    \n",
        "        if map[a] != []:   # 빈 리스트가 아니면 계속 이들을 탐색하라.\n",
        "            count1 = count\n",
        "            bfs(a, count)\n",
        "            count = count1       # 다시 이전의 count로 돌아옴\n",
        "            return True\n",
        "        else:              # 빈 리스트 만나면 종료\n",
        "            return False\n",
        "    return True\n",
        "\n",
        "\n",
        "\n",
        "for comp in map[x]: # 우리가 볼 대상 노드에 대해서만 탐색하겠다\n",
        "    # 시작점 값 카운트\n",
        "    count = 1\n",
        "    if cnt[comp] != 0:\n",
        "        cnt[comp] = min(cnt[comp], count)\n",
        "    else:\n",
        "        cnt[comp] = count   # 그대로 넣기 \n",
        "    # if bfs(comp, count) == True:\n",
        "    #     continue\n",
        "    bfs(comp, count)\n",
        "\n",
        "answer = []\n",
        "for i in cnt:\n",
        "    if cnt[comp] == k:\n",
        "        answer.append(i)\n",
        "answer.sort()\n",
        "print(answer)\n",
        "end = time.time()\n",
        "print(end-start)\n",
        "\n",
        "# 오답 이유 -> 얼추 밑그림은 그렸으나, maximum recursion depth exceeded in comparison (최대 깊이 초과 오류) => 알고리즘을 \n",
        "# 제대로 이용 못한듯..! 모범답안 볼 것."
      ],
      "metadata": {
        "colab": {
          "base_uri": "https://localhost:8080/",
          "height": 530
        },
        "id": "G_4sCPTHwAMd",
        "outputId": "ac30b4c1-27f9-4e1a-d64a-1fe3221454d3"
      },
      "execution_count": null,
      "outputs": [
        {
          "name": "stdout",
          "output_type": "stream",
          "text": [
            "4 4 2 1\n",
            "1 2\n",
            "1 3\n",
            "2 3\n",
            "2 4\n"
          ]
        },
        {
          "output_type": "error",
          "ename": "RecursionError",
          "evalue": "ignored",
          "traceback": [
            "\u001b[0;31m---------------------------------------------------------------------------\u001b[0m",
            "\u001b[0;31mRecursionError\u001b[0m                            Traceback (most recent call last)",
            "\u001b[0;32m<ipython-input-2-cadb3f411cd4>\u001b[0m in \u001b[0;36m<module>\u001b[0;34m\u001b[0m\n\u001b[1;32m     52\u001b[0m     \u001b[0;31m# if bfs(comp, count) == True:\u001b[0m\u001b[0;34m\u001b[0m\u001b[0;34m\u001b[0m\u001b[0;34m\u001b[0m\u001b[0m\n\u001b[1;32m     53\u001b[0m     \u001b[0;31m#     continue\u001b[0m\u001b[0;34m\u001b[0m\u001b[0;34m\u001b[0m\u001b[0;34m\u001b[0m\u001b[0m\n\u001b[0;32m---> 54\u001b[0;31m     \u001b[0mbfs\u001b[0m\u001b[0;34m(\u001b[0m\u001b[0mcomp\u001b[0m\u001b[0;34m,\u001b[0m \u001b[0mcount\u001b[0m\u001b[0;34m)\u001b[0m\u001b[0;34m\u001b[0m\u001b[0;34m\u001b[0m\u001b[0m\n\u001b[0m\u001b[1;32m     55\u001b[0m \u001b[0;34m\u001b[0m\u001b[0m\n\u001b[1;32m     56\u001b[0m \u001b[0manswer\u001b[0m \u001b[0;34m=\u001b[0m \u001b[0;34m[\u001b[0m\u001b[0;34m]\u001b[0m\u001b[0;34m\u001b[0m\u001b[0;34m\u001b[0m\u001b[0m\n",
            "\u001b[0;32m<ipython-input-2-cadb3f411cd4>\u001b[0m in \u001b[0;36mbfs\u001b[0;34m(x, count)\u001b[0m\n\u001b[1;32m     34\u001b[0m         \u001b[0;32mif\u001b[0m \u001b[0mmap\u001b[0m\u001b[0;34m[\u001b[0m\u001b[0ma\u001b[0m\u001b[0;34m]\u001b[0m \u001b[0;34m!=\u001b[0m \u001b[0;34m[\u001b[0m\u001b[0;34m]\u001b[0m\u001b[0;34m:\u001b[0m   \u001b[0;31m# 빈 리스트가 아니면 계속 이들을 탐색하라.\u001b[0m\u001b[0;34m\u001b[0m\u001b[0;34m\u001b[0m\u001b[0m\n\u001b[1;32m     35\u001b[0m             \u001b[0mcount1\u001b[0m \u001b[0;34m=\u001b[0m \u001b[0mcount\u001b[0m\u001b[0;34m\u001b[0m\u001b[0;34m\u001b[0m\u001b[0m\n\u001b[0;32m---> 36\u001b[0;31m             \u001b[0mbfs\u001b[0m\u001b[0;34m(\u001b[0m\u001b[0ma\u001b[0m\u001b[0;34m,\u001b[0m \u001b[0mcount\u001b[0m\u001b[0;34m)\u001b[0m\u001b[0;34m\u001b[0m\u001b[0;34m\u001b[0m\u001b[0m\n\u001b[0m\u001b[1;32m     37\u001b[0m             \u001b[0mcount\u001b[0m \u001b[0;34m=\u001b[0m \u001b[0mcount1\u001b[0m       \u001b[0;31m# 다시 이전의 count로 돌아옴\u001b[0m\u001b[0;34m\u001b[0m\u001b[0;34m\u001b[0m\u001b[0m\n\u001b[1;32m     38\u001b[0m             \u001b[0;32mreturn\u001b[0m \u001b[0;32mTrue\u001b[0m\u001b[0;34m\u001b[0m\u001b[0;34m\u001b[0m\u001b[0m\n",
            "... last 1 frames repeated, from the frame below ...\n",
            "\u001b[0;32m<ipython-input-2-cadb3f411cd4>\u001b[0m in \u001b[0;36mbfs\u001b[0;34m(x, count)\u001b[0m\n\u001b[1;32m     34\u001b[0m         \u001b[0;32mif\u001b[0m \u001b[0mmap\u001b[0m\u001b[0;34m[\u001b[0m\u001b[0ma\u001b[0m\u001b[0;34m]\u001b[0m \u001b[0;34m!=\u001b[0m \u001b[0;34m[\u001b[0m\u001b[0;34m]\u001b[0m\u001b[0;34m:\u001b[0m   \u001b[0;31m# 빈 리스트가 아니면 계속 이들을 탐색하라.\u001b[0m\u001b[0;34m\u001b[0m\u001b[0;34m\u001b[0m\u001b[0m\n\u001b[1;32m     35\u001b[0m             \u001b[0mcount1\u001b[0m \u001b[0;34m=\u001b[0m \u001b[0mcount\u001b[0m\u001b[0;34m\u001b[0m\u001b[0;34m\u001b[0m\u001b[0m\n\u001b[0;32m---> 36\u001b[0;31m             \u001b[0mbfs\u001b[0m\u001b[0;34m(\u001b[0m\u001b[0ma\u001b[0m\u001b[0;34m,\u001b[0m \u001b[0mcount\u001b[0m\u001b[0;34m)\u001b[0m\u001b[0;34m\u001b[0m\u001b[0;34m\u001b[0m\u001b[0m\n\u001b[0m\u001b[1;32m     37\u001b[0m             \u001b[0mcount\u001b[0m \u001b[0;34m=\u001b[0m \u001b[0mcount1\u001b[0m       \u001b[0;31m# 다시 이전의 count로 돌아옴\u001b[0m\u001b[0;34m\u001b[0m\u001b[0;34m\u001b[0m\u001b[0m\n\u001b[1;32m     38\u001b[0m             \u001b[0;32mreturn\u001b[0m \u001b[0;32mTrue\u001b[0m\u001b[0;34m\u001b[0m\u001b[0;34m\u001b[0m\u001b[0m\n",
            "\u001b[0;31mRecursionError\u001b[0m: maximum recursion depth exceeded in comparison"
          ]
        }
      ]
    },
    {
      "cell_type": "markdown",
      "source": [
        "#모범 답안"
      ],
      "metadata": {
        "id": "7RfxRbVNy_WD"
      }
    },
    {
      "cell_type": "code",
      "source": [
        "# 도시의 개수, 도로의 개수, 거리 정보, 출발 도시 번호\n",
        "n, m, k, x = map(int, input().split())\n",
        "graph = [[] for _ in range(n+1)]\n",
        "\n",
        "# 모든 도로 정보 입력받기\n",
        "for _ in range(m):\n",
        "    a, b = map(int, input().split())\n",
        "    graph[a].append(b)\n",
        "\n",
        "start = time.time()\n",
        "# 모든 도시에 대한 최단 거리 초기화\n",
        "distance = [-1] * (n+1)\n",
        "distance[x] = 0   # 출발 도시까지의 거리는 0으로 설정\n",
        "\n",
        "\n",
        "# q=[1] => pop 1 => now=1, graph[now]=[2,3] => next_node=2 or 3 => q=[2,3] => pop 2 => graph[now]=[3,4] => \n",
        "\n",
        "# 너비 우선 탐색(BFS) 수행                  \n",
        "q = deque([x])\n",
        "while q:     # 큐가 빌 때까지\n",
        "    now = q.popleft()\n",
        "    # 현재 도시에서 이동할 수 있는 \"모든 도시\"를 확인 => bfs의 특징임(너비 우선 탐색)\n",
        "    for next_node in graph[now]:\n",
        "        # 아직 방문하지 않은 도시라면 (이 조건 필요한 이유=> 앞서 최단 거리 이동한 경우 그 값이 변경되지 않게 하기 위해)\n",
        "        # ex: 1->3 1->2->3 최단거리=1인데, 2로 변경되지 않기 위해\n",
        "        if distance[next_node] == -1:\n",
        "            # 최단 거리 갱신(이전 거리 + 1)\n",
        "            distance[next_node] = distance[now] + 1\n",
        "            q.append(next_node)\n",
        "\n",
        "# 최단 거리가 K인 모든 도시의 번호를 오름차순으로 출력\n",
        "check = False\n",
        "for i in range(1, n+1):\n",
        "    if distance[i] == k:\n",
        "        print(i)\n",
        "        check = True\n",
        "\n",
        "# 만약 최단 거리가 K인 도시가 없다면, -1 출력\n",
        "if check == False:\n",
        "    print(-1)\n",
        "end = time.time()\n",
        "print(end-start)\n",
        "\n",
        "# Tip1: 틀은 대략 비슷하게 작성하였다. But, distance값을 -1로 초기화한다던지, check = True 등의 조건을 생각해내지 못했음.\n",
        "# Tip2: bfs는 모든 간선의 비용이 동일할 때 최단 거리를 찾는 것으로 적합하며, 시간 초과 없이 해결 가능한 알고리즘으로,\n",
        "# for문 이용해 모든 이웃한 노드를 모두 체크하는 특징을 지님."
      ],
      "metadata": {
        "colab": {
          "base_uri": "https://localhost:8080/"
        },
        "id": "2iNHBpuay1fa",
        "outputId": "b5914b09-cd27-41ec-c82f-29de83a4d156"
      },
      "execution_count": 2,
      "outputs": [
        {
          "output_type": "stream",
          "name": "stdout",
          "text": [
            "4 4 2 1\n",
            "1 2\n",
            "1 3\n",
            "2 3\n",
            "2 4\n",
            "4\n",
            "0.0007956027984619141\n"
          ]
        }
      ]
    },
    {
      "cell_type": "markdown",
      "source": [
        "# 기술 면접 대비"
      ],
      "metadata": {
        "id": "gryCrmQlnYJ3"
      }
    },
    {
      "cell_type": "code",
      "source": [
        "# 1. \"모든 도로의 거리는 1\"이라는 조건 덕분에 너비 우선 탐색(bfs) 이용하여 간단히 해결 가능하다.\n",
        "# 모든 간선의 비용이 1이라는 의미로, 그래프에서 모든 간선의 비용이 동일할 때 이로써 최단 거리를 찾을 수 있다.\n",
        "# 2. 따라서 이 문제는 bfs 이용하여 시간 복잡도 O(N+M)으로 동작하는 소스 코드를 작성해 시간 초과 없이 해결 가능하다.\n",
        "# 먼저, 특정 도시 X를 시작점으로 BFS 수행 후 모든 도시까지의 최단 거리를 계산한 뒤, 각 최단 거리를 하나씩 확인하여 그 값이 K인 경우\n",
        "# 해당 도시의 번호 출력하면 된다."
      ],
      "metadata": {
        "id": "Q5MkbWYxnbjh"
      },
      "execution_count": null,
      "outputs": []
    }
  ]
}