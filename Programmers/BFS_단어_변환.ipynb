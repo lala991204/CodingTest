{
  "nbformat": 4,
  "nbformat_minor": 0,
  "metadata": {
    "colab": {
      "provenance": [],
      "authorship_tag": "ABX9TyOyxxgFs/ALLjVW+dxs1Xj5",
      "include_colab_link": true
    },
    "kernelspec": {
      "name": "python3",
      "display_name": "Python 3"
    },
    "language_info": {
      "name": "python"
    }
  },
  "cells": [
    {
      "cell_type": "markdown",
      "metadata": {
        "id": "view-in-github",
        "colab_type": "text"
      },
      "source": [
        "<a href=\"https://colab.research.google.com/github/lala991204/CodingTest/blob/master/Programmers/BFS_%EB%8B%A8%EC%96%B4_%EB%B3%80%ED%99%98.ipynb\" target=\"_parent\"><img src=\"https://colab.research.google.com/assets/colab-badge.svg\" alt=\"Open In Colab\"/></a>"
      ]
    },
    {
      "cell_type": "code",
      "source": [
        "from collections import deque\n",
        "\n",
        "def solution(begin, target, words):\n",
        "    answer = 0\n",
        "    q = deque()\n",
        "    q.append([begin, 0])\n",
        "    V = [0 for i in range(len(words))]\n",
        "    while q:\n",
        "        word, cnt = q.popleft()\n",
        "        if word == target:\n",
        "            answer = cnt\n",
        "            break\n",
        "        for i in range(len(words)):\n",
        "            temp_cnt = 0\n",
        "            if not V[i]:\n",
        "                for j in range(len(word)):\n",
        "                    if word[j] != words[i][j]:\n",
        "                        temp_cnt += 1\n",
        "                if temp_cnt == 1:\n",
        "                    q.append([words[i], cnt+1])\n",
        "                    V[i] = 1\n",
        "    return answer"
      ],
      "metadata": {
        "id": "uVvkCPpzr3KB"
      },
      "execution_count": null,
      "outputs": []
    }
  ]
}