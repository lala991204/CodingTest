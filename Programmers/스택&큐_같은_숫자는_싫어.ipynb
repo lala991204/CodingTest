{
  "nbformat": 4,
  "nbformat_minor": 0,
  "metadata": {
    "colab": {
      "provenance": [],
      "authorship_tag": "ABX9TyPYnGvSD96b05zFg2eGxxgf",
      "include_colab_link": true
    },
    "kernelspec": {
      "name": "python3",
      "display_name": "Python 3"
    },
    "language_info": {
      "name": "python"
    }
  },
  "cells": [
    {
      "cell_type": "markdown",
      "metadata": {
        "id": "view-in-github",
        "colab_type": "text"
      },
      "source": [
        "<a href=\"https://colab.research.google.com/github/lala991204/CodingTest/blob/master/Programmers/%EC%8A%A4%ED%83%9D%26%ED%81%90_%EA%B0%99%EC%9D%80_%EC%88%AB%EC%9E%90%EB%8A%94_%EC%8B%AB%EC%96%B4.ipynb\" target=\"_parent\"><img src=\"https://colab.research.google.com/assets/colab-badge.svg\" alt=\"Open In Colab\"/></a>"
      ]
    },
    {
      "cell_type": "code",
      "source": [
        "def solution(arr):\n",
        "    answer = []\n",
        "    pre = arr[0]\n",
        "    answer.append(pre)\n",
        "    for i in arr:\n",
        "        if pre != i:\n",
        "            answer.append(i)\n",
        "            pre = i\n",
        "        else:\n",
        "            continue\n",
        "    return answer"
      ],
      "metadata": {
        "id": "SdFlgf50DuH7"
      },
      "execution_count": null,
      "outputs": []
    }
  ]
}