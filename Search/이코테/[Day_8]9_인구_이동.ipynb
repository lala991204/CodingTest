{
  "nbformat": 4,
  "nbformat_minor": 0,
  "metadata": {
    "colab": {
      "provenance": [],
      "collapsed_sections": [],
      "toc_visible": true,
      "authorship_tag": "ABX9TyPsJ/J+stzCPvVWK/i0wxPJ",
      "include_colab_link": true
    },
    "kernelspec": {
      "name": "python3",
      "display_name": "Python 3"
    },
    "language_info": {
      "name": "python"
    }
  },
  "cells": [
    {
      "cell_type": "markdown",
      "metadata": {
        "id": "view-in-github",
        "colab_type": "text"
      },
      "source": [
        "<a href=\"https://colab.research.google.com/github/lala991204/CodingTest/blob/master/Search/%EC%9D%B4%EC%BD%94%ED%85%8C/%5BDay_8%5D9_%EC%9D%B8%EA%B5%AC_%EC%9D%B4%EB%8F%99.ipynb\" target=\"_parent\"><img src=\"https://colab.research.google.com/assets/colab-badge.svg\" alt=\"Open In Colab\"/></a>"
      ]
    },
    {
      "cell_type": "markdown",
      "source": [
        "# 문제"
      ],
      "metadata": {
        "id": "sih1Zvpdy3OS"
      }
    },
    {
      "cell_type": "code",
      "execution_count": null,
      "metadata": {
        "id": "nE3znlOCvl0u"
      },
      "outputs": [],
      "source": [
        "# 문제: N*N 크기의 땅이 있을 때, 각각의 땅 (1*1개의 칸)에는 나라가 하나씩 존재하며, 해당 칸의 수만큼 사람이 살고 있다.\n",
        "# 인접한 나라 사이에는 국경선이 존재함. 즉, 모든 국경선은 정사각형 형태이다.\n",
        "# 오늘부터 인구 이동이 시작된다. 인구 이동은 다음과 같이 진행되고, 더 이상 아래 방법에 의해 인구 이동이 없을 때까지 지속된다.\n",
        "\n",
        "# - 국경선을 공유하는 두 나라 인구 차이가 L명 이상 R명 이하라면, 오늘 하루 동안 두 나라가 공유하는 국경선을 연다.\n",
        "# - 국경선이 열려 있어 인접한 칸만을 이용해 이동 가능하면 그 나라를 오늘 하루 동안은 '연합'이라 한다.\n",
        "# - 연합을 이루고 있는 각 칸의 인구 수는 (연합의 인구 수)/(연합을 이루고 있는 칸의 개수) => 소수점 버림\n",
        "# - 이후, 연합 해체하고 모든 국경선을 닫는다.\n",
        "\n",
        "# 따라서, 각 나라의 인구 수가 주어질 때 인구 이동이 몇 번 발생하는지 프로그램 작성하시오."
      ]
    },
    {
      "cell_type": "markdown",
      "source": [
        "# 작성 코드"
      ],
      "metadata": {
        "id": "tFKBYE4Jy7yV"
      }
    },
    {
      "cell_type": "code",
      "source": [
        "import time "
      ],
      "metadata": {
        "id": "-G8s84Tbxgsi"
      },
      "execution_count": null,
      "outputs": []
    },
    {
      "cell_type": "code",
      "source": [
        "\n",
        "\n",
        "start = time.time()\n",
        "\n",
        "\n",
        "\n",
        "end = time.time()\n",
        "print(end-start)\n",
        "\n",
        "# 오답 이유 -> 문제 자체를 이해 못했음. 이런 경우, 그럼 문제를 이해하는 팁이 있는지? 어떻게 하면? 예시를 들면?\n",
        "# => \"더 이상 아래의 방법을 진행하지 못할 때까지\"라는 것을 이해 못했음\n",
        "# => 해당 map(graph)의 업데이트를 한 후에 다시 1번부터 진행해본다. 조건을 만족하면 계속 진행하고\n",
        "# 진행할 때마다 count는 늘어나며 이때 count가 답이 된다.는 프로세스를 알고 있으면 될 듯함."
      ],
      "metadata": {
        "colab": {
          "base_uri": "https://localhost:8080/"
        },
        "id": "G_4sCPTHwAMd",
        "outputId": "f3032b72-a955-4983-8c60-9060753de6e9"
      },
      "execution_count": null,
      "outputs": [
        {
          "output_type": "stream",
          "name": "stdout",
          "text": [
            "2.6702880859375e-05\n"
          ]
        }
      ]
    },
    {
      "cell_type": "markdown",
      "source": [
        "# 모범 답안"
      ],
      "metadata": {
        "id": "7RfxRbVNy_WD"
      }
    },
    {
      "cell_type": "code",
      "source": [
        "import time\n",
        "from collections import deque"
      ],
      "metadata": {
        "id": "FOvJdGMey4fg"
      },
      "execution_count": 3,
      "outputs": []
    },
    {
      "cell_type": "code",
      "source": [
        "n, l, r = map(int, input().split())\n",
        "graph = []\n",
        "for _ in range(n):\n",
        "    graph.append(list(map(int, input().split())))\n",
        "\n",
        "start = time.time()\n",
        "dx = [-1,1,0,0]\n",
        "dy = [0,0,-1,1]\n",
        "\n",
        "result = 0\n",
        "\n",
        "# 특정 위치에서 출발해서 모든 연합 체크 후, 데이터 갱신\n",
        "def process(x, y, index):\n",
        "    united = []\n",
        "    united.append((x, y))\n",
        "    \n",
        "    # 너비 우선 탐색 (BFS) => 해당 위치의 인접한 노드와 비교(차이 비교)를 해야 하므로 너비 우선 탐색! \n",
        "    q = deque()\n",
        "    q.append((x, y))\n",
        "    union[x][y] = index        # 현재 연합의 번호 할당 (왜냐하면, 여러 개의 연합이 생길 수 있으므로)\n",
        "    summary = graph[x][y]      # 현재 연합의 전체 인구 수\n",
        "    count = 1                  # 현재 연합의 국가 수 \n",
        "    # 큐가 빌 때까지 반복\n",
        "    while q:\n",
        "        x, y = q.popleft()\n",
        "        for i in range(4):\n",
        "            nx = x + dx[i]\n",
        "            ny = y + dy[i]\n",
        "            # 바로 옆에 있는 나라를 확인하여\n",
        "            if 0 <= nx < n and 0 <= ny < n and union[nx][ny] == -1:  # map 경계를 벗어나지 않고, 아직 연합을 만들지 않았다면\n",
        "                if l <= abs(graph[nx][ny] - graph[x][y]) <= r:       # 해당 범위 안이면\n",
        "                    q.append((nx, ny))\n",
        "                    union[nx][ny] = index      # 연합에 추가\n",
        "                    summary += graph[nx][ny]\n",
        "                    count += 1\n",
        "                    united.append((nx, ny))\n",
        "    for i,j in united:        # 연합된 국가 내에서 각각의 해당 좌표 값 업데이트(인구 분배)\n",
        "        graph[i][j] = summary // count\n",
        "    return count\n",
        "\n",
        "total_count = 0\n",
        "\n",
        "# 더 이상 인구 분배를 할 수 없을 때까지 반복\n",
        "while True:\n",
        "    union = [[-1] * n for _ in range(n)]  # 연합하지 않은 상태 (-1)로 초기화 (인구 이동 새로이 이루어지면 다시 초기화됨)\n",
        "    index = 0\n",
        "    for i in range(n):          # 각 좌표마다 완전 탐색 (연합하지 않은 상태라면) => 모든 해당 일자의 연합들 모두 진행하도록\n",
        "        for j in range(n):\n",
        "            if union[i][j] == -1:\n",
        "                process(i, j, index)\n",
        "                index += 1       # 위에서 큐가 빌 때까지 즉, 연합을 만들 때까지 수행했으니, 이제는 다른 새로운 연합을 만든다. \n",
        "    if index == n * n:      # 모든 인구 이동이 끝난 경우(더 이상의 이동은 없다!, 둘 이상 국가의 연합 안 만들어질 때)\n",
        "        break\n",
        "    total_count += 1     # 인구 이동 1씩 추가\n",
        "\n",
        "print(total_count)\n",
        "end = time.time()\n",
        "print(end-start)\n",
        "\n",
        "\n",
        "\n",
        "# Tip1: 연합이 한 개이상이라는 것 => index로 united를 구분하는 것, 인구 이동 새로 이루어질 때마다 리셋된다.\n",
        "# 즉, 더 이상 절차를 밟을 수 없을 때까지 짤 때는 while True 구문을 이용하라.\n",
        "# 여기서, 모든 인구 이동이 끝날 경우 즉 절차를 밟을 수 없는 기준이 되는 (ex: index==n*n) 부분에 break를 두면 된다.\n",
        "\n",
        "# Tip2: 업뎃된 값을 넣을 수 있는 matrix를 초기화하고 해당 연합 좌표끼리 값 넣음 \n",
        "# map으로 할 때 항상 경계 if문을 넣고 방문하지 않거나 연합하지 않은 상태의 경우라는 조건도 역시 추가할 필요가 있음.\n",
        "# 여기서는 해당 값 범위 조건 또한 필요\n",
        "\n",
        "# Tip3: 해당 연합 국가 수 , 국가 인구 수에 대한 각 카운트 필요"
      ],
      "metadata": {
        "colab": {
          "base_uri": "https://localhost:8080/"
        },
        "id": "2iNHBpuay1fa",
        "outputId": "062c4c15-c18e-4338-db4b-6d10112e92a5"
      },
      "execution_count": 4,
      "outputs": [
        {
          "output_type": "stream",
          "name": "stdout",
          "text": [
            "2 20 50\n",
            "50 30\n",
            "20 40\n",
            "1\n",
            "0.001462697982788086\n"
          ]
        }
      ]
    },
    {
      "cell_type": "markdown",
      "source": [
        "# 기술 면접 대비"
      ],
      "metadata": {
        "id": "gryCrmQlnYJ3"
      }
    },
    {
      "cell_type": "code",
      "source": [
        "# 1. 위에서 count를 반환하는 것이 어떤 영향을 주는지 아직 모르겠는 부분임"
      ],
      "metadata": {
        "id": "Q5MkbWYxnbjh"
      },
      "execution_count": null,
      "outputs": []
    }
  ]
}