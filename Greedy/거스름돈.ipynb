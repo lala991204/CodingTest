{
  "nbformat": 4,
  "nbformat_minor": 0,
  "metadata": {
    "colab": {
      "name": "거스름돈.ipynb",
      "provenance": [],
      "collapsed_sections": [],
      "toc_visible": true,
      "authorship_tag": "ABX9TyOkGtA6dP+Gi0OtMRJf2gGX",
      "include_colab_link": true
    },
    "kernelspec": {
      "name": "python3",
      "display_name": "Python 3"
    },
    "language_info": {
      "name": "python"
    }
  },
  "cells": [
    {
      "cell_type": "markdown",
      "metadata": {
        "id": "view-in-github",
        "colab_type": "text"
      },
      "source": [
        "<a href=\"https://colab.research.google.com/github/lala991204/CodingTest/blob/master/Greedy/%EA%B1%B0%EC%8A%A4%EB%A6%84%EB%8F%88.ipynb\" target=\"_parent\"><img src=\"https://colab.research.google.com/assets/colab-badge.svg\" alt=\"Open In Colab\"/></a>"
      ]
    },
    {
      "cell_type": "markdown",
      "source": [
        "# 문제"
      ],
      "metadata": {
        "id": "sih1Zvpdy3OS"
      }
    },
    {
      "cell_type": "code",
      "execution_count": null,
      "metadata": {
        "id": "nE3znlOCvl0u"
      },
      "outputs": [],
      "source": [
        "# 문제: 500원, 100원, 50원, 10원짜리 동전이 무한히 존재한다고 가정한다.\n",
        "# 손님에게 거슬러 줘야 할 돈이 N원일 때 거스러 줘야 할 동전의 최소 개수를 구하라.\n",
        "# 단, 거슬러 줘야 할 돈 N은 항상 10의 배수이다."
      ]
    },
    {
      "cell_type": "markdown",
      "source": [
        "# 작성 코드"
      ],
      "metadata": {
        "id": "tFKBYE4Jy7yV"
      }
    },
    {
      "cell_type": "code",
      "source": [
        "import time \n",
        "\n",
        "N = int(input())\n",
        "\n",
        "start = time.time()   # 아마 입력 다음으로 수행부분에서부터 시간 카운트\n",
        "a1 = N//500\n",
        "b1 = N%500\n",
        "a2 = b1//100\n",
        "b2 = b1%100\n",
        "a3 = b2//50\n",
        "b3 = b2%50\n",
        "a4 = b3//10\n",
        "print(a1+a2+a3+a4)\n",
        "\n",
        "\n",
        "end = time.time()\n",
        "print(end-start)"
      ],
      "metadata": {
        "colab": {
          "base_uri": "https://localhost:8080/"
        },
        "id": "G_4sCPTHwAMd",
        "outputId": "70ed1c90-dd16-4401-9191-2fa9f594dd3d"
      },
      "execution_count": 6,
      "outputs": [
        {
          "output_type": "stream",
          "name": "stdout",
          "text": [
            "1260\n",
            "6\n",
            "0.0018253326416015625\n"
          ]
        }
      ]
    },
    {
      "cell_type": "markdown",
      "source": [
        "# 모범 답안"
      ],
      "metadata": {
        "id": "7RfxRbVNy_WD"
      }
    },
    {
      "cell_type": "code",
      "source": [
        "n = int(input())\n",
        "\n",
        "start = time.time()\n",
        "count = 0\n",
        "\n",
        "# 큰 단위의 화폐부터 차례대로 확인\n",
        "coin_types = [500, 100, 50, 10]\n",
        "for coin in coin_types:\n",
        "    count += n // coin     # 해당 화폐로 거슬러 줄 수 있는 동전의 개수 세기\n",
        "    n %= coin\n",
        "print(count)\n",
        "\n",
        "end = time.time()\n",
        "print(end-start)\n",
        "\n",
        "# Tip1: 동전의 종류 K개에만 영향을 받으므로 O(K)의 시간복잡도\n",
        "# Tip2: 큰 단위들이 모두 작은 단위의 배수이므로 다른 최적의 해는 존재할 수 없다."
      ],
      "metadata": {
        "colab": {
          "base_uri": "https://localhost:8080/"
        },
        "id": "7203VEV3sNwG",
        "outputId": "3215f2e4-175c-4355-c5c3-c4a3ba11dadb"
      },
      "execution_count": 5,
      "outputs": [
        {
          "output_type": "stream",
          "name": "stdout",
          "text": [
            "1260\n",
            "6\n",
            "0.001131296157836914\n"
          ]
        }
      ]
    }
  ]
}