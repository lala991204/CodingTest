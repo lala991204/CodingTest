{
  "nbformat": 4,
  "nbformat_minor": 0,
  "metadata": {
    "colab": {
      "name": "[Day4]8.만들 수 없는 금액.ipynb",
      "provenance": [],
      "collapsed_sections": [],
      "toc_visible": true,
      "authorship_tag": "ABX9TyNhAy2HS2eh2HG7Qcf84vTS",
      "include_colab_link": true
    },
    "kernelspec": {
      "name": "python3",
      "display_name": "Python 3"
    },
    "language_info": {
      "name": "python"
    }
  },
  "cells": [
    {
      "cell_type": "markdown",
      "metadata": {
        "id": "view-in-github",
        "colab_type": "text"
      },
      "source": [
        "<a href=\"https://colab.research.google.com/github/lala991204/CodingTest/blob/master/Greedy/%EC%9D%B4%EC%BD%94%ED%85%8C/%5BDay4%5D8_%EB%A7%8C%EB%93%A4_%EC%88%98_%EC%97%86%EB%8A%94_%EA%B8%88%EC%95%A1.ipynb\" target=\"_parent\"><img src=\"https://colab.research.google.com/assets/colab-badge.svg\" alt=\"Open In Colab\"/></a>"
      ]
    },
    {
      "cell_type": "markdown",
      "source": [
        "# 문제"
      ],
      "metadata": {
        "id": "sih1Zvpdy3OS"
      }
    },
    {
      "cell_type": "code",
      "execution_count": null,
      "metadata": {
        "id": "nE3znlOCvl0u"
      },
      "outputs": [],
      "source": [
        "# 문제: N개의 동전을 가지고 있다. \n",
        "# N개의 동전으로 만들 수 없는 양의 정수 금액 중 최솟값을 구하는 프로그램을 작성하시오."
      ]
    },
    {
      "cell_type": "markdown",
      "source": [
        "# 작성 코드"
      ],
      "metadata": {
        "id": "tFKBYE4Jy7yV"
      }
    },
    {
      "cell_type": "code",
      "source": [
        "# import time \n",
        "# n = int(input())\n",
        "# coin = list(map(int, input().split()))\n",
        "\n",
        "# start = time.time()\n",
        "# li = []\n",
        "# for i in range(n):\n",
        "#     a = []\n",
        "#     count = 0\n",
        "#     a.append(count)\n",
        "#     for j in range(i,n):\n",
        "#         if coin[i] == coin[j]:\n",
        "#             count += 1\n",
        "#             a.append(count)\n",
        "#     li.append(a)         # 한 종류 화폐가 2개 있으면 => 0,1이 들어감.\n",
        "# s = 0\n",
        "# comp = []\n",
        "# for i in range(n):\n",
        "#     for j in range(li):\n",
        "#         s += coin[i]*li[i]\n",
        "\n",
        "# for lic in li:   # li 원소 가져옴\n",
        "#     for licc in lic:\n",
        "\n",
        "\n",
        "# [i for lic in li]\n",
        "\n",
        "\n",
        "\n",
        "# end = time.time()\n",
        "# print(end-start)"
      ],
      "metadata": {
        "colab": {
          "base_uri": "https://localhost:8080/"
        },
        "id": "G_4sCPTHwAMd",
        "outputId": "f3032b72-a955-4983-8c60-9060753de6e9"
      },
      "execution_count": null,
      "outputs": [
        {
          "output_type": "stream",
          "name": "stdout",
          "text": [
            "2.6702880859375e-05\n"
          ]
        }
      ]
    },
    {
      "cell_type": "markdown",
      "source": [
        "# 모범 답안"
      ],
      "metadata": {
        "id": "7RfxRbVNy_WD"
      }
    },
    {
      "cell_type": "code",
      "source": [
        "import time\n",
        "n = int(input())\n",
        "data = list(map(int, input().split()))\n",
        "\n",
        "start = time.time()\n",
        "data.sort()    # 오름차순으로 화폐 단위 정렬\n",
        "target = 1    # 만들 수 있는 값인지 확인할 대상\n",
        "for x in data:    # 가지고 있는 화폐 단위들 하나씩 확인\n",
        "    # 만들 수 없는 금액을 찾았을 때 반복 종료\n",
        "    if target < x:     # 현재 확인하려는 값이 현재 확인하려는 화폐보다 크거나 같으면, 해당 값을 만들 수 있다고 판단함\n",
        "        break\n",
        "    target += x\n",
        "print(target)\n",
        "end = time.time()\n",
        "print(end-start)\n",
        "\n",
        "# Tip1: 참고로 그리디 알고리즘 유형을 많이 접해봤다면 풀 수 있는 문제인데,\n",
        "# 현재 확인하려는 값이 화폐 단위보다 크거나 같아야 해당 값을 만들 수 있다.\n",
        "# EX: 1,2,4,9 => 화폐 단위\n",
        "# 1 = 1(1이하는 만들 수 있다), 1+1 >= 2(2이하는 만들 수 있다), 1+1+2 >= 4(4이하는 만들 수 있다),\n",
        "# 1+1+2+4 < 9 즉, 8이 정답임(만들 수 없는 금액, 즉 8미만까지 만들 수 있다)"
      ],
      "metadata": {
        "colab": {
          "base_uri": "https://localhost:8080/"
        },
        "id": "2iNHBpuay1fa",
        "outputId": "0c003cfd-ed37-40f5-e1f4-50cb6125fe23"
      },
      "execution_count": null,
      "outputs": [
        {
          "output_type": "stream",
          "name": "stdout",
          "text": [
            "5\n",
            "3 2 1 1 9\n",
            "8\n",
            "0.0018634796142578125\n"
          ]
        }
      ]
    },
    {
      "cell_type": "markdown",
      "source": [
        "# 기술 면접 대비"
      ],
      "metadata": {
        "id": "4mp3gDRCnm3M"
      }
    },
    {
      "cell_type": "code",
      "source": [
        "# 1. 아직 논리적 구조 헷갈림"
      ],
      "metadata": {
        "id": "AfDH0x_YnmGC"
      },
      "execution_count": null,
      "outputs": []
    }
  ]
}