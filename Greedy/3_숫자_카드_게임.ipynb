{
  "nbformat": 4,
  "nbformat_minor": 0,
  "metadata": {
    "colab": {
      "name": "3.숫자 카드 게임.ipynb",
      "provenance": [],
      "collapsed_sections": [],
      "toc_visible": true,
      "authorship_tag": "ABX9TyNdmClpxHWYnuZdBohyi64t",
      "include_colab_link": true
    },
    "kernelspec": {
      "name": "python3",
      "display_name": "Python 3"
    },
    "language_info": {
      "name": "python"
    }
  },
  "cells": [
    {
      "cell_type": "markdown",
      "metadata": {
        "id": "view-in-github",
        "colab_type": "text"
      },
      "source": [
        "<a href=\"https://colab.research.google.com/github/lala991204/CodingTest/blob/master/Greedy/3_%EC%88%AB%EC%9E%90_%EC%B9%B4%EB%93%9C_%EA%B2%8C%EC%9E%84.ipynb\" target=\"_parent\"><img src=\"https://colab.research.google.com/assets/colab-badge.svg\" alt=\"Open In Colab\"/></a>"
      ]
    },
    {
      "cell_type": "markdown",
      "source": [
        "# 문제"
      ],
      "metadata": {
        "id": "sih1Zvpdy3OS"
      }
    },
    {
      "cell_type": "code",
      "execution_count": null,
      "metadata": {
        "id": "nE3znlOCvl0u"
      },
      "outputs": [],
      "source": [
        "# 문제: 숫자가 쓰인 카드가 N*M 형태로 놓여 있다. 게임의 룰에 맞게 카드를 뽑는 프로그램을 만들어라.\n",
        "# 1. 뽑고자 하는 카드가 포함되어 있는 행을 선택한다.\n",
        "# 2. 그다음 선택된 행에 포함된 카드들 중 가장 숫자가 낮은 카드를 뽑아야 한다.\n",
        "# 3. 처음에 카드를 골라낼 행을 선택할 때, 이후에 해당 행에서 가장 숫자가 낮은 카드를\n",
        "# 뽑을 것을 고려하여 최종적으로 가장 높은 숫자의 카드를 뽑을 수 있도록 전략을 세워야 한다."
      ]
    },
    {
      "cell_type": "markdown",
      "source": [
        "# 작성 코드"
      ],
      "metadata": {
        "id": "tFKBYE4Jy7yV"
      }
    },
    {
      "cell_type": "code",
      "source": [
        "import time \n",
        "\n",
        "n,m = map(int, input().split())\n",
        "mat = []\n",
        "for i in range(n):\n",
        "   mat.append(list(map(int, input().split())))\n",
        "\n",
        "start = time.time()\n",
        "m = []\n",
        "for i in range(n):\n",
        "    m.append(min(mat[i]))\n",
        "print(max(m))\n",
        "\n",
        "end = time.time()\n",
        "print(end-start)"
      ],
      "metadata": {
        "colab": {
          "base_uri": "https://localhost:8080/"
        },
        "id": "G_4sCPTHwAMd",
        "outputId": "764dd7c2-dc94-41b8-ba1a-1fdc9938acce"
      },
      "execution_count": 16,
      "outputs": [
        {
          "output_type": "stream",
          "name": "stdout",
          "text": [
            "2 4\n",
            "7 3 1 8\n",
            "3 3 3 4\n",
            "3\n",
            "0.00027632713317871094\n"
          ]
        }
      ]
    },
    {
      "cell_type": "markdown",
      "source": [
        "# 모범 답안"
      ],
      "metadata": {
        "id": "7RfxRbVNy_WD"
      }
    },
    {
      "cell_type": "code",
      "source": [
        "# N, M을 공백으로 구분하여 입력받기\n",
        "n,m = map(int, input().split())\n",
        "\n",
        "# start = time.time()\n",
        "result = 0      \n",
        "# 한 줄씩 입력받아 확인\n",
        "for i in range(n):\n",
        "    data = list(map(int, input().split()))\n",
        "    # 현재 줄에서 '가장 작은 수' 착지\n",
        "    start = time.time()\n",
        "    min_value = min(data)\n",
        "    # '가장 작은 수'들 중에서 가장 큰 수 찾기\n",
        "    result = max(result, min_value)\n",
        "print(result)\n",
        "end = time.time()\n",
        "print(end-start)\n",
        "\n",
        "# Tip1: max를 취하기 위해 모든 값이 0이상이므로 result=0으로 초기화"
      ],
      "metadata": {
        "colab": {
          "base_uri": "https://localhost:8080/"
        },
        "id": "2iNHBpuay1fa",
        "outputId": "ce2666cb-c305-41a2-b49f-1f2a45566485"
      },
      "execution_count": 18,
      "outputs": [
        {
          "output_type": "stream",
          "name": "stdout",
          "text": [
            "2 4\n",
            "7 3 1 8\n",
            "3 3 3 4\n",
            "3\n",
            "0.0016329288482666016\n"
          ]
        }
      ]
    },
    {
      "cell_type": "code",
      "source": [
        "n, m = map(int, input().split())\n",
        "result = 0\n",
        "for i in range(n):\n",
        "    data = list(map(int, input().split()))\n",
        "    start = time.time()\n",
        "    min_value = 10001\n",
        "    for a in data:\n",
        "        min_value = min(min_value, a)\n",
        "    result = max(result, min_value)\n",
        "print(result)\n",
        "end = time.time()\n",
        "print(end-start)\n",
        "# Tip1: max를 취하기 위해 모든 값이 0이상이므로 result=0으로 초기화\n",
        "# min을 취하기 위해 10001으로 초기화"
      ],
      "metadata": {
        "colab": {
          "base_uri": "https://localhost:8080/"
        },
        "id": "IDV4Mnn-JV8O",
        "outputId": "97654584-ce14-48be-c6a3-fbc02cb1bbb6"
      },
      "execution_count": 19,
      "outputs": [
        {
          "output_type": "stream",
          "name": "stdout",
          "text": [
            "2 4 \n",
            "7 3 1 8\n",
            "3 3 3 4\n",
            "3\n",
            "0.00034356117248535156\n"
          ]
        }
      ]
    }
  ]
}