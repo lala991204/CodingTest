{
  "nbformat": 4,
  "nbformat_minor": 0,
  "metadata": {
    "colab": {
      "provenance": [],
      "collapsed_sections": [],
      "authorship_tag": "ABX9TyNft5q3uul7OzD7ZQNhFrDL",
      "include_colab_link": true
    },
    "kernelspec": {
      "name": "python3",
      "display_name": "Python 3"
    },
    "language_info": {
      "name": "python"
    }
  },
  "cells": [
    {
      "cell_type": "markdown",
      "metadata": {
        "id": "view-in-github",
        "colab_type": "text"
      },
      "source": [
        "<a href=\"https://colab.research.google.com/github/lala991204/CodingTest/blob/master/Greedy/%EC%9D%B4%EC%BD%94%ED%85%8C/%5BDay4%5D10_%EB%AC%B4%EC%A7%80%EC%9D%98_%EB%A8%B9%EB%B0%A9_%EB%9D%BC%EC%9D%B4%EB%B8%8C.ipynb\" target=\"_parent\"><img src=\"https://colab.research.google.com/assets/colab-badge.svg\" alt=\"Open In Colab\"/></a>"
      ]
    },
    {
      "cell_type": "code",
      "source": [
        "import heapq      # 우선순위 큐\n",
        "\n",
        "def solution(food_times, k):\n",
        "    if sum(food_times) <= k:\n",
        "        return -1\n",
        "    q = []\n",
        "    for i in range(len(food_times)):    # CHECK(len빼먹지 말기)\n",
        "        heapq.heappush(q, (food_times[i], i + 1))\n",
        "    # now = q[0][0]  # 현 음식 다 먹는 데 소비한 시간        # CHECK\n",
        "    previous = 0   # 이전 음식 다 먹는 데 소비한 시간\n",
        "    sum_value = 0  # 총 먹는 데 들인 시간\n",
        "    length = len(food_times)          # CHECK\n",
        "\n",
        "    while sum_value + (q[0][0] - previous) * length <= k:    # CHECK(now대신 q[0][0])\n",
        "        now = heapq.heappop(q)[0]          # CHECK(철자 heapq 틀림)\n",
        "        sum_value += (now - previous) * length\n",
        "        length -= 1\n",
        "        previous = now\n",
        "    \n",
        "    # 음식 번호 기준 정렬\n",
        "    result = sorted(q, key = lambda x: x[1])       # CHECK(명명, 큐를 정리하는 것)\n",
        "    return result[(k - sum_value) % length][1]       # CHECK(index,..,남은 횟수만큼)"
      ],
      "metadata": {
        "id": "Q5MkbWYxnbjh"
      },
      "execution_count": null,
      "outputs": []
    }
  ]
}