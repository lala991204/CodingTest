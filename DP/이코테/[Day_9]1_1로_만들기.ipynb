{
  "nbformat": 4,
  "nbformat_minor": 0,
  "metadata": {
    "colab": {
      "provenance": [],
      "collapsed_sections": [],
      "toc_visible": true,
      "authorship_tag": "ABX9TyP/NjxBJt/XbFBWiLRbj34e",
      "include_colab_link": true
    },
    "kernelspec": {
      "name": "python3",
      "display_name": "Python 3"
    },
    "language_info": {
      "name": "python"
    }
  },
  "cells": [
    {
      "cell_type": "markdown",
      "metadata": {
        "id": "view-in-github",
        "colab_type": "text"
      },
      "source": [
        "<a href=\"https://colab.research.google.com/github/lala991204/CodingTest/blob/master/DP/%EC%9D%B4%EC%BD%94%ED%85%8C/%5BDay_9%5D1_1%EB%A1%9C_%EB%A7%8C%EB%93%A4%EA%B8%B0.ipynb\" target=\"_parent\"><img src=\"https://colab.research.google.com/assets/colab-badge.svg\" alt=\"Open In Colab\"/></a>"
      ]
    },
    {
      "cell_type": "markdown",
      "source": [
        "# 문제"
      ],
      "metadata": {
        "id": "sih1Zvpdy3OS"
      }
    },
    {
      "cell_type": "code",
      "execution_count": null,
      "metadata": {
        "id": "nE3znlOCvl0u"
      },
      "outputs": [],
      "source": [
        "# 문제: 정수 X가 주어질 때, 연산 4개를 적절히 사용하여 1을 만들려고 한다. 연산을 사용하는 횟수의 최솟값을 출력하시오.\n",
        "# 사용할 수 있는 연산은 4가지이다.\n",
        "# 1. 5로 나누어떨어지면, 5로 나눈다.\n",
        "# 2. 3으로 나누어떨어지면, 3으로 나눈다.\n",
        "# 3. 2로 나누어떨어지면, 2로 나눈다.\n",
        "# 4. 1을 뺀다."
      ]
    },
    {
      "cell_type": "markdown",
      "source": [
        "# 작성 코드"
      ],
      "metadata": {
        "id": "tFKBYE4Jy7yV"
      }
    },
    {
      "cell_type": "code",
      "source": [
        "import time "
      ],
      "metadata": {
        "id": "-G8s84Tbxgsi"
      },
      "execution_count": null,
      "outputs": []
    },
    {
      "cell_type": "code",
      "source": [
        "x = int(input())\n",
        "\n",
        "start = time.time()\n",
        "count = 0\n",
        "while x != 1:\n",
        "    if x % 5 == 0:\n",
        "        x //= 5\n",
        "        count += 1\n",
        "    else:\n",
        "        count += x - (x // 5 * 5)\n",
        "        x = x // 5 * 5\n",
        "print(count)\n",
        "end = time.time()\n",
        "print(end-start)\n",
        "\n",
        "# 오답 이유 -> 5로 최대한 많이 나누면 연산 횟수가 최소가 될 것이라 생각하였다. (그리디 알고리즘)"
      ],
      "metadata": {
        "colab": {
          "base_uri": "https://localhost:8080/"
        },
        "id": "G_4sCPTHwAMd",
        "outputId": "f1650c6c-44ab-4f57-cfe9-485616aaf1ef"
      },
      "execution_count": null,
      "outputs": [
        {
          "output_type": "stream",
          "name": "stdout",
          "text": [
            "26\n",
            "3\n",
            "0.0003948211669921875\n"
          ]
        }
      ]
    },
    {
      "cell_type": "markdown",
      "source": [
        "# 모범 답안"
      ],
      "metadata": {
        "id": "7RfxRbVNy_WD"
      }
    },
    {
      "cell_type": "code",
      "source": [
        "x = int(input())\n",
        "\n",
        "start = time.time()\n",
        "# 앞서 계산된 결과 저장하기 위한 DP 테이블 초기화 (정수 X 값 제한 참고)\n",
        "d = [0] * 30001\n",
        "\n",
        "# 다이나믹 프로그래밍 (보텀업)\n",
        "for i in range(2, x+1):\n",
        "    d[i] = d[i-1] + 1     # 1을 더하는 건 호출 횟수를 구하기 위해서\n",
        "    if i % 2 == 0:\n",
        "        d[i] = min(d[i], d[i//2] + 1)\n",
        "    if i % 3 == 0:\n",
        "        d[i] = min(d[i], d[i//3] + 1)\n",
        "    if i % 5 == 0:\n",
        "        d[i] = min(d[i], d[i//5] + 1)\n",
        "print(d[x])\n",
        "end = time.time()\n",
        "print(end-start)\n",
        "\n",
        "# Tip1: 피보나치 수열 보텀업 방식으로 구하면 간단하고 정확하게 품\n",
        "# Tip2: 가능한 연산을 모두 적용한 후, 최단으로 갈 수 있는 방향을 선정함\n",
        "# 26 => 25 13 => 24 /  5 // 12 => 23 12 // 4 1 /// 11 6 4 => \n",
        "# 22 / 11 6 4 // 3 2 / 1 /// 10 / 5 3 2 / 3 2 => ..."
      ],
      "metadata": {
        "colab": {
          "base_uri": "https://localhost:8080/"
        },
        "id": "2iNHBpuay1fa",
        "outputId": "cd87e825-97d9-41b4-c2e1-5657d51f1933"
      },
      "execution_count": null,
      "outputs": [
        {
          "output_type": "stream",
          "name": "stdout",
          "text": [
            "26\n",
            "3\n",
            "0.0005471706390380859\n"
          ]
        }
      ]
    },
    {
      "cell_type": "markdown",
      "source": [
        "# 기술 면접 대비"
      ],
      "metadata": {
        "id": "gryCrmQlnYJ3"
      }
    },
    {
      "cell_type": "code",
      "source": [
        "# 1.이 문제는 그리디 해결법과는 다르다. 왜냐하면, 나누기로 계산량을 줄인다는 것보다는 위의 연산을 적절히 조합해 해결해야 하므로."
      ],
      "metadata": {
        "id": "Q5MkbWYxnbjh"
      },
      "execution_count": null,
      "outputs": []
    }
  ]
}