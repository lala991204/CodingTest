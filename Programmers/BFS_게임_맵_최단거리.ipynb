{
  "nbformat": 4,
  "nbformat_minor": 0,
  "metadata": {
    "colab": {
      "provenance": [],
      "authorship_tag": "ABX9TyNagmQKscNZWo+KPleXuuMd",
      "include_colab_link": true
    },
    "kernelspec": {
      "name": "python3",
      "display_name": "Python 3"
    },
    "language_info": {
      "name": "python"
    }
  },
  "cells": [
    {
      "cell_type": "markdown",
      "metadata": {
        "id": "view-in-github",
        "colab_type": "text"
      },
      "source": [
        "<a href=\"https://colab.research.google.com/github/lala991204/CodingTest/blob/master/Programmers/BFS_%EA%B2%8C%EC%9E%84_%EB%A7%B5_%EC%B5%9C%EB%8B%A8%EA%B1%B0%EB%A6%AC.ipynb\" target=\"_parent\"><img src=\"https://colab.research.google.com/assets/colab-badge.svg\" alt=\"Open In Colab\"/></a>"
      ]
    },
    {
      "cell_type": "code",
      "source": [
        "from collections import deque\n",
        "\n",
        "def bfs(x,y, maps):\n",
        "    n = len(maps)\n",
        "    m = len(maps[0])\n",
        "    dx = [-1,1,0,0]\n",
        "    dy = [0,0,-1,1]\n",
        "    queue = deque()\n",
        "    queue.append((x,y))\n",
        "    while queue:\n",
        "        x, y = queue.popleft()\n",
        "        for i in range(4):\n",
        "            nx = x + dx[i]\n",
        "            ny = y + dy[i]\n",
        "            if 0 > nx  or nx >= n or 0 > ny or ny >= m:\n",
        "                continue\n",
        "            if maps[nx][ny] == 1:    \n",
        "                maps[nx][ny] = maps[x][y] + 1\n",
        "                queue.append((nx,ny))\n",
        "    if maps[n-1][m-1] == 1:\n",
        "        return -1\n",
        "    else:\n",
        "        return maps[n-1][m-1]\n",
        "        \n",
        "\n",
        "def solution(maps):\n",
        "    return bfs(0,0,maps)"
      ],
      "metadata": {
        "id": "RDRUlFETr1sj"
      },
      "execution_count": null,
      "outputs": []
    }
  ]
}