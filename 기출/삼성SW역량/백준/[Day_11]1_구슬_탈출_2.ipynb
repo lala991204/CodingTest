{
  "nbformat": 4,
  "nbformat_minor": 0,
  "metadata": {
    "colab": {
      "provenance": [],
      "collapsed_sections": [],
      "authorship_tag": "ABX9TyN2dBNP9HdokkIoiOG6jEKC",
      "include_colab_link": true
    },
    "kernelspec": {
      "name": "python3",
      "display_name": "Python 3"
    },
    "language_info": {
      "name": "python"
    }
  },
  "cells": [
    {
      "cell_type": "markdown",
      "metadata": {
        "id": "view-in-github",
        "colab_type": "text"
      },
      "source": [
        "<a href=\"https://colab.research.google.com/github/lala991204/CodingTest/blob/master/%EA%B8%B0%EC%B6%9C/%EC%82%BC%EC%84%B1SW%EC%97%AD%EB%9F%89/%EB%B0%B1%EC%A4%80/%5BDay_11%5D1_%EA%B5%AC%EC%8A%AC_%ED%83%88%EC%B6%9C_2.ipynb\" target=\"_parent\"><img src=\"https://colab.research.google.com/assets/colab-badge.svg\" alt=\"Open In Colab\"/></a>"
      ]
    },
    {
      "cell_type": "markdown",
      "source": [
        "# 문제"
      ],
      "metadata": {
        "id": "sih1Zvpdy3OS"
      }
    },
    {
      "cell_type": "code",
      "execution_count": null,
      "metadata": {
        "id": "nE3znlOCvl0u"
      },
      "outputs": [],
      "source": [
        "# 문제: https://www.acmicpc.net/problem/13460"
      ]
    },
    {
      "cell_type": "markdown",
      "source": [
        "# 작성 코드"
      ],
      "metadata": {
        "id": "tFKBYE4Jy7yV"
      }
    },
    {
      "cell_type": "code",
      "source": [
        "import time "
      ],
      "metadata": {
        "id": "jCvNK7FHxkWy"
      },
      "execution_count": null,
      "outputs": []
    },
    {
      "cell_type": "code",
      "source": [
        "n, m = map(int, input().split())\n",
        "\n",
        "board = []\n",
        "emp = []\n",
        "for i in range(n):\n",
        "    board.append(list(input()))  # 띄어쓰기가 없을 때 split 안 써도 됨. => 띄어쓰기 포함 시 ''도 문자열에 포함되므로\n",
        "    for j in range(m):\n",
        "         if board[i][j] == '.':\n",
        "             emp.append((i, j))\n",
        "         elif board[i][j] == 'B':\n",
        "             bx = i\n",
        "             by = j  \n",
        "         elif board[i][j] == 'R':\n",
        "             rx = i\n",
        "             ry = j                     \n",
        " \n",
        "start = time.time()\n",
        "# 구멍 들어감 : True, 구멍 안들어감 : False\n",
        "def watch(x, y, direction):\n",
        "    global cnt, x, y\n",
        "    # 왼쪽 방향으로 감시\n",
        "    if direction == 0:\n",
        "        while y >= 0:     # 경계 벗어나지 않도록\n",
        "            if board[x][y] == 'O':\n",
        "                cnt += 1\n",
        "                # return True\n",
        "                return x, y\n",
        "            if board[x][y] == '#':\n",
        "                # cnt += 1 \n",
        "                return False\n",
        "            y -= 1        # 한 칸씩 특정 방향으로 이동하며\n",
        "    # 오른쪽 방향으로 감시\n",
        "    if direction == 1:\n",
        "        while y < n:\n",
        "            if board[x][y] == 'O':\n",
        "                cnt += 1\n",
        "                # return True\n",
        "                return x, y\n",
        "            if board[x][y] == '#':\n",
        "                # cnt += 1\n",
        "                return False\n",
        "            y += 1\n",
        "    # 위쪽 방향으로 감시\n",
        "    if direction == 2:\n",
        "        while x >= 0:\n",
        "            if board[x][y] == 'O':\n",
        "                cnt += 1\n",
        "                # return True\n",
        "                return x, y\n",
        "            if board[x][y] == '#':\n",
        "                # cnt += 1\n",
        "                return False\n",
        "            x -= 1\n",
        "    # 아래쪽 방향으로 감시\n",
        "    if direction == 3:\n",
        "        while x < m:\n",
        "            if board[x][y] == 'O':\n",
        "                cnt += 1\n",
        "                # return True\n",
        "                return x, y\n",
        "            if board[x][y] == '#':\n",
        "                # cnt += 1\n",
        "                return False\n",
        "            x += 1\n",
        "    return False\n",
        "\n",
        "\n",
        "\n",
        "\n",
        "# 구멍을 만났는지 확인 (cnt<=10인 것만 인정됨)\n",
        "def process(x, y):\n",
        "    for i in range(4):\n",
        "        if watch(x, y, i) and cnt <= 10:    # 구멍에 제한 카운트 안에 들어감\n",
        "            return True\n",
        "        # cnt += 1\n",
        "        # watch(x, y, i)    \n",
        "        elif not watch(x, y, i) and cnt <= 10:   # 장애물이 있어 피해 감\n",
        "            continue\n",
        "        elif not watch(x, y, i) and cnt > 10:    # 더 이상 진행하지 않아도 됨 -1로 출력\n",
        "            return False\n",
        "    # process(x, y)     # 재귀 호출           \n",
        "    return False\n",
        "\n",
        "\n",
        "###### 여기서 부터 main()입니다#######\n",
        "x = bx\n",
        "y = by\n",
        "cnt = 0\n",
        "# x,y를 업뎃해서 계속 그 위치에서 상,하,좌,우로 이동하기??!\n",
        "find = False\n",
        "while cnt <= 10:\n",
        "    if not process(x,y):\n",
        "        find = True      # 구멍 만났음 ! \n",
        "\n",
        "# 블루공 확인\n",
        "x = rx\n",
        "y = ry\n",
        "cnt = 0\n",
        "# x,y를 업뎃해서 계속 그 위치에서 상,하,좌,우로 이동하기??!\n",
        "find_b = False\n",
        "while cnt <= 10:\n",
        "    if not process(x,y):\n",
        "        find_b = True      # 블루 공도 안 떨어짐 !\n",
        "\n",
        "\n",
        "\n",
        "# def process():\n",
        "#     for i in range(4):\n",
        "#         if watch(bx, b, i) and cnt <= 10 and not watch(rx, ry, i):   # (bx, b) 파란 공 위치 고정 !\n",
        "#             returny True  y \n",
        "#     return False\n",
        "\n",
        "\n",
        "# ###### 여기서 부터 main()입니다#######\n",
        "# process(bx, b)\n",
        "# # x,y를 y업뎃해서 계속 그 위치에서 상,하,좌,우로 이동하기??!\n",
        "# find = False\n",
        "# if not process():\n",
        "#     find = True      # 구멍 만났음 ! 블루 공도 안 떨어짐 !\n",
        "\n",
        "\n",
        "# 구멍 만났으면 카운트 출력, 못 만났으면 -1 출력\n",
        "if find and not find_b:\n",
        "    print('%ry', cnt)\n",
        "else:\n",
        "    print(-1)\n",
        "end = time.time()\n",
        "print(end-start)\n",
        "\n",
        "# 오답 이유 -> 함수끼리 연결하는 것에서 막힘. 그러나 이문제는 dfs가 아닌 'bfs + 구현(시뮬)'라는 점.. 문제가 풀리지 않았던 이유임."
      ],
      "metadata": {
        "colab": {
          "base_uri": "https://localhost:8080/",
          "height": 450
        },
        "id": "G_4sCPTHwAMd",
        "outputId": "e98f99be-9a0f-41be-f97e-91d21bbfa827"
      },
      "execution_count": null,
      "outputs": [
        {
          "name": "stdout",
          "output_type": "stream",
          "text": [
            "3 7\n",
            "#######\n",
            "#R.O.B#\n",
            "#######\n"
          ]
        },
        {
          "output_type": "error",
          "ename": "TypeError",
          "evalue": "ignored",
          "traceback": [
            "\u001b[0;31m---------------------------------------------------------------------------\u001b[0m",
            "\u001b[0;31mTypeError\u001b[0m                                 Traceback (most recent call last)",
            "\u001b[0;32m<ipython-input-29-e028fb22fc2e>\u001b[0m in \u001b[0;36m<module>\u001b[0;34m\u001b[0m\n\u001b[1;32m     94\u001b[0m \u001b[0mfind\u001b[0m \u001b[0;34m=\u001b[0m \u001b[0;32mFalse\u001b[0m\u001b[0;34m\u001b[0m\u001b[0;34m\u001b[0m\u001b[0m\n\u001b[1;32m     95\u001b[0m \u001b[0;32mwhile\u001b[0m \u001b[0mcnt\u001b[0m \u001b[0;34m<=\u001b[0m \u001b[0;36m10\u001b[0m\u001b[0;34m:\u001b[0m\u001b[0;34m\u001b[0m\u001b[0;34m\u001b[0m\u001b[0m\n\u001b[0;32m---> 96\u001b[0;31m     \u001b[0;32mif\u001b[0m \u001b[0;32mnot\u001b[0m \u001b[0mprocess\u001b[0m\u001b[0;34m(\u001b[0m\u001b[0mx\u001b[0m\u001b[0;34m,\u001b[0m\u001b[0my\u001b[0m\u001b[0;34m)\u001b[0m\u001b[0;34m:\u001b[0m\u001b[0;34m\u001b[0m\u001b[0;34m\u001b[0m\u001b[0m\n\u001b[0m\u001b[1;32m     97\u001b[0m         \u001b[0mfind\u001b[0m \u001b[0;34m=\u001b[0m \u001b[0;32mTrue\u001b[0m      \u001b[0;31m# 구멍 만났음 !\u001b[0m\u001b[0;34m\u001b[0m\u001b[0;34m\u001b[0m\u001b[0m\n\u001b[1;32m     98\u001b[0m \u001b[0;34m\u001b[0m\u001b[0m\n",
            "\u001b[0;32m<ipython-input-29-e028fb22fc2e>\u001b[0m in \u001b[0;36mprocess\u001b[0;34m(x, y)\u001b[0m\n\u001b[1;32m     81\u001b[0m     \u001b[0;32mif\u001b[0m \u001b[0mwatch\u001b[0m\u001b[0;34m(\u001b[0m\u001b[0mx\u001b[0m\u001b[0;34m,\u001b[0m \u001b[0my\u001b[0m\u001b[0;34m,\u001b[0m \u001b[0mi\u001b[0m\u001b[0;34m)\u001b[0m \u001b[0;34m!=\u001b[0m \u001b[0;32mFalse\u001b[0m \u001b[0;32mand\u001b[0m \u001b[0mcnt\u001b[0m \u001b[0;34m<=\u001b[0m \u001b[0;36m10\u001b[0m\u001b[0;34m:\u001b[0m     \u001b[0;31m# (a, b) 파란 공 위치 고정 !\u001b[0m\u001b[0;34m\u001b[0m\u001b[0;34m\u001b[0m\u001b[0m\n\u001b[1;32m     82\u001b[0m         \u001b[0;32mreturn\u001b[0m \u001b[0;32mTrue\u001b[0m\u001b[0;34m\u001b[0m\u001b[0;34m\u001b[0m\u001b[0m\n\u001b[0;32m---> 83\u001b[0;31m     \u001b[0mx\u001b[0m\u001b[0;34m,\u001b[0m \u001b[0my\u001b[0m \u001b[0;34m=\u001b[0m \u001b[0mwatch\u001b[0m\u001b[0;34m(\u001b[0m\u001b[0mx\u001b[0m\u001b[0;34m,\u001b[0m \u001b[0my\u001b[0m\u001b[0;34m,\u001b[0m \u001b[0mi\u001b[0m\u001b[0;34m)\u001b[0m        \u001b[0;31m# 위를 만족하지 않으면\u001b[0m\u001b[0;34m\u001b[0m\u001b[0;34m\u001b[0m\u001b[0m\n\u001b[0m\u001b[1;32m     84\u001b[0m     \u001b[0mprocess\u001b[0m\u001b[0;34m(\u001b[0m\u001b[0mx\u001b[0m\u001b[0;34m,\u001b[0m \u001b[0my\u001b[0m\u001b[0;34m)\u001b[0m\u001b[0;34m\u001b[0m\u001b[0;34m\u001b[0m\u001b[0m\n\u001b[1;32m     85\u001b[0m \u001b[0;34m\u001b[0m\u001b[0m\n",
            "\u001b[0;31mTypeError\u001b[0m: cannot unpack non-iterable bool object"
          ]
        }
      ]
    },
    {
      "cell_type": "markdown",
      "source": [
        "# 모범 답안"
      ],
      "metadata": {
        "id": "7RfxRbVNy_WD"
      }
    },
    {
      "cell_type": "code",
      "source": [
        "import time\n",
        "from collections import deque\n",
        "\n",
        "n, m = map(int, input().split())\n",
        "graph = []\n",
        "for i in range(n):\n",
        "    graph.append(list(input()))\n",
        "    for j in range(m):\n",
        "        if graph[i][j] == 'R':\n",
        "            rx, ry = i, j\n",
        "        elif graph[i][j] == 'B':\n",
        "            bx, by = i, j\n",
        "\n",
        "start = time.time()\n",
        "dx = [-1, 1, 0, 0]\n",
        "dy = [0, 0, -1, 1]\n",
        "\n",
        "def bfs(rx, ry, bx, by):      # 알고리즘 선택, 인자 설정\n",
        "    q = deque()\n",
        "    q.append((rx, ry, bx, by))\n",
        "    visited = []\n",
        "    visited.append((rx, ry, bx, by))\n",
        "    count = 0\n",
        "    while q:\n",
        "        for _ in range(len(q)):      \n",
        "            rx, ry, bx, by = q.popleft()\n",
        "            if count > 10:\n",
        "                print(-1)\n",
        "                return\n",
        "            if graph[rx][ry] == 'O':\n",
        "                print(count)\n",
        "                return\n",
        "            for i in range(4):\n",
        "                nrx, nry = rx, ry\n",
        "                while True:       # 빨간 공 (break만날 때까지 실행)\n",
        "                    nrx += dx[i]\n",
        "                    nry += dy[i]\n",
        "                    if graph[nrx][nry] == '#':\n",
        "                        nrx -= dx[i]\n",
        "                        nry -= dy[i]\n",
        "                        break\n",
        "                    if graph[nrx][nry] == 'O':\n",
        "                        break\n",
        "                nbx, nby = bx, by\n",
        "                while True:       # 파란 공\n",
        "                    nbx += dx[i]\n",
        "                    nby += dy[i]\n",
        "                    if graph[nbx][nby] == '#':\n",
        "                        nbx -= dx[i]\n",
        "                        nby -= dy[i]\n",
        "                        break\n",
        "                    elif graph[nbx][nby] == 'O':    \n",
        "                        break\n",
        "                if graph[nbx][nby] == 'O':  # 파란구슬이 먼저 구멍에 들어가거나 동시에 들어가는 경우 무시\n",
        "                    continue\n",
        "                if nrx == nbx and nry == nby:    # 두 구슬 위치 동일하면 늦게 이동한 구슬을 한 칸 뒤로 이동 \n",
        "                    if abs(nrx - rx) + abs(nry - ry) > abs(nbx - bx) + abs(nby - by) > 0:\n",
        "                        nrx -= dx[i]\n",
        "                        nry -= dy[i]\n",
        "                    else:\n",
        "                        nbx -= dx[i]\n",
        "                        nby -= dy[i]\n",
        "                if (nrx, nry, nbx, nby) not in visited:\n",
        "                    q.append((nrx, nry, nbx, nby))      # 다음 큐 반복에서 사용될 부분 \n",
        "                    visited.append((nrx, nry, nbx, nby))\n",
        "        count += 1       # 현재 큐 반복 끝나면 카운트 +1\n",
        "    print(-1)        # 10회 내에도 구멍에 들어가지 못하는 경우\n",
        "bfs(rx, ry, bx, by)\n",
        "\n",
        "# Tip1: 그래프 입력 받을 시 빨간 구슬 위치, 파란 구슬 위치를 rx,ry,bx,by로 지정한 후 bfs 수행함\n",
        "# 먼저 rx,ry,bx,by를 큐에 넣고 방문처리함. 이때, 구슬이 한 번 움직이면 멈추는 경우는 2가지인데\n",
        "# 1. 움직이는 곳이 벽 # 인 경우 / 2. 구멍\n",
        "# 이 2가지 제외하고는 계속 움직일 수 있으므로 while True 이용\n",
        "# 단, 파란 구슬 구멍에 들어간 경우는 2가지 상황 고려\n",
        "# 1. 빨간,파란 구슬 모두 구멍 들어감 / 2. 파란 구슬만 구멍 들어감\n",
        "# 이 경우 무시하기 위해 continue (문제조건)\n",
        "# 그 외에 두 구슬이 같은 위치에 안 되므로 이를 조정 (문제조건)"
      ],
      "metadata": {
        "colab": {
          "base_uri": "https://localhost:8080/"
        },
        "id": "2iNHBpuay1fa",
        "outputId": "0acea3cf-f319-447d-8c5f-6f23e9899271"
      },
      "execution_count": 2,
      "outputs": [
        {
          "output_type": "stream",
          "name": "stdout",
          "text": [
            "3 7\n",
            "#######\n",
            "#R.O.B#\n",
            "#######\n",
            "1\n"
          ]
        }
      ]
    },
    {
      "cell_type": "markdown",
      "source": [
        "# 기술 면접 대비"
      ],
      "metadata": {
        "id": "gryCrmQlnYJ3"
      }
    },
    {
      "cell_type": "code",
      "source": [
        "# 1. 삼성 기출문제 특성상 구현 즉 시뮬레이션 유형도 포함이 되어 있는 문제임"
      ],
      "metadata": {
        "id": "Q5MkbWYxnbjh"
      },
      "execution_count": null,
      "outputs": []
    }
  ]
}