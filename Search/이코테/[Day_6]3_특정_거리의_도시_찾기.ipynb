{
  "nbformat": 4,
  "nbformat_minor": 0,
  "metadata": {
    "colab": {
      "provenance": [],
      "collapsed_sections": [],
      "authorship_tag": "ABX9TyPo2w0pezByOdpi4xEVbv8K",
      "include_colab_link": true
    },
    "kernelspec": {
      "name": "python3",
      "display_name": "Python 3"
    },
    "language_info": {
      "name": "python"
    }
  },
  "cells": [
    {
      "cell_type": "markdown",
      "metadata": {
        "id": "view-in-github",
        "colab_type": "text"
      },
      "source": [
        "<a href=\"https://colab.research.google.com/github/lala991204/CodingTest/blob/master/Search/%EC%9D%B4%EC%BD%94%ED%85%8C/%5BDay_6%5D3_%ED%8A%B9%EC%A0%95_%EA%B1%B0%EB%A6%AC%EC%9D%98_%EB%8F%84%EC%8B%9C_%EC%B0%BE%EA%B8%B0.ipynb\" target=\"_parent\"><img src=\"https://colab.research.google.com/assets/colab-badge.svg\" alt=\"Open In Colab\"/></a>"
      ]
    },
    {
      "cell_type": "code",
      "source": [
        "from collections import deque\n",
        "\n",
        "n, m, k, x = map(int, input().split())\n",
        "graph = [[] for _ in range(n + 1)]   # CHECK\n",
        "for _ in range(m):\n",
        "    a, b = map(int, input().split())\n",
        "    graph[a].append(b)\n",
        "\n",
        "distance = [-1] * (n + 1)\n",
        "distance[x] = 0\n",
        "q = deque([x])\n",
        "while q:\n",
        "    now = q.popleft()\n",
        "    for next_node in graph[now]:   # CHECK\n",
        "        if distance[next_node] == -1:  # 이미 간 곳은 제외하고 (최단경로니까)\n",
        "            distance[next_node] = distance[now] + 1  # update(방문 기록)\n",
        "            q.append(next_node)\n",
        "check = False\n",
        "for i in range(1, n+1):    # CHECK\n",
        "    if distance[i] == k:     # CHECK\n",
        "        print(i)\n",
        "        check = True\n",
        "\n",
        "if check == False:\n",
        "    print(-1) "
      ],
      "metadata": {
        "colab": {
          "base_uri": "https://localhost:8080/"
        },
        "id": "G_4sCPTHwAMd",
        "outputId": "46d7cbc3-6f34-4923-841e-9638ddafac57"
      },
      "execution_count": null,
      "outputs": [
        {
          "output_type": "stream",
          "name": "stdout",
          "text": [
            "4 4 2 1\n",
            "1 2\n",
            "1 3\n",
            "2 3\n",
            "2 4\n",
            "4\n"
          ]
        }
      ]
    }
  ]
}