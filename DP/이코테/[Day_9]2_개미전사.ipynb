{
  "nbformat": 4,
  "nbformat_minor": 0,
  "metadata": {
    "colab": {
      "provenance": [],
      "collapsed_sections": [],
      "toc_visible": true,
      "authorship_tag": "ABX9TyNes1UbzmFSHU34HWxfREY9",
      "include_colab_link": true
    },
    "kernelspec": {
      "name": "python3",
      "display_name": "Python 3"
    },
    "language_info": {
      "name": "python"
    }
  },
  "cells": [
    {
      "cell_type": "markdown",
      "metadata": {
        "id": "view-in-github",
        "colab_type": "text"
      },
      "source": [
        "<a href=\"https://colab.research.google.com/github/lala991204/CodingTest/blob/master/DP/%EC%9D%B4%EC%BD%94%ED%85%8C/%5BDay_9%5D2_%EA%B0%9C%EB%AF%B8%EC%A0%84%EC%82%AC.ipynb\" target=\"_parent\"><img src=\"https://colab.research.google.com/assets/colab-badge.svg\" alt=\"Open In Colab\"/></a>"
      ]
    },
    {
      "cell_type": "markdown",
      "source": [
        "# 문제"
      ],
      "metadata": {
        "id": "sih1Zvpdy3OS"
      }
    },
    {
      "cell_type": "code",
      "execution_count": null,
      "metadata": {
        "id": "nE3znlOCvl0u"
      },
      "outputs": [],
      "source": [
        "# 문제: 개미 전사를 위해 식량 창고 N개에 대한 정보 주어질 때, 얻을 수 있는 식량의 최댓값을 구하는 프로그램 작성하시오.\n",
        "# 단, 식량창고를 약탈하기 위해서는 최소 한 칸 이상 떨어진 식량창고를 약탈해야 한다."
      ]
    },
    {
      "cell_type": "markdown",
      "source": [
        "# 작성 코드"
      ],
      "metadata": {
        "id": "tFKBYE4Jy7yV"
      }
    },
    {
      "cell_type": "code",
      "source": [
        "import time "
      ],
      "metadata": {
        "id": "-G8s84Tbxgsi"
      },
      "execution_count": 3,
      "outputs": []
    },
    {
      "cell_type": "code",
      "source": [
        "n = int(input())\n",
        "graph = list(map(int, input().split()))\n",
        "\n",
        "start = time.time()\n",
        "even = 0\n",
        "odd = 0\n",
        "for i in range(n):\n",
        "    if i % 2 == 0:         # 짝수 번째\n",
        "       even += graph[i]\n",
        "    else:                  # 홀수 번째\n",
        "        odd += graph[i]\n",
        "print(max(even, odd))\n",
        "end = time.time()\n",
        "print(end-start)\n",
        "\n",
        "# 오답 이유 -> 짝수, 홀수 번째끼리 번갈아 더하는 방법 밖에 하지 못함 (제한적임)\n",
        "# 실상은 짝, 홀 규칙외에도 예를 들면 1 3 1 1 5 의 경우는 8이 정답인데, 짝, 홀 방식으로 나올 수 없음\n",
        "# 그러므로 될 수 있는 모든 경우를 고려해야하니 DP의 보텀업 방식을 사용해야 함!"
      ],
      "metadata": {
        "colab": {
          "base_uri": "https://localhost:8080/"
        },
        "id": "G_4sCPTHwAMd",
        "outputId": "c16784c6-2409-4173-e646-25ae359dd858"
      },
      "execution_count": 4,
      "outputs": [
        {
          "output_type": "stream",
          "name": "stdout",
          "text": [
            "4\n",
            "1 3 1 5\n",
            "8\n",
            "0.0005741119384765625\n"
          ]
        }
      ]
    },
    {
      "cell_type": "markdown",
      "source": [
        "# 모범 답안"
      ],
      "metadata": {
        "id": "7RfxRbVNy_WD"
      }
    },
    {
      "cell_type": "code",
      "source": [
        "n = int(input())\n",
        "array = list(map(int, input().split()))\n",
        "\n",
        "start = time.time()\n",
        "# 앞서 계산된 결과를 저장하기 위한 DP 테이블 초기화 (식량 창고 갯수 제한 참고)\n",
        "d = [0] * 100\n",
        "\n",
        "# DP의 보텀업 방식\n",
        "d[0] = array[0]\n",
        "d[1] = max(array[0], array[1])  # 첫 시작은 둘 중 하나로\n",
        "for i in range(2,n): \n",
        "    d[i] = max(d[i-1], d[i-2] + array[i])  # 인접한 것을 공략 못하므로 이런 식이 성립함\n",
        "print(d[n-1])      # 인덱스 0부터 시작하므로\n",
        "end = time.time()\n",
        "print(end-start)\n",
        "\n",
        "# Tip1: (i-3)이하의 값은 이미 (i-1)번째 이하의 값에 모두 포함됨"
      ],
      "metadata": {
        "colab": {
          "base_uri": "https://localhost:8080/"
        },
        "id": "2iNHBpuay1fa",
        "outputId": "003a67c0-8f5a-431b-bc89-0afa6b62e3cd"
      },
      "execution_count": 6,
      "outputs": [
        {
          "output_type": "stream",
          "name": "stdout",
          "text": [
            "4\n",
            "1 3 1 5\n",
            "8\n",
            "0.0016939640045166016\n"
          ]
        }
      ]
    },
    {
      "cell_type": "markdown",
      "source": [
        "# 기술 면접 대비"
      ],
      "metadata": {
        "id": "gryCrmQlnYJ3"
      }
    },
    {
      "cell_type": "code",
      "source": [
        "# 1."
      ],
      "metadata": {
        "id": "Q5MkbWYxnbjh"
      },
      "execution_count": null,
      "outputs": []
    }
  ]
}