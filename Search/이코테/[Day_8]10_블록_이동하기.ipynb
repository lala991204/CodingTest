{
  "nbformat": 4,
  "nbformat_minor": 0,
  "metadata": {
    "colab": {
      "provenance": [],
      "collapsed_sections": [],
      "authorship_tag": "ABX9TyO5CXqAS2U26yZT4gFkLL1E",
      "include_colab_link": true
    },
    "kernelspec": {
      "name": "python3",
      "display_name": "Python 3"
    },
    "language_info": {
      "name": "python"
    }
  },
  "cells": [
    {
      "cell_type": "markdown",
      "metadata": {
        "id": "view-in-github",
        "colab_type": "text"
      },
      "source": [
        "<a href=\"https://colab.research.google.com/github/lala991204/CodingTest/blob/master/Search/%EC%9D%B4%EC%BD%94%ED%85%8C/%5BDay_8%5D10_%EB%B8%94%EB%A1%9D_%EC%9D%B4%EB%8F%99%ED%95%98%EA%B8%B0.ipynb\" target=\"_parent\"><img src=\"https://colab.research.google.com/assets/colab-badge.svg\" alt=\"Open In Colab\"/></a>"
      ]
    },
    {
      "cell_type": "code",
      "source": [
        "from collections import deque\n",
        "\n",
        "def get_next_pos(board, pos):\n",
        "    next_pos = []\n",
        "    pos = list(pos)\n",
        "    pos1_x, pos1_y, pos2_x, pos2_y = pos[0][0], pos[0][1], pos[1][0], pos[1][1]\n",
        "    \n",
        "    # 평행 이동\n",
        "    dx = [-1,1,0,0]\n",
        "    dy = [0,0,-1,1]\n",
        "    for i in range(4):\n",
        "        pos1_next_x, pos1_next_y, pos2_next_x, pos2_next_y = pos1_x + dx[i], pos1_y + dy[i], pos2_x + dx[i], pos2_y + dy[i]\n",
        "        if board[pos1_next_x][pos1_next_y] == 0 and board[pos2_next_x][pos2_next_y] == 0:\n",
        "            next_pos.append({(pos1_next_x, pos1_next_y), (pos2_next_x, pos2_next_y)})\n",
        "    \n",
        "    # 회전 이동\n",
        "    if pos1_x == pos2_x:   # 가로\n",
        "        for i in [-1,1]:\n",
        "            if board[pos1_x + i][pos1_y] == 0 and board[pos2_x + i][pos2_y] == 0:    # 두 좌표의 대각선에 장애물이 없어야 하므로\n",
        "                next_pos.append({(pos1_x, pos1_y), (pos1_x + i, pos1_y)})  # x축기준\n",
        "                next_pos.append({(pos2_x, pos2_y), (pos2_x + i, pos2_y)})  # y축기준\n",
        "    if pos1_y == pos2_y:  # 세로\n",
        "        for i in [-1,1]:\n",
        "            if board[pos1_x][pos1_y + i] == 0 and board[pos2_x][pos2_y + i] == 0:\n",
        "                next_pos.append({(pos1_x, pos1_y), (pos1_x, pos1_y + i)})\n",
        "                next_pos.append({(pos2_x, pos2_y), (pos2_x, pos2_y + i)})\n",
        "    return next_pos\n",
        "\n",
        "def solution(board):\n",
        "    n = len(board)\n",
        "    new_board = [[1] * (n + 2) for _ in range(n + 2)]      # CHECK(range누락됨)\n",
        "    for i in range(n):\n",
        "        for j in range(n):\n",
        "            new_board[i + 1][j + 1] = board[i][j]\n",
        "    \n",
        "    q = deque()\n",
        "    visited = []\n",
        "    pos = {(1,1), (1,2)}\n",
        "    q.append((pos, 0))\n",
        "    visited.append(pos)\n",
        "    while q:\n",
        "        pos, cost = q.popleft()\n",
        "        if (n, n) in pos:    # 우리가 체크할 부분\n",
        "            return cost\n",
        "        for next_pos in get_next_pos(new_board, pos):\n",
        "            if next_pos not in visited:\n",
        "                q.append((next_pos, cost + 1))\n",
        "                visited.append(next_pos)\n",
        "    return 0"
      ],
      "metadata": {
        "id": "G_4sCPTHwAMd"
      },
      "execution_count": 1,
      "outputs": []
    }
  ]
}