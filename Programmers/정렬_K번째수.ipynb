{
  "nbformat": 4,
  "nbformat_minor": 0,
  "metadata": {
    "colab": {
      "provenance": [],
      "authorship_tag": "ABX9TyOEZip95g7vg91+dQDL1gLX",
      "include_colab_link": true
    },
    "kernelspec": {
      "name": "python3",
      "display_name": "Python 3"
    },
    "language_info": {
      "name": "python"
    }
  },
  "cells": [
    {
      "cell_type": "markdown",
      "metadata": {
        "id": "view-in-github",
        "colab_type": "text"
      },
      "source": [
        "<a href=\"https://colab.research.google.com/github/lala991204/CodingTest/blob/master/Programmers/%EC%A0%95%EB%A0%AC_K%EB%B2%88%EC%A7%B8%EC%88%98.ipynb\" target=\"_parent\"><img src=\"https://colab.research.google.com/assets/colab-badge.svg\" alt=\"Open In Colab\"/></a>"
      ]
    },
    {
      "cell_type": "code",
      "source": [
        "def solution(array, commands):\n",
        "    return list(map(lambda x: sorted(array[x[0] - 1: x[1]])[x[2] - 1], commands))"
      ],
      "metadata": {
        "id": "RDRUlFETr1sj"
      },
      "execution_count": 1,
      "outputs": []
    }
  ]
}