{
  "nbformat": 4,
  "nbformat_minor": 0,
  "metadata": {
    "colab": {
      "provenance": [],
      "authorship_tag": "ABX9TyOGO+WJqu/VWtUGfpPXPXwn",
      "include_colab_link": true
    },
    "kernelspec": {
      "name": "python3",
      "display_name": "Python 3"
    },
    "language_info": {
      "name": "python"
    }
  },
  "cells": [
    {
      "cell_type": "markdown",
      "metadata": {
        "id": "view-in-github",
        "colab_type": "text"
      },
      "source": [
        "<a href=\"https://colab.research.google.com/github/lala991204/CodingTest/blob/master/Programmers/%EC%A0%95%EB%A0%AC_%EA%B0%80%EC%9E%A5_%ED%81%B0_%EC%88%98.ipynb\" target=\"_parent\"><img src=\"https://colab.research.google.com/assets/colab-badge.svg\" alt=\"Open In Colab\"/></a>"
      ]
    },
    {
      "cell_type": "code",
      "source": [
        "# Using ASCII\n",
        "def solution(numbers):\n",
        "    numbers = list(map(str, numbers))\n",
        "    numbers.sort(key=lambda x:x*3, reverse=True)\n",
        "    return str(int(\"\".join(numbers)))"
      ],
      "metadata": {
        "id": "7014n8OkUuQo"
      },
      "execution_count": 34,
      "outputs": []
    },
    {
      "cell_type": "code",
      "source": [
        "# Using functools.cmp_to_key\n",
        "import functools\n",
        "\n",
        "def comparator(a,b):\n",
        "    t1 = a + b\n",
        "    t2 = b + a\n",
        "    return (int(t1) > int(t2)) - (int(t1) < int(t2))\n",
        "\n",
        "def solution(numbers):\n",
        "    numbers = list(map(str, numbers))\n",
        "    numbers.sort(key=functools.cmp_to_key(comparator), reverse=True)\n",
        "    return str(int(\"\".join(numbers)))"
      ],
      "metadata": {
        "id": "BeL-F3cbf9Mu"
      },
      "execution_count": null,
      "outputs": []
    }
  ]
}