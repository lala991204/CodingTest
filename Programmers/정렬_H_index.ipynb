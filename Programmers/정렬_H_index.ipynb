{
  "nbformat": 4,
  "nbformat_minor": 0,
  "metadata": {
    "colab": {
      "provenance": [],
      "authorship_tag": "ABX9TyOHdtOg9GDATrNtshB4yAP0",
      "include_colab_link": true
    },
    "kernelspec": {
      "name": "python3",
      "display_name": "Python 3"
    },
    "language_info": {
      "name": "python"
    }
  },
  "cells": [
    {
      "cell_type": "markdown",
      "metadata": {
        "id": "view-in-github",
        "colab_type": "text"
      },
      "source": [
        "<a href=\"https://colab.research.google.com/github/lala991204/CodingTest/blob/master/Programmers/%EC%A0%95%EB%A0%AC_H_index.ipynb\" target=\"_parent\"><img src=\"https://colab.research.google.com/assets/colab-badge.svg\" alt=\"Open In Colab\"/></a>"
      ]
    },
    {
      "cell_type": "code",
      "source": [
        "def solution(citations):\n",
        "    citations.sort()\n",
        "    l = len(citations)\n",
        "    for i in range(l):\n",
        "        if citations[i] >= l-i:\n",
        "            return l-i\n",
        "    return 0"
      ],
      "metadata": {
        "id": "RDRUlFETr1sj"
      },
      "execution_count": null,
      "outputs": []
    }
  ]
}