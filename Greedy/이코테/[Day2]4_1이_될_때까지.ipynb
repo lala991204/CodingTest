{
  "nbformat": 4,
  "nbformat_minor": 0,
  "metadata": {
    "colab": {
      "provenance": [],
      "collapsed_sections": [],
      "authorship_tag": "ABX9TyOKHXTo4U3XgBYgUBE0Dx2W",
      "include_colab_link": true
    },
    "kernelspec": {
      "name": "python3",
      "display_name": "Python 3"
    },
    "language_info": {
      "name": "python"
    }
  },
  "cells": [
    {
      "cell_type": "markdown",
      "metadata": {
        "id": "view-in-github",
        "colab_type": "text"
      },
      "source": [
        "<a href=\"https://colab.research.google.com/github/lala991204/CodingTest/blob/master/Greedy/%EC%9D%B4%EC%BD%94%ED%85%8C/%5BDay2%5D4_1%EC%9D%B4_%EB%90%A0_%EB%95%8C%EA%B9%8C%EC%A7%80.ipynb\" target=\"_parent\"><img src=\"https://colab.research.google.com/assets/colab-badge.svg\" alt=\"Open In Colab\"/></a>"
      ]
    },
    {
      "cell_type": "code",
      "source": [
        "n, k = map(int, input().split())\n",
        "\n",
        "result = 0\n",
        "while True:\n",
        "    target = (n // k) * k   # 그리디에서 중요한 아이디어!!\n",
        "    result += (n - target)\n",
        "    n = target       # CHECK\n",
        "    if n < k:    # 더 이상 나누지 못할 때까지 => 조건 추가해줘야 함.\n",
        "        break\n",
        "    result += 1    # 나누어 떨어지는 것 포함     # CHECK\n",
        "    n //= k\n",
        "\n",
        "result += (n - 1)  # 1제외 남은 카운트 포함\n",
        "print(result)"
      ],
      "metadata": {
        "colab": {
          "base_uri": "https://localhost:8080/"
        },
        "id": "ZPFI9qnGFzAQ",
        "outputId": "542f97d7-4ba5-4dd6-becf-e2558b18d82d"
      },
      "execution_count": 1,
      "outputs": [
        {
          "output_type": "stream",
          "name": "stdout",
          "text": [
            "25 3\n",
            "6\n"
          ]
        }
      ]
    },
    {
      "cell_type": "code",
      "source": [],
      "metadata": {
        "id": "dOPUI7QgFzSA"
      },
      "execution_count": null,
      "outputs": []
    }
  ]
}