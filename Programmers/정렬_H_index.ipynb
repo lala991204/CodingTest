{
  "nbformat": 4,
  "nbformat_minor": 0,
  "metadata": {
    "colab": {
      "provenance": [],
      "toc_visible": true,
      "authorship_tag": "ABX9TyNJtXT0Usy08KtKOYpqF1AJ",
      "include_colab_link": true
    },
    "kernelspec": {
      "name": "python3",
      "display_name": "Python 3"
    },
    "language_info": {
      "name": "python"
    }
  },
  "cells": [
    {
      "cell_type": "markdown",
      "metadata": {
        "id": "view-in-github",
        "colab_type": "text"
      },
      "source": [
        "<a href=\"https://colab.research.google.com/github/lala991204/CodingTest/blob/master/Programmers/%EC%A0%95%EB%A0%AC_H_index.ipynb\" target=\"_parent\"><img src=\"https://colab.research.google.com/assets/colab-badge.svg\" alt=\"Open In Colab\"/></a>"
      ]
    },
    {
      "cell_type": "code",
      "source": [
        "# ascending\n",
        "def solution(citations):\n",
        "    citations.sort()\n",
        "    l = len(citations)\n",
        "    for i in range(l):              # (or) for i, cite in enumerate(citations):\n",
        "        if citations[i] >= l-i:\n",
        "            return l-i\n",
        "    return 0           # ex: [0,0,0,0,0]"
      ],
      "metadata": {
        "id": "RDRUlFETr1sj"
      },
      "execution_count": null,
      "outputs": []
    },
    {
      "cell_type": "code",
      "source": [
        "# descending\n",
        "def solution(citations):\n",
        "    citations.sort(reverse=True)\n",
        "    h_ind = 1\n",
        "    for cite in citations:\n",
        "        if cite >= h_ind:\n",
        "            h_ind += 1\n",
        "        else:\n",
        "            return h_ind - 1\n",
        "    return h_ind - 1   # ex: [5,5,5,5,5]"
      ],
      "metadata": {
        "id": "RQIRIm5gbZWt"
      },
      "execution_count": null,
      "outputs": []
    }
  ]
}