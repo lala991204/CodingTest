{
  "nbformat": 4,
  "nbformat_minor": 0,
  "metadata": {
    "colab": {
      "provenance": [],
      "collapsed_sections": [],
      "toc_visible": true,
      "authorship_tag": "ABX9TyMsNPqkhlXQfPQDAtwVH7+k",
      "include_colab_link": true
    },
    "kernelspec": {
      "name": "python3",
      "display_name": "Python 3"
    },
    "language_info": {
      "name": "python"
    }
  },
  "cells": [
    {
      "cell_type": "markdown",
      "metadata": {
        "id": "view-in-github",
        "colab_type": "text"
      },
      "source": [
        "<a href=\"https://colab.research.google.com/github/lala991204/CodingTest/blob/master/DP/%EC%9D%B4%EC%BD%94%ED%85%8C/%5BDay_9%5D3_%EB%B0%94%EB%8B%A5_%EA%B3%B5%EC%82%AC.ipynb\" target=\"_parent\"><img src=\"https://colab.research.google.com/assets/colab-badge.svg\" alt=\"Open In Colab\"/></a>"
      ]
    },
    {
      "cell_type": "code",
      "source": [
        "n = int(input())\n",
        "\n",
        "d = [1001] * (n+1)  # max(n) == 1000, index=1~\n",
        "d[1] = 1\n",
        "d[2] = 3\n",
        "for i in range(3, n+1):  # 점화식\n",
        "    d[i] = (d[i-1] + 2 * d[i-2]) % 796796  \n",
        "\n",
        "# n=3일 때, (i-1)까지 채워져 있는 경우에서 '2*1 2*1 /2*1' 부분이 (i-2)까지 채워진 경우에서 '2*1 /2*1 2*1'부분으로 중복되니\n",
        "# 3개가 아닌 2개로 된 것임.\n",
        "print(d[n])"
      ],
      "metadata": {
        "id": "Q5MkbWYxnbjh",
        "outputId": "34f85bb5-70dc-4e30-8125-51470647294f",
        "colab": {
          "base_uri": "https://localhost:8080/"
        }
      },
      "execution_count": null,
      "outputs": [
        {
          "output_type": "stream",
          "name": "stdout",
          "text": [
            "3\n",
            "5\n"
          ]
        }
      ]
    }
  ]
}