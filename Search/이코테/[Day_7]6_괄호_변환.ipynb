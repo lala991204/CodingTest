{
  "nbformat": 4,
  "nbformat_minor": 0,
  "metadata": {
    "colab": {
      "provenance": [],
      "collapsed_sections": [],
      "toc_visible": true,
      "authorship_tag": "ABX9TyMvgQI3WgVVx12SMOEy49E0",
      "include_colab_link": true
    },
    "kernelspec": {
      "name": "python3",
      "display_name": "Python 3"
    },
    "language_info": {
      "name": "python"
    }
  },
  "cells": [
    {
      "cell_type": "markdown",
      "metadata": {
        "id": "view-in-github",
        "colab_type": "text"
      },
      "source": [
        "<a href=\"https://colab.research.google.com/github/lala991204/CodingTest/blob/master/Search/%EC%9D%B4%EC%BD%94%ED%85%8C/%5BDay_7%5D6_%EA%B4%84%ED%98%B8_%EB%B3%80%ED%99%98.ipynb\" target=\"_parent\"><img src=\"https://colab.research.google.com/assets/colab-badge.svg\" alt=\"Open In Colab\"/></a>"
      ]
    },
    {
      "cell_type": "markdown",
      "source": [
        "# 문제"
      ],
      "metadata": {
        "id": "sih1Zvpdy3OS"
      }
    },
    {
      "cell_type": "code",
      "execution_count": null,
      "metadata": {
        "id": "nE3znlOCvl0u"
      },
      "outputs": [],
      "source": [
        "# 문제: https://school.programmers.co.kr/learn/courses/30/lessons/60058"
      ]
    },
    {
      "cell_type": "markdown",
      "source": [
        "# 작성 코드"
      ],
      "metadata": {
        "id": "tFKBYE4Jy7yV"
      }
    },
    {
      "cell_type": "code",
      "source": [
        "import time "
      ],
      "metadata": {
        "id": "-G8s84Tbxgsi"
      },
      "execution_count": null,
      "outputs": []
    },
    {
      "cell_type": "code",
      "source": [
        "\n",
        "\n",
        "start = time.time()\n",
        "\n",
        "\n",
        "\n",
        "end = time.time()\n",
        "print(end-start)\n",
        "\n",
        "# 오답 이유 -> 대략 흐름 캐치는 했으나, 효율적인 알고리즘을 생각해내지 못하여 모범답안을 봄."
      ],
      "metadata": {
        "colab": {
          "base_uri": "https://localhost:8080/"
        },
        "id": "G_4sCPTHwAMd",
        "outputId": "f3032b72-a955-4983-8c60-9060753de6e9"
      },
      "execution_count": null,
      "outputs": [
        {
          "output_type": "stream",
          "name": "stdout",
          "text": [
            "2.6702880859375e-05\n"
          ]
        }
      ]
    },
    {
      "cell_type": "markdown",
      "source": [
        "# 모범 답안"
      ],
      "metadata": {
        "id": "7RfxRbVNy_WD"
      }
    },
    {
      "cell_type": "code",
      "source": [
        "start = time.time()\n",
        "def balanced_index(p):\n",
        "    count = 0\n",
        "    for i in range(len(p)):\n",
        "        if p[i] == '(':\n",
        "            count += 1    # 왼쪽 괄호와\n",
        "        else:\n",
        "            count -= 1    # 오른쪽 괄호의 짝이\n",
        "        if count == 0:    # 맞으면 해당 인덱스 반환한다.\n",
        "            return i\n",
        "\n",
        "def check_proper(p):\n",
        "    count = 0\n",
        "    for i in p:           # 괄호를 하나씩 뽑아\n",
        "        if i == '(':      \n",
        "            count += 1\n",
        "        else:\n",
        "            # 갑자기 오른 괄호부터 시작할 때\n",
        "            if count == 0:    # 왼쪽 괄호 남아있는 게 없다면\n",
        "                return False\n",
        "            count -= 1        # 왼쪽 괄호 남아있는 게 있다면\n",
        "    return True            # 모든 괄호 다 뽑았을 때 짝이 맞으면 True 반환\n",
        "    \n",
        "def solution(p):  \n",
        "    answer = ''\n",
        "    if p == '':\n",
        "        return answer      # 빈 문자열은 그대로 반환\n",
        "    # 1. u와 v로 나눈다.\n",
        "    index = balanced_index(p)\n",
        "    u = p[:index + 1]\n",
        "    v = p[index + 1:]\n",
        "    # 2. u가 올바른 괄호 문자열이면, v에 대해 1번으로 돌아가 수행 후 붙여 반환 \n",
        "    if check_proper(u):       # True, False에 따라\n",
        "        answer = u + solution(v)\n",
        "    # 3. u가 올바른 괄호 문자열이 아니면, 아래의 과정 수행\n",
        "    else:\n",
        "        answer = '('     # 왼쪽 괄호부터 붙이고\n",
        "        answer += solution(v)     # v에 대해 수행한 결과 붙이고\n",
        "        answer += ')'        # 오른 괄호 붙인 후\n",
        "        u = list(u[1:-1])    # 앞의 u에서 처음, 끝부분 제거\n",
        "        for i in range(len(u)):  # u의 모든 괄호 뒤집기\n",
        "            if u[i] == '(':\n",
        "                u[i] = ')'\n",
        "            else:\n",
        "                u[i] = '('\n",
        "        answer += \"\".join(u)     # 위의 작업 수행한 u 붙이기\n",
        "    return answer\n",
        "\n",
        "# 올바른 괄호 문자열이 아닌 것만 뒤로 보내는 process\n",
        "end = time.time()\n",
        "print(end-start)\n",
        "\n",
        "# 정확도 100/100 => 점수 100/100\n",
        "\n",
        "# Tip1: 왼쪽, 오른쪽 괄호의 수가 맞는지 확인하는 방법 => 각각 count를 +1,-1로 두어 합산이 0이 되는 것으로 확인\n",
        "# 그리고 괄호 짝이 올바른지 확인하는 방법 => 왼쪽 괄호 +1 후, 오른쪽이 오면 -1 취하고, 여기서 오른쪽이 오게 되면 False 취하도록. 또는 완전히 이루어지면 반복문을 빠져나오니 True\n",
        "# Tip2: 문자열이므로, 이를 나눌 때 slicing하고 이를 붙일 때는 +해서 함\n",
        "# Tip3: True, False를 각 조건에 따라 return하는 것을 즉, 이중 반복문이 이 문제의 핵심.. (이것을 놓친 듯함)"
      ],
      "metadata": {
        "colab": {
          "base_uri": "https://localhost:8080/"
        },
        "id": "2iNHBpuay1fa",
        "outputId": "9af445c8-da6a-4153-97bc-eb1270b9dd6d"
      },
      "execution_count": null,
      "outputs": [
        {
          "output_type": "stream",
          "name": "stdout",
          "text": [
            "2.9325485229492188e-05\n"
          ]
        }
      ]
    },
    {
      "cell_type": "markdown",
      "source": [
        "# 기술 면접 대비"
      ],
      "metadata": {
        "id": "gryCrmQlnYJ3"
      }
    },
    {
      "cell_type": "code",
      "source": [
        "# 1. "
      ],
      "metadata": {
        "id": "Q5MkbWYxnbjh"
      },
      "execution_count": null,
      "outputs": []
    }
  ]
}