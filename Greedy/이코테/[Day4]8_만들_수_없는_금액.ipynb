{
  "nbformat": 4,
  "nbformat_minor": 0,
  "metadata": {
    "colab": {
      "provenance": [],
      "collapsed_sections": [],
      "authorship_tag": "ABX9TyM+7eV36v0QuKigovmDg6e8",
      "include_colab_link": true
    },
    "kernelspec": {
      "name": "python3",
      "display_name": "Python 3"
    },
    "language_info": {
      "name": "python"
    }
  },
  "cells": [
    {
      "cell_type": "markdown",
      "metadata": {
        "id": "view-in-github",
        "colab_type": "text"
      },
      "source": [
        "<a href=\"https://colab.research.google.com/github/lala991204/CodingTest/blob/master/Greedy/%EC%9D%B4%EC%BD%94%ED%85%8C/%5BDay4%5D8_%EB%A7%8C%EB%93%A4_%EC%88%98_%EC%97%86%EB%8A%94_%EA%B8%88%EC%95%A1.ipynb\" target=\"_parent\"><img src=\"https://colab.research.google.com/assets/colab-badge.svg\" alt=\"Open In Colab\"/></a>"
      ]
    },
    {
      "cell_type": "code",
      "source": [
        "n = int(input())\n",
        "coin = list(map(int, input().split()))\n",
        "coin.sort()        \n",
        "# 오름차순 정렬 중요!!! => 작은 화폐부터 더해가야 가능한 최대 동전값을 구할 수 있음. => ex: 현 가능한 화폐 총합 target 7인데 다음 탐색 대상 단위 coin가 <=7이면\n",
        "# target=7 즉, 1~6까지 가능하게 만드니까 여기에 7이하가 오면 현존하는 1~6과 더해서 7을 만들 수 있음. 물론, 7이오면 바로 하나짜리로 되는 것이고.\n",
        "# 만약, 3이라고 할 때, <10까지 가능한 이유는\n",
        "# 7(현 target) + 3(현 탐색대상) = 10인데, 가능한 합 중에 최대가 6이고 탐색 대상이 3이니 최대 만들 수 있는게 9이고, 결국 여기에 1이 더 추가돼서 target이 10인 것임.\n",
        "\n",
        "target = 1    # 만들 수 없는 최소 동전값을 보기 위해 => ex: 7까지 만들 수 있다고 하면, 8부터 만들 수 없다는 걸 보이기 위해 1로 초기화하고 시작.\n",
        "for x in coin:\n",
        "    if target < x:\n",
        "        break   \n",
        "    target += x\n",
        "print(target)"
      ],
      "metadata": {
        "id": "AfDH0x_YnmGC",
        "colab": {
          "base_uri": "https://localhost:8080/"
        },
        "outputId": "bc6ed278-95df-467f-d0a5-7d754f2b034e"
      },
      "execution_count": 2,
      "outputs": [
        {
          "output_type": "stream",
          "name": "stdout",
          "text": [
            "5\n",
            "3 2 1 1 9\n",
            "8\n"
          ]
        }
      ]
    }
  ]
}