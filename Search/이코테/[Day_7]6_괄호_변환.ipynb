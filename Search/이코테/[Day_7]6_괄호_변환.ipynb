{
  "nbformat": 4,
  "nbformat_minor": 0,
  "metadata": {
    "colab": {
      "provenance": [],
      "collapsed_sections": [],
      "authorship_tag": "ABX9TyNEFpPFoX+jJPFyBcMs/Byn",
      "include_colab_link": true
    },
    "kernelspec": {
      "name": "python3",
      "display_name": "Python 3"
    },
    "language_info": {
      "name": "python"
    }
  },
  "cells": [
    {
      "cell_type": "markdown",
      "metadata": {
        "id": "view-in-github",
        "colab_type": "text"
      },
      "source": [
        "<a href=\"https://colab.research.google.com/github/lala991204/CodingTest/blob/master/Search/%EC%9D%B4%EC%BD%94%ED%85%8C/%5BDay_7%5D6_%EA%B4%84%ED%98%B8_%EB%B3%80%ED%99%98.ipynb\" target=\"_parent\"><img src=\"https://colab.research.google.com/assets/colab-badge.svg\" alt=\"Open In Colab\"/></a>"
      ]
    },
    {
      "cell_type": "code",
      "source": [
        "def balanced_index(p):\n",
        "    count = 0\n",
        "    for i in range(len(p)):\n",
        "        if p[i] == '(':\n",
        "            count += 1\n",
        "        else:\n",
        "            count -= 1\n",
        "        if count == 0:\n",
        "            return i\n",
        "\n",
        "def proper_check(p):\n",
        "    count = 0\n",
        "    for q in p:\n",
        "        if q == '(':\n",
        "            count += 1\n",
        "        else:\n",
        "            if count == 0:\n",
        "                return False \n",
        "            count -= 1\n",
        "    return True\n",
        "\n",
        "def solution(p):\n",
        "    answer = ''\n",
        "    if p == '':\n",
        "        return answer\n",
        "    index = balanced_index(p)\n",
        "    u = p[:index + 1]       # CHECK\n",
        "    v = p[index + 1:]\n",
        "    if proper_check(u):\n",
        "        answer = u + solution(v)\n",
        "    else:\n",
        "        answer = '('\n",
        "        answer += solution(v)\n",
        "        answer += ')'\n",
        "        u = list(u[1:-1])\n",
        "        for j in range(len(u)):\n",
        "            if u[j] == '(':\n",
        "                u[j] = ')'\n",
        "            else:\n",
        "                u[j] = '('\n",
        "        answer += \"\".join(u)     # CHECK\n",
        "    return answer"
      ],
      "metadata": {
        "id": "G_4sCPTHwAMd"
      },
      "execution_count": null,
      "outputs": []
    }
  ]
}