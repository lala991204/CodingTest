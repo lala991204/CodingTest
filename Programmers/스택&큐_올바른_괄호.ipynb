{
  "nbformat": 4,
  "nbformat_minor": 0,
  "metadata": {
    "colab": {
      "provenance": [],
      "authorship_tag": "ABX9TyPg1mf+3Fw6bjyyErMAbV1G",
      "include_colab_link": true
    },
    "kernelspec": {
      "name": "python3",
      "display_name": "Python 3"
    },
    "language_info": {
      "name": "python"
    }
  },
  "cells": [
    {
      "cell_type": "markdown",
      "metadata": {
        "id": "view-in-github",
        "colab_type": "text"
      },
      "source": [
        "<a href=\"https://colab.research.google.com/github/lala991204/CodingTest/blob/master/Programmers/%EC%8A%A4%ED%83%9D%26%ED%81%90_%EC%98%AC%EB%B0%94%EB%A5%B8_%EA%B4%84%ED%98%B8.ipynb\" target=\"_parent\"><img src=\"https://colab.research.google.com/assets/colab-badge.svg\" alt=\"Open In Colab\"/></a>"
      ]
    },
    {
      "cell_type": "code",
      "source": [
        "def solution(s):\n",
        "    cnt = 0\n",
        "    if \"(\" not in s or s[0] != '(':\n",
        "        return False\n",
        "    for ele in s:\n",
        "        if ele == \"(\":\n",
        "            cnt += 1\n",
        "        elif ele == \")\" and cnt != 0:\n",
        "            cnt -= 1\n",
        "    if cnt == 0:\n",
        "        return True\n",
        "    else:\n",
        "        return False"
      ],
      "metadata": {
        "id": "SdFlgf50DuH7"
      },
      "execution_count": null,
      "outputs": []
    }
  ]
}