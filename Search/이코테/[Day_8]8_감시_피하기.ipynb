{
  "nbformat": 4,
  "nbformat_minor": 0,
  "metadata": {
    "colab": {
      "provenance": [],
      "collapsed_sections": [],
      "toc_visible": true,
      "authorship_tag": "ABX9TyM5iQ0ZmKtcF7flgVaVKzAn",
      "include_colab_link": true
    },
    "kernelspec": {
      "name": "python3",
      "display_name": "Python 3"
    },
    "language_info": {
      "name": "python"
    }
  },
  "cells": [
    {
      "cell_type": "markdown",
      "metadata": {
        "id": "view-in-github",
        "colab_type": "text"
      },
      "source": [
        "<a href=\"https://colab.research.google.com/github/lala991204/CodingTest/blob/master/Search/%EC%9D%B4%EC%BD%94%ED%85%8C/%5BDay_8%5D8_%EA%B0%90%EC%8B%9C_%ED%94%BC%ED%95%98%EA%B8%B0.ipynb\" target=\"_parent\"><img src=\"https://colab.research.google.com/assets/colab-badge.svg\" alt=\"Open In Colab\"/></a>"
      ]
    },
    {
      "cell_type": "markdown",
      "source": [
        "# 문제"
      ],
      "metadata": {
        "id": "sih1Zvpdy3OS"
      }
    },
    {
      "cell_type": "code",
      "execution_count": null,
      "metadata": {
        "id": "nE3znlOCvl0u"
      },
      "outputs": [],
      "source": [
        "# 문제: N*N 크기의 복도에서 학생, 선생님 위치 정보가 주어질 때, 장애물을 정확히 3개 설치하여 모든 학생이\n",
        "# 선생님의 감시를 피할 수 잇는지 출력하는 프로그램 작성하시오. (YES, NO)"
      ]
    },
    {
      "cell_type": "markdown",
      "source": [
        "# 작성 코드"
      ],
      "metadata": {
        "id": "tFKBYE4Jy7yV"
      }
    },
    {
      "cell_type": "code",
      "source": [
        "import time "
      ],
      "metadata": {
        "id": "-G8s84Tbxgsi"
      },
      "execution_count": 2,
      "outputs": []
    },
    {
      "cell_type": "code",
      "source": [
        "n = int(input())\n",
        "map = []\n",
        "for i in range(n):\n",
        "    map.append(list(input().split()))\n",
        "\n",
        "start = time.time()\n",
        "cnt = 3\n",
        "dx = [-1,1,0,0]\n",
        "dy = [0,0,-1,1]\n",
        "\n",
        "def dfs(k,i,j,cnt):       # 재귀 호출 시 변하는 cnt, 좌표 값들을 인자로 설정\n",
        "    if map[i][j] == 'S':\n",
        "        cnt -= 1\n",
        "    for k in range(4):\n",
        "        dx_ = i + dx[k]\n",
        "        dy_ = j + dy[k]\n",
        "        dfs(k,dx_,dy_,cnt)    # 같은 방향으로 추진 (ex: 왼쪽으로 한 번 갔으면, 그 뒤도 왼쪽으로 가도록)\n",
        "    \n",
        "\n",
        "    \n",
        "for i in range(n):\n",
        "    for j in range(n):\n",
        "        if map[i][j] == 'T':\n",
        "            for k in range(4):\n",
        "                dx_ = i + dx[k]\n",
        "                dy_ = j + dy[k]\n",
        "                if map[dx_][dy_] == 'S':\n",
        "                    print('No')\n",
        "                    break\n",
        "            dfs(i,j,cnt)\n",
        "\n",
        "if cnt == 0:\n",
        "    print('YES')\n",
        "else:\n",
        "    print('No')\n",
        "end = time.time()\n",
        "print(end-start)\n",
        "\n",
        "# 오답 이유 -> T의 바로 상,하,좌,우에 S있으면 NO출력, 그 후 DFS를 통해 같은 방향일 경우 재귀적으로 호출해\n",
        "# S만나면 O(장애물) 설치 (cnt-=1) 후, cnt==0이면 YES출력 이라는 알고리즘을 생각해 나름 구현했지만 오답\n",
        "# 정확히 어디에서 문제가 생긴지를 알아내지 못하였음. 모범답안 참고하기"
      ],
      "metadata": {
        "colab": {
          "base_uri": "https://localhost:8080/",
          "height": 353
        },
        "id": "G_4sCPTHwAMd",
        "outputId": "2cc8a9f1-02dc-429c-e31f-877cec76f68a"
      },
      "execution_count": 5,
      "outputs": [
        {
          "name": "stdout",
          "output_type": "stream",
          "text": [
            "5\n",
            "X S X X T\n",
            "T X S X X\n",
            "X X X X X\n",
            "X T X X X\n",
            "X X T X X\n"
          ]
        },
        {
          "output_type": "error",
          "ename": "IndexError",
          "evalue": "ignored",
          "traceback": [
            "\u001b[0;31m---------------------------------------------------------------------------\u001b[0m",
            "\u001b[0;31mIndexError\u001b[0m                                Traceback (most recent call last)",
            "\u001b[0;32m<ipython-input-5-ad48907f5f42>\u001b[0m in \u001b[0;36m<module>\u001b[0;34m\u001b[0m\n\u001b[1;32m     25\u001b[0m                 \u001b[0mdx_\u001b[0m \u001b[0;34m=\u001b[0m \u001b[0mi\u001b[0m \u001b[0;34m+\u001b[0m \u001b[0mdx\u001b[0m\u001b[0;34m[\u001b[0m\u001b[0mk\u001b[0m\u001b[0;34m]\u001b[0m\u001b[0;34m\u001b[0m\u001b[0;34m\u001b[0m\u001b[0m\n\u001b[1;32m     26\u001b[0m                 \u001b[0mdy_\u001b[0m \u001b[0;34m=\u001b[0m \u001b[0mj\u001b[0m \u001b[0;34m+\u001b[0m \u001b[0mdy\u001b[0m\u001b[0;34m[\u001b[0m\u001b[0mk\u001b[0m\u001b[0;34m]\u001b[0m\u001b[0;34m\u001b[0m\u001b[0;34m\u001b[0m\u001b[0m\n\u001b[0;32m---> 27\u001b[0;31m                 \u001b[0;32mif\u001b[0m \u001b[0mmap\u001b[0m\u001b[0;34m[\u001b[0m\u001b[0mdx_\u001b[0m\u001b[0;34m]\u001b[0m\u001b[0;34m[\u001b[0m\u001b[0mdy_\u001b[0m\u001b[0;34m]\u001b[0m \u001b[0;34m==\u001b[0m \u001b[0;34m'S'\u001b[0m\u001b[0;34m:\u001b[0m\u001b[0;34m\u001b[0m\u001b[0;34m\u001b[0m\u001b[0m\n\u001b[0m\u001b[1;32m     28\u001b[0m                     \u001b[0mprint\u001b[0m\u001b[0;34m(\u001b[0m\u001b[0;34m'No'\u001b[0m\u001b[0;34m)\u001b[0m\u001b[0;34m\u001b[0m\u001b[0;34m\u001b[0m\u001b[0m\n\u001b[1;32m     29\u001b[0m                     \u001b[0;32mbreak\u001b[0m\u001b[0;34m\u001b[0m\u001b[0;34m\u001b[0m\u001b[0m\n",
            "\u001b[0;31mIndexError\u001b[0m: list index out of range"
          ]
        }
      ]
    },
    {
      "cell_type": "markdown",
      "source": [
        "# 모범 답안"
      ],
      "metadata": {
        "id": "7RfxRbVNy_WD"
      }
    },
    {
      "cell_type": "code",
      "source": [
        "from itertools import combinations"
      ],
      "metadata": {
        "id": "hrauhJfxVtp6"
      },
      "execution_count": 6,
      "outputs": []
    },
    {
      "cell_type": "code",
      "source": [
        "n = int(input())\n",
        "board = []\n",
        "teachers = []\n",
        "spaces = []\n",
        "for i in range(n):        \n",
        "    board.append(list(input().split()))\n",
        "    for j in range(n):\n",
        "        if board[i][j] == 'T':\n",
        "            teachers.append((i, j))\n",
        "        if board[i][j] == 'X':\n",
        "            spaces.append((i, j))\n",
        "\n",
        "start = time.time()\n",
        "# 학생 발견 : True, 미발견 : False\n",
        "def watch(x, y, direction):\n",
        "    # 왼쪽 방향으로 감시\n",
        "    if direction == 0:\n",
        "        while y >= 0:     # 복도 경계 벗어나지 않도록\n",
        "            if board[x][y] == 'S':\n",
        "                return True\n",
        "            if board[x][y] == 'O':\n",
        "                return False\n",
        "            y -= 1        # 한 칸씩 특정 방향으로 이동하며\n",
        "    # 오른쪽 방향으로 감시\n",
        "    if direction == 1:\n",
        "        while y < n:\n",
        "            if board[x][y] == 'S':\n",
        "                return True\n",
        "            if board[x][y] == 'O':\n",
        "                return False\n",
        "            y += 1\n",
        "    # 위쪽 방향으로 감시\n",
        "    if direction == 2:\n",
        "        while x >= 0:\n",
        "            if board[x][y] == 'S':\n",
        "                return True\n",
        "            if board[x][y] == 'O':\n",
        "                return False\n",
        "            x -= 1\n",
        "    # 아래쪽 방향으로 감시\n",
        "    if direction == 3:\n",
        "        while x < n:\n",
        "            if board[x][y] == 'S':\n",
        "                return True\n",
        "            if board[x][y] == 'O':\n",
        "                return False\n",
        "            x += 1\n",
        "    return False\n",
        "\n",
        "# 장애물 설치 이후, 한 명이라도 학생이 감지되는지 검사\n",
        "def process():\n",
        "    for x, y in teachers:\n",
        "        for i in range(4):\n",
        "            if watch(x, y, i):\n",
        "                return True\n",
        "    return False\n",
        "\n",
        "find = False     # 학생이 한 명도 감지되지 않도록 설치할 수 있는지의 여부\n",
        "\n",
        "# 빈 공간에서 3개 뽑는 모든 조합 확인(\"좌표\") \n",
        "for data in combinations(spaces, 3):\n",
        "    for x, y in data:\n",
        "        board[x][y] = 'O'\n",
        "    if not process():     # False 반환 시 (=> 학생이 장애물로 모두 가려질 경우)\n",
        "        find = True\n",
        "        break\n",
        "    for x, y in data:\n",
        "        board[x][y] = 'X'     # 장애물로 모두 가려지지 않을 때 다시 복구(빈 공간으로)\n",
        "\n",
        "if find:\n",
        "    print('YES')\n",
        "else:\n",
        "    print('NO')\n",
        "end = time.time()\n",
        "print(end-start)\n",
        "\n",
        "# Tip1: 복도 좌표 받아들임과 동시에 각 해당 좌표 저장 (빈 공간, 선생님 공간에 대한 좌표가 필요하므로)\n",
        "\n",
        "# Tip2: 공간의 크기가 제한적인 경우, 이동(or 탐색)할 때 경계 제한을 반드시 해 주어야 함.\n",
        "# 또한, 특정 방향으로 감시를 한다면, (ex: 상하좌우를 각각 방향으로 뻗어나갈 때 따로 함수 정의해주면) 편리함.\n",
        "\n",
        "# Tip3: 작성 답변에서는 장애물을 조합 생각 없이 바로 조건에 맞는(학생을 가릴 수 있는) 좌표에 두도록 알고리즘 짰음.\n",
        "# 그러므로 다른 생각치도 못한 변수에 머물렀을수도 있음. 그러나 모범 답안에서는 \"장애물 3개를 놓을 수 있는 모든 조합\"을\n",
        "# 생각했음(시간 초과없이 문제 해결 가능함을 보인 후). 그 후 실제로 장애물로 학생을 가릴 수 있는지\n",
        "# 확인 작업을 하는 함수도 따로 만듦.\n",
        "\n",
        "# Tip4: True, False 이용하여 원하는 답변 (Y,N) 출력하도록"
      ],
      "metadata": {
        "colab": {
          "base_uri": "https://localhost:8080/"
        },
        "id": "2iNHBpuay1fa",
        "outputId": "281bacff-7702-49d6-d1aa-0f5c82831dbc"
      },
      "execution_count": 8,
      "outputs": [
        {
          "output_type": "stream",
          "name": "stdout",
          "text": [
            "5\n",
            "X S X X T\n",
            "T X S X X\n",
            "X X X X X\n",
            "X T X X X\n",
            "X X T X X\n",
            "YES\n",
            "0.0036382675170898438\n"
          ]
        }
      ]
    },
    {
      "cell_type": "markdown",
      "source": [
        "# 기술 면접 대비"
      ],
      "metadata": {
        "id": "gryCrmQlnYJ3"
      }
    },
    {
      "cell_type": "code",
      "source": [
        "# 1. 복도의 크기 N은 최대 6, 장애물 정확히 3개 설치 즉, 모든 조합의 수는 최악의 경우 36_C_3\n",
        "# 즉, 10,000이하의 수이므로 모든 조합 고려하여 완전 탐색하여도 시간 초과 없이 문제 해결 가능\n",
        "# 조합 라이브러리가 아닌 DFS 또는 BFS로 모든 조합을 찾을 수 있다. "
      ],
      "metadata": {
        "id": "Q5MkbWYxnbjh"
      },
      "execution_count": null,
      "outputs": []
    }
  ]
}