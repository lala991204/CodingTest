{
  "nbformat": 4,
  "nbformat_minor": 0,
  "metadata": {
    "colab": {
      "provenance": [],
      "collapsed_sections": [],
      "authorship_tag": "ABX9TyOg4RDCTc9fgslAKuVepvnT",
      "include_colab_link": true
    },
    "kernelspec": {
      "name": "python3",
      "display_name": "Python 3"
    },
    "language_info": {
      "name": "python"
    }
  },
  "cells": [
    {
      "cell_type": "markdown",
      "metadata": {
        "id": "view-in-github",
        "colab_type": "text"
      },
      "source": [
        "<a href=\"https://colab.research.google.com/github/lala991204/CodingTest/blob/master/Search/%EC%9D%B4%EC%BD%94%ED%85%8C/%5BDay_8%5D8_%EA%B0%90%EC%8B%9C_%ED%94%BC%ED%95%98%EA%B8%B0.ipynb\" target=\"_parent\"><img src=\"https://colab.research.google.com/assets/colab-badge.svg\" alt=\"Open In Colab\"/></a>"
      ]
    },
    {
      "cell_type": "code",
      "source": [
        "# dfs\n",
        "from itertools import combinations\n",
        "\n",
        "n = int(input())\n",
        "board = []\n",
        "teachers = []\n",
        "spaces = []\n",
        "for i in range(n):\n",
        "    board.append(list(input().split()))    # CHECK\n",
        "    for j in range(n):\n",
        "        if board[i][j] == 'T':\n",
        "            teachers.append((i, j))\n",
        "        elif board[i][j] == 'X':\n",
        "            spaces.append((i, j))\n",
        "\n",
        "def watch(x, y, direction):\n",
        "    if direction == 0:            # 좌\n",
        "        while y >= 0:\n",
        "            if board[x][y] == 'S':\n",
        "                return False\n",
        "            elif board[x][y] == 'O':\n",
        "                return True\n",
        "            y -= 1\n",
        "    elif direction == 1:         # 우\n",
        "        while y < n:\n",
        "            if board[x][y] == 'S':\n",
        "                return False\n",
        "            elif board[x][y] == 'O':\n",
        "                return True\n",
        "            y += 1\n",
        "    elif direction == 2:           # 상\n",
        "        while x >= 0:\n",
        "            if board[x][y] == 'S':\n",
        "                return False\n",
        "            elif board[x][y] == 'O':\n",
        "                return True\n",
        "            x -= 1 \n",
        "    elif direction == 3:\n",
        "        while x < n:\n",
        "            if board[x][y] == 'S':\n",
        "                return False\n",
        "            elif board[x][y] == 'O':\n",
        "                return True\n",
        "            x += 1   \n",
        "\n",
        "def process():\n",
        "    for x, y in teachers:\n",
        "        for i in range(4):\n",
        "            if not watch(x, y, i):       # CHECK(해당 인자를 넣기.)\n",
        "                return False         # 하나라도 학생을 걸렀으면 감시 성공(학생 입장에선 False)\n",
        "    return True     # 모두 학생을 못 걸렀으면 감시 실패(학생 입장에선 True)\n",
        "\n",
        "find = False   # 감시 실패(초기화)\n",
        "for data in combinations(spaces, 3):    # CHECK(여기서 조합객체이므로)\n",
        "    for x, y in data:\n",
        "        board[x][y] = 'O'\n",
        "    if process:\n",
        "        find = True      \n",
        "        break      # CHECK(목적 달성 후 나오기)\n",
        "    for x, y in data:\n",
        "        board[x][y] = 'X'   # 복구\n",
        "\n",
        "if find:\n",
        "    print('YES')\n",
        "else:\n",
        "    print('NO')"
      ],
      "metadata": {
        "colab": {
          "base_uri": "https://localhost:8080/"
        },
        "id": "G_4sCPTHwAMd",
        "outputId": "bdce5637-338e-4547-e648-3faa06a23db3"
      },
      "execution_count": null,
      "outputs": [
        {
          "output_type": "stream",
          "name": "stdout",
          "text": [
            "5\n",
            "X S X X T\n",
            "T X S X X\n",
            "X X X X X\n",
            "X T X X X\n",
            "X X T X X\n",
            "YES\n"
          ]
        }
      ]
    }
  ]
}