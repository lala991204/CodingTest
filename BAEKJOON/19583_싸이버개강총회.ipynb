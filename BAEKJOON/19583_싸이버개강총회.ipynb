{
  "nbformat": 4,
  "nbformat_minor": 0,
  "metadata": {
    "colab": {
      "provenance": [],
      "authorship_tag": "ABX9TyMc9vAF6iok47YYkNQnGrcD",
      "include_colab_link": true
    },
    "kernelspec": {
      "name": "python3",
      "display_name": "Python 3"
    },
    "language_info": {
      "name": "python"
    }
  },
  "cells": [
    {
      "cell_type": "markdown",
      "metadata": {
        "id": "view-in-github",
        "colab_type": "text"
      },
      "source": [
        "<a href=\"https://colab.research.google.com/github/lala991204/CodingTest/blob/master/BAEKJOON/19583_%EC%8B%B8%EC%9D%B4%EB%B2%84%EA%B0%9C%EA%B0%95%EC%B4%9D%ED%9A%8C.ipynb\" target=\"_parent\"><img src=\"https://colab.research.google.com/assets/colab-badge.svg\" alt=\"Open In Colab\"/></a>"
      ]
    },
    {
      "cell_type": "code",
      "source": [
        "import sys\n",
        "\n",
        "def main():\n",
        "    cnt = 0\n",
        "    n1 = set()\n",
        "    input = sys.stdin.readline\n",
        "    t1, t2, t3 = input().split()\n",
        "    t1 = int(t1[:2] + t1[3:])\n",
        "    t2 = int(t2[:2] + t2[3:])\n",
        "    t3 = int(t3[:2] + t3[3:])\n",
        "    while True:\n",
        "        try:\n",
        "            t, n = input().split()\n",
        "            t = int(t[:2] + t[3:])\n",
        "            if t <= t1:\n",
        "                n1.add(n)\n",
        "            elif t2 <= t <= t3:\n",
        "                if n in n1:\n",
        "                    n1.remove(n)\n",
        "                    cnt += 1\n",
        "        except:\n",
        "            break\n",
        "    print(cnt)\n",
        "\n",
        "    \n",
        "    \n",
        "\n",
        "if __name__ == '__main__':\n",
        "    main()"
      ],
      "metadata": {
        "id": "yWmyAmHgVxhY"
      },
      "execution_count": 1,
      "outputs": []
    }
  ]
}