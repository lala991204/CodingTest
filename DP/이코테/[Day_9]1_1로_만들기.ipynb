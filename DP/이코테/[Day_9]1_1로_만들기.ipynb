{
  "nbformat": 4,
  "nbformat_minor": 0,
  "metadata": {
    "colab": {
      "provenance": [],
      "collapsed_sections": [],
      "authorship_tag": "ABX9TyM5tFyLkqNxbryKhsGxzRoc",
      "include_colab_link": true
    },
    "kernelspec": {
      "name": "python3",
      "display_name": "Python 3"
    },
    "language_info": {
      "name": "python"
    }
  },
  "cells": [
    {
      "cell_type": "markdown",
      "metadata": {
        "id": "view-in-github",
        "colab_type": "text"
      },
      "source": [
        "<a href=\"https://colab.research.google.com/github/lala991204/CodingTest/blob/master/DP/%EC%9D%B4%EC%BD%94%ED%85%8C/%5BDay_9%5D1_1%EB%A1%9C_%EB%A7%8C%EB%93%A4%EA%B8%B0.ipynb\" target=\"_parent\"><img src=\"https://colab.research.google.com/assets/colab-badge.svg\" alt=\"Open In Colab\"/></a>"
      ]
    },
    {
      "cell_type": "code",
      "source": [
        "n = int(input())\n",
        "d = [0] * 30001    # max(n)==30000, index=1~(input갑 그대로 쓰고 싶을때) / element=0 <-need not exist\n",
        "# d[0],d[1] = 0\n",
        "for i in range(2, n+1):\n",
        "    d[i] = d[i-1] + 1  \n",
        "    if i % 2 == 0:\n",
        "        d[i] = min(d[i//2] + 1, d[i])      # CHECK(i에 나눠야 함)\n",
        "    if i % 3 == 0:\n",
        "        d[i] = min(d[i//3] + 1, d[i])\n",
        "    if i % 5 == 0:\n",
        "        d[i] = min(d[i//5] + 1, d[i])\n",
        "print(d[n])\n",
        "\n",
        "# 나누기, 빼기 각각 하나이면 당연 나누는 게 최소한의 연산으로 되니 => Greedy\n",
        "# BUT, 지금은 나누기 옵션이 두 개 이상임 => DP"
      ],
      "metadata": {
        "id": "Q5MkbWYxnbjh",
        "colab": {
          "base_uri": "https://localhost:8080/"
        },
        "outputId": "2b8f92a2-ed22-4854-9544-61045f9e96dd"
      },
      "execution_count": null,
      "outputs": [
        {
          "output_type": "stream",
          "name": "stdout",
          "text": [
            "26\n",
            "3\n"
          ]
        }
      ]
    }
  ]
}