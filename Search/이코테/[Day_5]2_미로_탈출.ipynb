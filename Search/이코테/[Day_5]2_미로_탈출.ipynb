{
  "nbformat": 4,
  "nbformat_minor": 0,
  "metadata": {
    "colab": {
      "name": "[Day 5]2.미로 탈출.ipynb",
      "provenance": [],
      "collapsed_sections": [],
      "toc_visible": true,
      "authorship_tag": "ABX9TyOtdw7gyPSyPJHCLawsq6zk",
      "include_colab_link": true
    },
    "kernelspec": {
      "name": "python3",
      "display_name": "Python 3"
    },
    "language_info": {
      "name": "python"
    }
  },
  "cells": [
    {
      "cell_type": "markdown",
      "metadata": {
        "id": "view-in-github",
        "colab_type": "text"
      },
      "source": [
        "<a href=\"https://colab.research.google.com/github/lala991204/CodingTest/blob/master/Search/%EC%9D%B4%EC%BD%94%ED%85%8C/%5BDay_5%5D2_%EB%AF%B8%EB%A1%9C_%ED%83%88%EC%B6%9C.ipynb\" target=\"_parent\"><img src=\"https://colab.research.google.com/assets/colab-badge.svg\" alt=\"Open In Colab\"/></a>"
      ]
    },
    {
      "cell_type": "markdown",
      "source": [
        "# 문제"
      ],
      "metadata": {
        "id": "sih1Zvpdy3OS"
      }
    },
    {
      "cell_type": "code",
      "execution_count": null,
      "metadata": {
        "id": "nE3znlOCvl0u"
      },
      "outputs": [],
      "source": [
        "# 문제: 동빈이는 N*M 크기의 직사각형 형태의 미로에 갇혀있다. 미로에는 여러 마리의 괴물이 있어 이를 피해 탈출해야 한다.\n",
        "# 동빈이의 위치는 (1,1)이고, 미로의 출구는 (N,M)의 위치에 존재하며 한 번에 한 칸씩 이동 가능하다.\n",
        "# 이때, 괴물이 있는 부분은 0이고 없는 부분은 1로 표시되어 있다. 미로는 반드시 탈출할 수 있는 형태로 제시된다.\n",
        "# 동빈이가 탈출하기 위해 움직여야 하는 최소 칸의 개수를 구하시오. (단, 시작과 마지막 칸을 모두 포함)"
      ]
    },
    {
      "cell_type": "markdown",
      "source": [
        "# 작성 코드"
      ],
      "metadata": {
        "id": "tFKBYE4Jy7yV"
      }
    },
    {
      "cell_type": "code",
      "source": [
        "import time \n",
        "from collections import deque"
      ],
      "metadata": {
        "id": "wbIbw5Kz_AUG"
      },
      "execution_count": 2,
      "outputs": []
    },
    {
      "cell_type": "code",
      "source": [
        "n, m = input().split()   # 'list' object is not callable 오류로 인해 따로\n",
        "n = int(n)\n",
        "m = int(m)\n",
        "\n",
        "map = []\n",
        "for i in range(n):\n",
        "    map.append(list(input().split()))\n",
        "for i in range(m):\n",
        "    for j in range(n):\n",
        "        map[i][j] = int(map[i][j])\n",
        "\n",
        "\n",
        "start = time.time()\n",
        "def bfs(x,y):    # n,m,map에 대해 지역적 참조 가능함.(그게 반복적으로 사용을 안 하면)\n",
        "    count = 0 \n",
        "    queue = deque([[x,y]])       # 시작점 저장\n",
        "    map[x][y] = 0   # 방문처리\n",
        "    v = [x,y]\n",
        "    while (v[0] != n-2 or v[1] != m-1) and (v[0] != n-1 or v[1] != m-2):    # 도착할 때까지 반복\n",
        "        v = queue.popleft()   # 큐의 원소 꺼낸 횟수만큼 카운트\n",
        "        count += 1\n",
        "        if v[0]>-1 and v[1] >-2 and v[0]<n and v[1]<m-1:      # 최소 칸 이동 => 오른쪽, 아래를 우선 순위로 이동하도록\n",
        "            if map[v[0]][v[1]+1] == 1:\n",
        "                queue.append([v[0],v[1]+1])\n",
        "                map[v[0]][v[1]+1] = 0\n",
        "        if v[0]>-2 and v[1] >-1 and v[0]<n-1 and v[1]<m:\n",
        "            if map[v[0]+1][v[1]] == 1:\n",
        "                queue.append([v[0]+1,v[1]])\n",
        "                map[v[0]+1][v[1]] = 0\n",
        "    return count           # 답을 출력하기 위해 def 안에서 해당 값을 초기화해야함\n",
        "print(bfs(0,0))  # 시작점 고정!\n",
        "\n",
        "end = time.time()\n",
        "print(end-start)\n",
        "\n",
        "# 오답 이유 -> X\n",
        "\n",
        "# DFS와 BFS 차이점을 잘 보고 이용해야 함!\n",
        "# \"1.음료수 얼려 먹기\"는 연결된 모든 부분을 찾아야 하므로, 뿌리를 내리는 형식으로 진행함 (깊이 우선 탐색)\n",
        "# => 낱개로 구분되어 있는 걸 찾아야 하니 따로 def 밖에 코드 작성 필요\n",
        "# \"2.미로 탈출\"은 연결된 모든 부분 찾을 필요없이, 최소 칸을 이동하며 움직이므로 가까운 부분(거리 같은 부분)부터 진행함 (넓이 우선 탐색)\n",
        "# => 연결된 길이니 따로 def 밖에 코드 작성할 필요 없음\n",
        "\n",
        "# 1 0 0   # (0,0)=>(1,0)=>(1,1)=>(2,0)=>(1,2)=>(2,2)\n",
        "# 1 1 1   # 현재 꺼낸 위치가 (1,2) 또는 (2,1) 위치에 있으면 끝남 => 반대가 될 때까지 반복\n",
        "# 1 0 1\n",
        "\n",
        "# 주의할 점: 미지의 index포함한 if문 쓸 때, boundary부터 체크해야 함 (동시에 x) "
      ],
      "metadata": {
        "colab": {
          "base_uri": "https://localhost:8080/"
        },
        "id": "G_4sCPTHwAMd",
        "outputId": "9788dcc9-fa3f-4356-b705-3597f1707a5f"
      },
      "execution_count": 32,
      "outputs": [
        {
          "output_type": "stream",
          "name": "stdout",
          "text": [
            "3 3\n",
            "1 0 0\n",
            "1 1 1\n",
            "0 0 1\n",
            "4\n",
            "0.0005490779876708984\n"
          ]
        }
      ]
    },
    {
      "cell_type": "markdown",
      "source": [
        "# 모범 답안"
      ],
      "metadata": {
        "id": "7RfxRbVNy_WD"
      }
    },
    {
      "cell_type": "code",
      "source": [
        "n, m = input().split()   # 'list' object is not callable 오류로 인해 따로\n",
        "n = int(n)\n",
        "m = int(m)\n",
        "\n",
        "graph = []\n",
        "for i in range(n):\n",
        "    graph.append(list(input().split()))\n",
        "for i in range(m):\n",
        "    for j in range(n):\n",
        "        graph[i][j] = int(graph[i][j])\n",
        "\n",
        "start = time.time()\n",
        "# 이동할 네 방향 정의 (상, 하, 좌, 우)\n",
        "dx = [-1, 1, 0, 0]\n",
        "dy = [0, 0, -1, 1]\n",
        "\n",
        "# BFS 구현\n",
        "def bfs(x, y):\n",
        "    queue = deque()\n",
        "    queue.append((x,y))    # 순서쌍\n",
        "    # 큐가 빌 때까지 반복\n",
        "    while queue:\n",
        "        x, y = queue.popleft()\n",
        "        # 현재 위치에서 네 방향으로의 위치 확인\n",
        "        for i in range(4):\n",
        "            nx = x + dx[i]\n",
        "            ny = y + dy[i]\n",
        "            # 미로 찾기 공간을 벗어난 경우 무시\n",
        "            if nx < 0 or ny < 0 or nx >= n or ny >= m:\n",
        "                continue\n",
        "            # 벽인 경우 무시\n",
        "            if graph[nx][ny] == 0:\n",
        "                continue\n",
        "            # 해당 노드를 \"처음 방문하는 경우에만\" 최단 거리 기록\n",
        "            if graph[nx][ny] == 1:\n",
        "                graph[nx][ny] = graph[x][y] + 1\n",
        "                queue.append((nx,ny))\n",
        "    # 가장 오른쪽 아래까지의 최단 거리 반환\n",
        "    return graph[n-1][m-1]\n",
        "print(bfs(0,0))\n",
        "end = time.time()\n",
        "print(end-start)\n",
        "\n",
        "# Tip1: 나의 답변에서 도착할 때까지의 조건과 이동 범위 조건을 일일이 조정하지 않아도 모범답안처럼 boundary 조건 한 줄이면 간결하게 표현가능.\n",
        "# Tip2: 큐 빌때까지 진행해도 문제없는 소스코드임."
      ],
      "metadata": {
        "colab": {
          "base_uri": "https://localhost:8080/"
        },
        "id": "2iNHBpuay1fa",
        "outputId": "f63bfaf7-efc6-4bea-f9c7-26e0bba7a467"
      },
      "execution_count": 36,
      "outputs": [
        {
          "output_type": "stream",
          "name": "stdout",
          "text": [
            "3 3\n",
            "1 0 0\n",
            "1 1 1\n",
            "0 0 1\n",
            "5\n",
            "0.00072479248046875\n"
          ]
        }
      ]
    },
    {
      "cell_type": "markdown",
      "source": [
        "# 기술 면접 대비"
      ],
      "metadata": {
        "id": "gryCrmQlnYJ3"
      }
    },
    {
      "cell_type": "code",
      "source": [
        "# 1."
      ],
      "metadata": {
        "id": "Q5MkbWYxnbjh"
      },
      "execution_count": null,
      "outputs": []
    }
  ]
}