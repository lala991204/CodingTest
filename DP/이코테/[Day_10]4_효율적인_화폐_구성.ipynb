{
  "nbformat": 4,
  "nbformat_minor": 0,
  "metadata": {
    "colab": {
      "provenance": [],
      "collapsed_sections": [],
      "toc_visible": true,
      "authorship_tag": "ABX9TyMo4CPp2+QRKqkunUxyRl0K",
      "include_colab_link": true
    },
    "kernelspec": {
      "name": "python3",
      "display_name": "Python 3"
    },
    "language_info": {
      "name": "python"
    }
  },
  "cells": [
    {
      "cell_type": "markdown",
      "metadata": {
        "id": "view-in-github",
        "colab_type": "text"
      },
      "source": [
        "<a href=\"https://colab.research.google.com/github/lala991204/CodingTest/blob/master/DP/%EC%9D%B4%EC%BD%94%ED%85%8C/%5BDay_10%5D4_%ED%9A%A8%EC%9C%A8%EC%A0%81%EC%9D%B8_%ED%99%94%ED%8F%90_%EA%B5%AC%EC%84%B1.ipynb\" target=\"_parent\"><img src=\"https://colab.research.google.com/assets/colab-badge.svg\" alt=\"Open In Colab\"/></a>"
      ]
    },
    {
      "cell_type": "markdown",
      "source": [
        "# 문제"
      ],
      "metadata": {
        "id": "sih1Zvpdy3OS"
      }
    },
    {
      "cell_type": "code",
      "execution_count": null,
      "metadata": {
        "id": "nE3znlOCvl0u"
      },
      "outputs": [],
      "source": [
        "# 문제: N가지 종류의 화폐가 있다. 이 화폐의 개수를 최소한으로 이용해서 그 가치의 합이 M원이 되도록 한다.\n",
        "# 그 최소한의 화폐 개수를 구하는 프로그램을 작성하시오.\n",
        "# 단, 불가능한 경우에는 -1을 출력하시오."
      ]
    },
    {
      "cell_type": "markdown",
      "source": [
        "# 작성 코드"
      ],
      "metadata": {
        "id": "tFKBYE4Jy7yV"
      }
    },
    {
      "cell_type": "code",
      "source": [
        "import time "
      ],
      "metadata": {
        "id": "-G8s84Tbxgsi"
      },
      "execution_count": 2,
      "outputs": []
    },
    {
      "cell_type": "code",
      "source": [
        "n, m = map(int, input().split())\n",
        "coin = []\n",
        "# coin.append(0)\n",
        "for _ in range(n):\n",
        "    coin.append(input())\n",
        "\n",
        "start = time.time()\n",
        "d = [0] * 101      # 화폐 단위 넣는 공간 (DP 테이블)\n",
        "\n",
        "# for k in range(len(coin)):\n",
        "#     for i in range(n+1):\n",
        "#         d[k] = min(d[k], coin[k] * i + coin[k-1])\n",
        "\n",
        "for i in range(n+1):\n",
        "    d[i] = min()\n",
        "\n",
        "print(d[n])\n",
        "end = time.time()\n",
        "print(end-start)\n",
        "\n",
        "# 오답 이유 -> 알고리즘 손도 못 댐. 아직 개념 이해 부족."
      ],
      "metadata": {
        "colab": {
          "base_uri": "https://localhost:8080/",
          "height": 299
        },
        "id": "G_4sCPTHwAMd",
        "outputId": "cdd3ae22-f9b6-42b3-b6e7-e27addfc5917"
      },
      "execution_count": 3,
      "outputs": [
        {
          "name": "stdout",
          "output_type": "stream",
          "text": [
            "2 15\n",
            "2\n",
            "3\n"
          ]
        },
        {
          "output_type": "error",
          "ename": "TypeError",
          "evalue": "ignored",
          "traceback": [
            "\u001b[0;31m---------------------------------------------------------------------------\u001b[0m",
            "\u001b[0;31mTypeError\u001b[0m                                 Traceback (most recent call last)",
            "\u001b[0;32m<ipython-input-3-d6021e7ccd5f>\u001b[0m in \u001b[0;36m<module>\u001b[0;34m\u001b[0m\n\u001b[1;32m     13\u001b[0m \u001b[0;34m\u001b[0m\u001b[0m\n\u001b[1;32m     14\u001b[0m \u001b[0;32mfor\u001b[0m \u001b[0mi\u001b[0m \u001b[0;32min\u001b[0m \u001b[0mrange\u001b[0m\u001b[0;34m(\u001b[0m\u001b[0mn\u001b[0m\u001b[0;34m+\u001b[0m\u001b[0;36m1\u001b[0m\u001b[0;34m)\u001b[0m\u001b[0;34m:\u001b[0m\u001b[0;34m\u001b[0m\u001b[0;34m\u001b[0m\u001b[0m\n\u001b[0;32m---> 15\u001b[0;31m     \u001b[0md\u001b[0m\u001b[0;34m[\u001b[0m\u001b[0mi\u001b[0m\u001b[0;34m]\u001b[0m \u001b[0;34m=\u001b[0m \u001b[0mmin\u001b[0m\u001b[0;34m(\u001b[0m\u001b[0;34m)\u001b[0m\u001b[0;34m\u001b[0m\u001b[0;34m\u001b[0m\u001b[0m\n\u001b[0m\u001b[1;32m     16\u001b[0m \u001b[0;34m\u001b[0m\u001b[0m\n\u001b[1;32m     17\u001b[0m \u001b[0mprint\u001b[0m\u001b[0;34m(\u001b[0m\u001b[0md\u001b[0m\u001b[0;34m[\u001b[0m\u001b[0mn\u001b[0m\u001b[0;34m]\u001b[0m\u001b[0;34m)\u001b[0m\u001b[0;34m\u001b[0m\u001b[0;34m\u001b[0m\u001b[0m\n",
            "\u001b[0;31mTypeError\u001b[0m: min expected 1 arguments, got 0"
          ]
        }
      ]
    },
    {
      "cell_type": "markdown",
      "source": [
        "# 모범 답안"
      ],
      "metadata": {
        "id": "7RfxRbVNy_WD"
      }
    },
    {
      "cell_type": "code",
      "source": [
        "n, m = map(int, input().split())\n",
        "array = []\n",
        "for i in range(n):\n",
        "    array.append(int(input()))\n",
        "\n",
        "start = time.time()\n",
        "# 한 번 계산된 결과를 저장하기 위한 DP 테이블 초기화 (절대 가질 수 없는 값으로 설정<= 값 제한 참고)\n",
        "d = [10001] * (m+1) \n",
        "\n",
        "# DP의 보텀업 방식\n",
        "d[0] = 0      # 해당 화폐 단위는 count=1 할 수 있게끔\n",
        "for i in range(n):\n",
        "    for j in range(array[i], m + 1):\n",
        "        if d[j - array[i]] != 10001:       # (i-k)원을 만드는 방법이 존재하는 경우\n",
        "            d[j] = min(d[j], d[j - array[i]] + 1)\n",
        "\n",
        "if d[m] == 10001:\n",
        "    print(-1)\n",
        "else:\n",
        "    print(d[m])\n",
        "\n",
        "\n",
        "end = time.time()\n",
        "print(end-start)\n",
        "\n",
        "# Tip1: min을 이용하기 위해 초기화를 가질 수 없는 큰 값으로 주는 것\n",
        "# 현 화폐 단위를 최종 값에서 빼서 그 값이 이전에 계산된 값이라면 그것보다 최소가 될 때 업뎃\n",
        "# 이전에 계산되지 않았다는 건 계산할 방법이 없다는 뜻이므로 넘어감."
      ],
      "metadata": {
        "colab": {
          "base_uri": "https://localhost:8080/"
        },
        "id": "2iNHBpuay1fa",
        "outputId": "b1760d97-8fad-45bf-a049-afbc6bfba344"
      },
      "execution_count": 4,
      "outputs": [
        {
          "output_type": "stream",
          "name": "stdout",
          "text": [
            "2 15\n",
            "3\n",
            "5\n",
            "3\n",
            "0.0006775856018066406\n"
          ]
        }
      ]
    },
    {
      "cell_type": "markdown",
      "source": [
        "# 기술 면접 대비"
      ],
      "metadata": {
        "id": "gryCrmQlnYJ3"
      }
    },
    {
      "cell_type": "code",
      "source": [
        "# 1. 화폐 단위에서 큰 단위가 작은 단위의 배수가 아니므로 그리디 알고리즘이 아닌, DP 알고리즘을 써야 한다.\n",
        "# 적은 화폐 단위부터 큰 단위까지 차례대로 보며 최소 개수 찾아야 한다."
      ],
      "metadata": {
        "id": "Q5MkbWYxnbjh"
      },
      "execution_count": null,
      "outputs": []
    }
  ]
}