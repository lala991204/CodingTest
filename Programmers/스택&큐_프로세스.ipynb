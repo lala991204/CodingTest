{
  "nbformat": 4,
  "nbformat_minor": 0,
  "metadata": {
    "colab": {
      "provenance": [],
      "authorship_tag": "ABX9TyO06g/mLRSECgBzQ+1sj/42",
      "include_colab_link": true
    },
    "kernelspec": {
      "name": "python3",
      "display_name": "Python 3"
    },
    "language_info": {
      "name": "python"
    }
  },
  "cells": [
    {
      "cell_type": "markdown",
      "metadata": {
        "id": "view-in-github",
        "colab_type": "text"
      },
      "source": [
        "<a href=\"https://colab.research.google.com/github/lala991204/CodingTest/blob/master/Programmers/%EC%8A%A4%ED%83%9D%26%ED%81%90_%ED%94%84%EB%A1%9C%EC%84%B8%EC%8A%A4.ipynb\" target=\"_parent\"><img src=\"https://colab.research.google.com/assets/colab-badge.svg\" alt=\"Open In Colab\"/></a>"
      ]
    },
    {
      "cell_type": "code",
      "source": [
        "from collections import deque\n",
        "\n",
        "def solution(priorities, location):\n",
        "    answer = 0\n",
        "    q = deque(priorities)\n",
        "    while q:\n",
        "        comp = q.popleft()\n",
        "        if q and comp < max(q):\n",
        "            q.append(comp)\n",
        "            if location == 0:\n",
        "                location = len(q)\n",
        "            location -= 1\n",
        "        else:\n",
        "            answer += 1\n",
        "            if location == 0:\n",
        "                return answer\n",
        "            location -= 1"
      ],
      "metadata": {
        "id": "SdFlgf50DuH7"
      },
      "execution_count": null,
      "outputs": []
    }
  ]
}