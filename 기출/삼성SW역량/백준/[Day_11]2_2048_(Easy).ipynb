{
  "nbformat": 4,
  "nbformat_minor": 0,
  "metadata": {
    "colab": {
      "provenance": [],
      "collapsed_sections": [],
      "toc_visible": true,
      "authorship_tag": "ABX9TyM7gtEcA/a0gZzLfLn+lTws",
      "include_colab_link": true
    },
    "kernelspec": {
      "name": "python3",
      "display_name": "Python 3"
    },
    "language_info": {
      "name": "python"
    }
  },
  "cells": [
    {
      "cell_type": "markdown",
      "metadata": {
        "id": "view-in-github",
        "colab_type": "text"
      },
      "source": [
        "<a href=\"https://colab.research.google.com/github/lala991204/CodingTest/blob/master/%EA%B8%B0%EC%B6%9C/%EC%82%BC%EC%84%B1SW%EC%97%AD%EB%9F%89/%EB%B0%B1%EC%A4%80/%5BDay_11%5D2_2048_(Easy).ipynb\" target=\"_parent\"><img src=\"https://colab.research.google.com/assets/colab-badge.svg\" alt=\"Open In Colab\"/></a>"
      ]
    },
    {
      "cell_type": "code",
      "source": [
        "from copy import deepcopy\n",
        "\n",
        "n = int(input())\n",
        "graph = [list(map(int, input().split())) for _ in range(n)]\n",
        "ans = 0\n",
        "\n",
        "def up(graph):\n",
        "    for j in range(n):      # 열 고정 (행 방향으로 움직여짐)\n",
        "        p = 0      # 누적당할 부분부터 p로 둠.\n",
        "        for i in range(1, n):\n",
        "            if graph[i][j]:\n",
        "                temp = graph[i][j]\n",
        "                graph[i][j] = 0       # 이동하게 되면 원래 자리는 0이 되므로\n",
        "                if graph[p][j] == 0:\n",
        "                    graph[p][j] = temp  # 0이 나오면 temp 대입   \n",
        "                elif graph[p][j] == temp:  # temp나오면 두 배\n",
        "                    graph[p][j] *= 2\n",
        "                    p += 1              \n",
        "                else:\n",
        "                    p += 1\n",
        "                    graph[p][j] = temp\n",
        "    return graph\n",
        "\n",
        "def down(graph):\n",
        "    for j in range(n):\n",
        "        p = n - 1   # 인덱스 0부터 시작이라면, 이건 맨 끝을 가리킴\n",
        "        for i in range(n - 2, -1, -1):   # 맨 뒤 두 번째부터 순차적으로 0까지 줄어드는 \n",
        "            if graph[i][j]:\n",
        "                temp = graph[i][j]\n",
        "                graph[i][j] = 0\n",
        "                if graph[p][j] == 0:\n",
        "                    graph[p][j] = temp\n",
        "                elif graph[p][j] == temp:\n",
        "                    graph[p][j] *= 2\n",
        "                    p -= 1\n",
        "                else:\n",
        "                    p -= 1\n",
        "                    graph[p][j] = temp\n",
        "    return graph\n",
        "\n",
        "def left(graph):\n",
        "    for i in range(n):   # 행 고정, 열 방향 움직임\n",
        "        p = 0\n",
        "        for j in range(1, n):\n",
        "            if graph[i][j]:\n",
        "                temp = graph[i][j]\n",
        "                graph[i][j] = 0\n",
        "                if graph[i][p] == 0:\n",
        "                    graph[i][p] = temp\n",
        "                elif graph[i][p] == temp:\n",
        "                    graph[i][p] *= 2\n",
        "                    p += 1\n",
        "                else:\n",
        "                    p += 1\n",
        "                    graph[i][p] = temp\n",
        "    return graph\n",
        "\n",
        "def right(graph):\n",
        "    for i in range(n):\n",
        "        p = n - 1\n",
        "        for j in range(n - 2, -1, -1):\n",
        "            if graph[i][j]:\n",
        "                temp = graph[i][j]\n",
        "                graph[i][j] = 0\n",
        "                if graph[i][p] == 0:\n",
        "                    graph[i][p] = temp\n",
        "                elif graph[i][p] == temp:\n",
        "                    graph[i][p] *= 2\n",
        "                    p -= 1\n",
        "                else:\n",
        "                    p -= 1\n",
        "                    graph[i][p] = temp\n",
        "    return graph\n",
        "\n",
        "# dfs는 상-하-좌-우 뿌리를 내려 갈 수 있는 곳을 모두 가게끔 함. => 모든 경우를 카운트==5가 될때까지 반복하고, 각 경우를 종료하게 됨.\n",
        "# 누적해서 max를 저장한 뒤...\n",
        "\n",
        "# 그리고 각 뿌리의 경로마다 독립성을 가져야 하므로 deepcopy를 씀 (1차원배열에선 copy만 해도 원본이 안 바뀜, 근데 2차원배열부턴 deepcopy로.)\n",
        "def dfs(graph, cnt):\n",
        "    global ans\n",
        "    if cnt == 5:\n",
        "        ans = max(ans, max(map(max, graph)))   # 각 list에서의 max인 값들 중 max값으로 선정(2d array max)\n",
        "        return \n",
        "\n",
        "    dfs(up(deepcopy(graph)), cnt + 1)\n",
        "    dfs(down(deepcopy(graph)), cnt + 1)\n",
        "    dfs(left(deepcopy(graph)), cnt + 1)\n",
        "    dfs(right(deepcopy(graph)), cnt + 1)\n",
        "\n",
        "dfs(graph, 0)\n",
        "print(ans)"
      ],
      "metadata": {
        "colab": {
          "base_uri": "https://localhost:8080/"
        },
        "id": "G_4sCPTHwAMd",
        "outputId": "3204505e-2b7a-4440-90d0-f38d0192a939"
      },
      "execution_count": null,
      "outputs": [
        {
          "output_type": "stream",
          "name": "stdout",
          "text": [
            "3\n",
            "2 2 2\n",
            "4 4 4\n",
            "8 8 8\n",
            "16\n"
          ]
        }
      ]
    },
    {
      "cell_type": "code",
      "source": [],
      "metadata": {
        "id": "E4GrgGVqLrpS"
      },
      "execution_count": null,
      "outputs": []
    }
  ]
}