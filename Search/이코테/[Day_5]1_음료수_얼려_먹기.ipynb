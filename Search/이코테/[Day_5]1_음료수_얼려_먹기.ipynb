{
  "nbformat": 4,
  "nbformat_minor": 0,
  "metadata": {
    "colab": {
      "name": "[Day 5]1.음료수 얼려 먹기.ipynb",
      "provenance": [],
      "collapsed_sections": [],
      "toc_visible": true,
      "authorship_tag": "ABX9TyNj0ZVtqAAXMf5mQkyy6KKJ",
      "include_colab_link": true
    },
    "kernelspec": {
      "name": "python3",
      "display_name": "Python 3"
    },
    "language_info": {
      "name": "python"
    }
  },
  "cells": [
    {
      "cell_type": "markdown",
      "metadata": {
        "id": "view-in-github",
        "colab_type": "text"
      },
      "source": [
        "<a href=\"https://colab.research.google.com/github/lala991204/CodingTest/blob/master/Search/%EC%9D%B4%EC%BD%94%ED%85%8C/%5BDay_5%5D1_%EC%9D%8C%EB%A3%8C%EC%88%98_%EC%96%BC%EB%A0%A4_%EB%A8%B9%EA%B8%B0.ipynb\" target=\"_parent\"><img src=\"https://colab.research.google.com/assets/colab-badge.svg\" alt=\"Open In Colab\"/></a>"
      ]
    },
    {
      "cell_type": "markdown",
      "source": [
        "# 문제"
      ],
      "metadata": {
        "id": "sih1Zvpdy3OS"
      }
    },
    {
      "cell_type": "code",
      "execution_count": null,
      "metadata": {
        "id": "nE3znlOCvl0u"
      },
      "outputs": [],
      "source": [
        "# 문제: N*M 크기의 얼음 틀이 있다. 구멍이 뚫려 있는 부분은 0, 칸막이가 존재하는 부분은 1로 표시될 때\n",
        "# 구멍이 뚫려 있는 부분끼리 상, 하, 좌, 우로 붙어 있는 경우 서로 연결되어 있는 것으로 간주한다.\n",
        "# 이때 얼음 틀의 모양이 주어졌을 때 생성되는 총 아이스크림 개수를 구하는 프로그램을 작성하여라."
      ]
    },
    {
      "cell_type": "markdown",
      "source": [
        "# 작성 코드"
      ],
      "metadata": {
        "id": "tFKBYE4Jy7yV"
      }
    },
    {
      "cell_type": "code",
      "source": [
        "import time "
      ],
      "metadata": {
        "id": "RDRUlFETr1sj"
      },
      "execution_count": 53,
      "outputs": []
    },
    {
      "cell_type": "code",
      "source": [
        "N, M = input().split()   # 'list' object is not callable 오류로 인해 따로\n",
        "N = int(N)\n",
        "M = int(M)\n",
        "\n",
        "map = []\n",
        "for i in range(N):\n",
        "    map.append(list(input().split()))\n",
        "for i in range(M):\n",
        "    for j in range(N):\n",
        "        map[i][j] = int(map[i][j])\n",
        "\n",
        "start = time.time()\n",
        "# 기준 좌표와 이웃한 것들 찾기 (상:0,하:1,좌:2,우:3)\n",
        "visited = [[0]*M for i in range(N)]\n",
        "i=0\n",
        "j=0\n",
        "result = 0      # def안에 두면, local 상 문제 생김.\n",
        "def mapping(i,j):    \n",
        "    if map[i][j] == 0 and visited[i][j] == 0:     \n",
        "        visited[i][j] = 1\n",
        "        if map[i][j+1] == 0 and j<M:      # 우\n",
        "            visited[i][j+1] = 1\n",
        "            mapping(i,j+1)\n",
        "            i = i\n",
        "            j += 1\n",
        "        elif map[i][j-1] == 0 and j>-1:     # 좌\n",
        "            visited[i][j-1] = 1\n",
        "            mapping(i,j-1)\n",
        "            i = i\n",
        "            j -= 1\n",
        "        elif map[i+1][j] == 0 and i>-1:  # 상\n",
        "            visited[i+1][j] = 1\n",
        "            mapping(i+1,j)\n",
        "            i += 1\n",
        "            j = j\n",
        "        elif map[i-1][j] == 0 and i<M:  # 하\n",
        "            visited[i-1][j] = 1\n",
        "            mapping(i-1,j)\n",
        "            i -= 1\n",
        "            j = j\n",
        "    return i,j\n",
        "\n",
        "while i<N and j<M:\n",
        "    i, j = mapping(i,j)\n",
        "    result += 1\n",
        "    i = (j+1)//M\n",
        "    j = (j+1)%M-1\n",
        "print(result)\n",
        "end = time.time()\n",
        "print(end-start)\n",
        "\n",
        "# 오답 이유 -> 멈추지 않음. 낭비되는 게 많을 듯.. dfs 알고리즘으로,,!"
      ],
      "metadata": {
        "colab": {
          "base_uri": "https://localhost:8080/",
          "height": 299
        },
        "id": "G_4sCPTHwAMd",
        "outputId": "32231a8f-6220-4087-fe18-fa31423bb04c"
      },
      "execution_count": 49,
      "outputs": [
        {
          "name": "stdout",
          "output_type": "stream",
          "text": [
            "2 2\n",
            "1 0\n",
            "0 0\n"
          ]
        },
        {
          "output_type": "error",
          "ename": "KeyboardInterrupt",
          "evalue": "ignored",
          "traceback": [
            "\u001b[0;31m---------------------------------------------------------------------------\u001b[0m",
            "\u001b[0;31mKeyboardInterrupt\u001b[0m                         Traceback (most recent call last)",
            "\u001b[0;32m<ipython-input-49-47fe3f3f5bd6>\u001b[0m in \u001b[0;36m<module>\u001b[0;34m\u001b[0m\n\u001b[1;32m     60\u001b[0m     \u001b[0;32mreturn\u001b[0m \u001b[0mi\u001b[0m\u001b[0;34m,\u001b[0m\u001b[0mj\u001b[0m\u001b[0;34m\u001b[0m\u001b[0;34m\u001b[0m\u001b[0m\n\u001b[1;32m     61\u001b[0m \u001b[0;34m\u001b[0m\u001b[0m\n\u001b[0;32m---> 62\u001b[0;31m \u001b[0;32mwhile\u001b[0m \u001b[0mi\u001b[0m\u001b[0;34m<\u001b[0m\u001b[0mN\u001b[0m \u001b[0;32mand\u001b[0m \u001b[0mj\u001b[0m\u001b[0;34m<\u001b[0m\u001b[0mM\u001b[0m\u001b[0;34m:\u001b[0m\u001b[0;34m\u001b[0m\u001b[0;34m\u001b[0m\u001b[0m\n\u001b[0m\u001b[1;32m     63\u001b[0m     \u001b[0mi\u001b[0m\u001b[0;34m,\u001b[0m \u001b[0mj\u001b[0m \u001b[0;34m=\u001b[0m \u001b[0mmapping\u001b[0m\u001b[0;34m(\u001b[0m\u001b[0mi\u001b[0m\u001b[0;34m,\u001b[0m\u001b[0mj\u001b[0m\u001b[0;34m)\u001b[0m\u001b[0;34m\u001b[0m\u001b[0;34m\u001b[0m\u001b[0m\n\u001b[1;32m     64\u001b[0m     \u001b[0mresult\u001b[0m \u001b[0;34m+=\u001b[0m \u001b[0;36m1\u001b[0m\u001b[0;34m\u001b[0m\u001b[0;34m\u001b[0m\u001b[0m\n",
            "\u001b[0;31mKeyboardInterrupt\u001b[0m: "
          ]
        }
      ]
    },
    {
      "cell_type": "markdown",
      "source": [
        "# 모범 답안"
      ],
      "metadata": {
        "id": "7RfxRbVNy_WD"
      }
    },
    {
      "cell_type": "code",
      "source": [
        "n, m = input().split()   # 'list' object is not callable 오류로 인해 따로\n",
        "n = int(n)\n",
        "m = int(m)\n",
        "\n",
        "graph = []\n",
        "for i in range(n):\n",
        "    graph.append(list(input().split()))\n",
        "for i in range(n):\n",
        "    for j in range(m):\n",
        "        graph[i][j] = int(graph[i][j])\n",
        "\n",
        "start = time.time()\n",
        "# DFS로 특정한 노드를 방문한 뒤에 연결된 모든 노드들도 방문\n",
        "def dfs(x,y):\n",
        "    # 주어진 범위를 벗어나는 경우에는 즉시 종료\n",
        "    if x <= -1 or x >= n or y <= -1 or y >=n:\n",
        "        return False\n",
        "    # 현재 노드를 아직 방문하지 않았다면\n",
        "    if graph[x][y] == 0:\n",
        "        # 해당 노드 방문 처리\n",
        "        graph[x][y] = 1\n",
        "        # 상, 하, 좌, 우의 위치도 모두 재귀적으로 호출\n",
        "        dfs(x-1, y)\n",
        "        dfs(x, y-1)\n",
        "        dfs(x+1, y)\n",
        "        dfs(x, y+1)\n",
        "        return True       # 위의 이웃들에 대하여 방문을 모두 한 상황임\n",
        "    return False      # 방문을 이미 했거나, 위의 내용을 만족하지 않으면 종료\n",
        "\n",
        "# 모든 노드(위치)에 대하여 음료수 채우기\n",
        "result = 0\n",
        "for i in range(n):\n",
        "    for j in range(m):\n",
        "        # 현재 위치에서 DFS 수행\n",
        "        if dfs(i, j) == True:\n",
        "            result += 1\n",
        "print(result)\n",
        "end = time.time()\n",
        "print(end-start)\n",
        "\n",
        "# Tip1: 상,하,좌,우로 연결되어 있으므로 이를 그래프 형태로 모델링 가능하다.\n",
        "# 이의 경우 깊이 우선 탐색 즉, DFS를 이용하여 간단히 해결 가능하다.\n",
        "# 특히, 범위를 벗어나는 경우, 이미 방문한 경우를 False(종료)처리 하고 나머지는 True처리 하여 카운트 가능하다.\n",
        "# Tip2: 이웃 노드를 방문하기 위해 \"재귀적\"으로 호출"
      ],
      "metadata": {
        "colab": {
          "base_uri": "https://localhost:8080/"
        },
        "id": "2iNHBpuay1fa",
        "outputId": "d555bec8-b1b2-44f8-96c3-e962a1665372"
      },
      "execution_count": 52,
      "outputs": [
        {
          "output_type": "stream",
          "name": "stdout",
          "text": [
            "3 3\n",
            "0 0 1\n",
            "0 1 0\n",
            "1 0 1\n",
            "3\n",
            "0.0005831718444824219\n"
          ]
        }
      ]
    },
    {
      "cell_type": "markdown",
      "source": [
        "# 기술 면접 대비"
      ],
      "metadata": {
        "id": "gryCrmQlnYJ3"
      }
    },
    {
      "cell_type": "code",
      "source": [
        "# 1."
      ],
      "metadata": {
        "id": "Q5MkbWYxnbjh"
      },
      "execution_count": null,
      "outputs": []
    }
  ]
}