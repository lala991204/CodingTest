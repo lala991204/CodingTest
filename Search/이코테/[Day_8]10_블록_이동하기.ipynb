{
  "nbformat": 4,
  "nbformat_minor": 0,
  "metadata": {
    "colab": {
      "provenance": [],
      "collapsed_sections": [],
      "authorship_tag": "ABX9TyO6m9yXT1wOAjOaz4pqrHBq",
      "include_colab_link": true
    },
    "kernelspec": {
      "name": "python3",
      "display_name": "Python 3"
    },
    "language_info": {
      "name": "python"
    }
  },
  "cells": [
    {
      "cell_type": "markdown",
      "metadata": {
        "id": "view-in-github",
        "colab_type": "text"
      },
      "source": [
        "<a href=\"https://colab.research.google.com/github/lala991204/CodingTest/blob/master/Search/%EC%9D%B4%EC%BD%94%ED%85%8C/%5BDay_8%5D10_%EB%B8%94%EB%A1%9D_%EC%9D%B4%EB%8F%99%ED%95%98%EA%B8%B0.ipynb\" target=\"_parent\"><img src=\"https://colab.research.google.com/assets/colab-badge.svg\" alt=\"Open In Colab\"/></a>"
      ]
    },
    {
      "cell_type": "markdown",
      "source": [
        "# 문제"
      ],
      "metadata": {
        "id": "sih1Zvpdy3OS"
      }
    },
    {
      "cell_type": "code",
      "execution_count": null,
      "metadata": {
        "id": "nE3znlOCvl0u"
      },
      "outputs": [],
      "source": [
        "# 문제: https://school.programmers.co.kr/learn/courses/30/lessons/60063"
      ]
    },
    {
      "cell_type": "markdown",
      "source": [
        "# 작성 코드"
      ],
      "metadata": {
        "id": "tFKBYE4Jy7yV"
      }
    },
    {
      "cell_type": "code",
      "source": [
        "import time "
      ],
      "metadata": {
        "id": "-G8s84Tbxgsi"
      },
      "execution_count": null,
      "outputs": []
    },
    {
      "cell_type": "code",
      "source": [
        "start = time.time()\n",
        "# 방향 이동\n",
        "def direction(x1,y1,x2,y2):\n",
        "    if visited[x2][y2 + 1] != 1 and board[x2][y2 + 1] != 1:  # 오른쪽\n",
        "        y1 += 1\n",
        "        y2 += 1\n",
        "        return True\n",
        "    elif board[x1  + 1][y1] != 1 and board[x2 + 1][y2] != 1:\n",
        "        if visited[x1  + 1][y1] != 1 and visited[x2 + 1][y2] != 1:    # 아래쪽\n",
        "            x1 += 1\n",
        "            x2 += 1\n",
        "            return True  \n",
        "        elif visited[x2 + 1][y2] != 1:     # 반시계 방향 회전\n",
        "            x1 = x2\n",
        "            y1 = y2\n",
        "            x2 += 1\n",
        "            return True\n",
        "        elif visited[x1  + 1][y1] != 1:              # 시계 방향 회전\n",
        "            x2 = x1 + 1\n",
        "            y2 = y1    \n",
        "            return True\n",
        "    return False\n",
        "\n",
        "cnt = 0  \n",
        "case = 0\n",
        "stack = []\n",
        "def solution(board):\n",
        "    global cnt, case\n",
        "    visited = board\n",
        "    x1 = 0\n",
        "    y1 = 0\n",
        "    x2 = 0\n",
        "    y2 = 0\n",
        "    stack.append([x1,y1,x2,y2])\n",
        "    \n",
        "    # 다음 조건을 만족하는 동안 계속 진행\n",
        "    while x1 != len(board) or x2 != len(board) or y1 != len(board) or y2 != len(board):\n",
        "        if direction(x1,y1,x2,y2):\n",
        "            # True이면\n",
        "            direction(x1,y1,x2,y2)\n",
        "            stack.append([x1,y1,x2,y2])\n",
        "            cnt += 1\n",
        "            # 변경 후 방문 일괄 처리\n",
        "            visited[x1][y1] = 1\n",
        "            visited[x2][y2] = 1\n",
        "        else:     # pop\n",
        "            li = stack.pop()\n",
        "            direction(li[0],li[1],li[2],li[3])\n",
        "    else:              # 더 이상 갈 곳이 없는\n",
        "        continue        \n",
        "    answer = cnt\n",
        "    return answer\n",
        "end = time.time()\n",
        "print(end-start)\n",
        "\n",
        "# 오답 이유 ->"
      ],
      "metadata": {
        "colab": {
          "base_uri": "https://localhost:8080/"
        },
        "id": "G_4sCPTHwAMd",
        "outputId": "f3032b72-a955-4983-8c60-9060753de6e9"
      },
      "execution_count": null,
      "outputs": [
        {
          "output_type": "stream",
          "name": "stdout",
          "text": [
            "2.6702880859375e-05\n"
          ]
        }
      ]
    },
    {
      "cell_type": "markdown",
      "source": [
        "# 모범 답안"
      ],
      "metadata": {
        "id": "7RfxRbVNy_WD"
      }
    },
    {
      "cell_type": "code",
      "source": [
        "from collections import deque\n",
        "import time\n",
        "\n",
        "start = time.time()\n",
        "def get_next_pos(pos, board):\n",
        "    next_pos = []       # 반환 결과(이동 가능한 위치들)\n",
        "    pos = list(pos)\n",
        "    \n",
        "    pos1_x, pos1_y, pos2_x, pos2_y = pos[0][0], pos[0][1], pos[1][0], pos[1][1]\n",
        "    \n",
        "    dx = [-1, 1, 0, 0]\n",
        "    dy = [0, 0, -1, 1]\n",
        "    ## 상,하,좌,우 체크!!\n",
        "    for i in range(4):\n",
        "        pos1_next_x, pos1_next_y, pos2_next_x, pos2_next_y = pos1_x + dx[i], pos1_y + dy[i], pos2_x + dx[i], pos2_y + dy[i]       \n",
        "        # 이동하고자 하는 두 칸이 모두 비어 있다면\n",
        "        if board[pos1_next_x][pos1_next_y] == 0 and board[pos2_next_x][pos2_next_y] == 0:\n",
        "            next_pos.append({(pos1_next_x, pos1_next_y), (pos2_next_x, pos2_next_y)})\n",
        "    \n",
        "    ## 회전 체크!!\n",
        "    # 현재 로봇이 가로로 놓여 있는 경우\n",
        "    if pos1_x == pos2_x:\n",
        "        for i in [-1, 1]:    # 위쪽으로 회전 또는 아래쪽으로 회전\n",
        "            if board[pos1_x + i][pos1_y] == 0 and board[pos2_x + i][pos2_y] == 0:  # 위쪽 혹은 아래쪽 두 칸이 모두 비어 있다면\n",
        "                next_pos.append({(pos1_x, pos1_y), (pos1_x + i, pos1_y)})\n",
        "                next_pos.append({(pos2_x, pos2_y), (pos2_x + i, pos2_y)})\n",
        "    # 현재 로봇이 세로로 놓여 있는 경우\n",
        "    elif pos1_y == pos2_y:\n",
        "        for i in [-1, 1]:\n",
        "            if board[pos1_x][pos1_y + i] == 0 and board[pos2_x][pos2_y + i] == 0:  # 왼쪽 혹은 오른쪽 두 칸이 비어 있다면\n",
        "                next_pos.append({(pos1_x, pos1_y), (pos1_x, pos1_y + i)})\n",
        "                next_pos.append({(pos2_x, pos2_y), (pos2_x, pos2_y + i)})\n",
        "    \n",
        "    # 현재 위치에서 이동할 수 있는 위치 반환\n",
        "    return next_pos\n",
        "\n",
        "def solution(board):\n",
        "    # 맵의 외곽에 벽을 두는 형태로 맵 변형\n",
        "    n = len(board)\n",
        "    new_board = [[1] * (n + 2) for _ in range(n + 2)]\n",
        "    for i in range(n):\n",
        "        for j in range(n):\n",
        "            new_board[i + 1][j + 1] = board[i][j]\n",
        "    # 너비 우선 탐색 (BFS) 수행\n",
        "    q = deque()\n",
        "    visited = []\n",
        "    pos = {(1, 1), (1, 2)}   # 시작 위치 설정(고정!)\n",
        "    q.append((pos, 0))       # 큐에 삽입한 뒤,\n",
        "    visited.append(pos)      # 방문 처리\n",
        "    # 큐가 빌 때까지 반복\n",
        "    while q:\n",
        "        pos, cost = q.popleft()\n",
        "        # (n, n) 위치에 로봇이 도달했다면, 최단 거리이므로 반환\n",
        "        if (n, n) in pos:\n",
        "            return cost\n",
        "        # 현 위치에서 이동할 수 있는 위치 확인\n",
        "        for next_pos in get_next_pos(pos, new_board):\n",
        "            # 아직 방문하지 않은 위치라면 큐에 삽입하고 방문 처리\n",
        "            if next_pos not in visited:\n",
        "                q.append((next_pos, cost + 1))\n",
        "                visited.append(next_pos)\n",
        "    return 0          \n",
        "end = time.time()\n",
        "print(end-start)\n",
        "\n",
        "# 결과: 정확도 100/100"
      ],
      "metadata": {
        "colab": {
          "base_uri": "https://localhost:8080/"
        },
        "id": "2iNHBpuay1fa",
        "outputId": "6732a35b-449d-4d65-ecc4-ae5de8dc428b"
      },
      "execution_count": 1,
      "outputs": [
        {
          "output_type": "stream",
          "name": "stdout",
          "text": [
            "0.0011553764343261719\n"
          ]
        }
      ]
    },
    {
      "cell_type": "markdown",
      "source": [
        "# 기술 면접 대비"
      ],
      "metadata": {
        "id": "gryCrmQlnYJ3"
      }
    },
    {
      "cell_type": "code",
      "source": [
        "# 1."
      ],
      "metadata": {
        "id": "Q5MkbWYxnbjh"
      },
      "execution_count": null,
      "outputs": []
    }
  ]
}