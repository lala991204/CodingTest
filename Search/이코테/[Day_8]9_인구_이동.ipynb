{
  "nbformat": 4,
  "nbformat_minor": 0,
  "metadata": {
    "colab": {
      "provenance": [],
      "collapsed_sections": [],
      "authorship_tag": "ABX9TyMDZcDtD4umT39UnqTUX+q1",
      "include_colab_link": true
    },
    "kernelspec": {
      "name": "python3",
      "display_name": "Python 3"
    },
    "language_info": {
      "name": "python"
    }
  },
  "cells": [
    {
      "cell_type": "markdown",
      "metadata": {
        "id": "view-in-github",
        "colab_type": "text"
      },
      "source": [
        "<a href=\"https://colab.research.google.com/github/lala991204/CodingTest/blob/master/Search/%EC%9D%B4%EC%BD%94%ED%85%8C/%5BDay_8%5D9_%EC%9D%B8%EA%B5%AC_%EC%9D%B4%EB%8F%99.ipynb\" target=\"_parent\"><img src=\"https://colab.research.google.com/assets/colab-badge.svg\" alt=\"Open In Colab\"/></a>"
      ]
    },
    {
      "cell_type": "code",
      "source": [
        "from collections import deque\n",
        "\n",
        "n, l, r = map(int, input().split())\n",
        "board = []\n",
        "for i in range(n):\n",
        "    board.append(list(map(int, input().split())))\n",
        "\n",
        "dx = [-1,1,0,0]       # CHECK(밖으로 빼는 게 좋음 반복되는 것 보단..)\n",
        "dy = [0,0,-1,1]\n",
        "def process(x, y, index):\n",
        "    united = []\n",
        "    united.append((x, y))  # 계산 필요\n",
        "    \n",
        "    q = deque()\n",
        "    q.append((x, y))\n",
        "    union[x][y] = index\n",
        "    summary = board[x][y]    # 계산 필요\n",
        "    count = 1     # 계산 필요\n",
        "    while q:\n",
        "        x, y = q.popleft()\n",
        "        for i in range(4):\n",
        "            nx = x + dx[i]      # CHECK(nx += dx[i] : 누적, nx = x + dx[i]: 누적이 아닌)\n",
        "            ny = y + dy[i]\n",
        "            if 0 <= nx < n and 0 <= ny < n and union[nx][ny] == -1:    # 경계 및 방문 유무 체크\n",
        "                if l <= abs(board[nx][ny] - board[x][y]) <= r:  \n",
        "                    q.append((nx, ny))\n",
        "                    union[nx][ny] = index\n",
        "                    summary += board[nx][ny]\n",
        "                    count += 1\n",
        "                    united.append((nx, ny))          # CHECK(여긴 계산을 위해 추가 필요)\n",
        "    for i, j in united:        # CHECK(변수 안 겹치게 i,j)\n",
        "        board[i][j] = summary // count\n",
        "    return \n",
        "\n",
        "\n",
        "total_count = 0\n",
        "while True:\n",
        "    union = [[-1] * n for _ in range(n)]\n",
        "    index = 0           # CHECK\n",
        "    for i in range(n):\n",
        "        for j in range(n):\n",
        "            if union[i][j] == -1:     # 시작 전 방문 유무 체크!\n",
        "                process(i, j, index)\n",
        "                index += 1\n",
        "    if index == n * n:    # 빠짐 없이 연합 완료 (더 이상 연합 x)\n",
        "        break\n",
        "    total_count += 1  # 전체 탐색 완료 후 아직 종료 조건 성립안하면 다음 번 인구 이동으로 넘어감\n",
        "print(total_count)"
      ],
      "metadata": {
        "colab": {
          "base_uri": "https://localhost:8080/"
        },
        "id": "G_4sCPTHwAMd",
        "outputId": "b25b9a65-88a8-4ef6-d848-6f1e49fe8f99"
      },
      "execution_count": 2,
      "outputs": [
        {
          "output_type": "stream",
          "name": "stdout",
          "text": [
            "2 20 50\n",
            "50 30\n",
            "20 40\n",
            "1\n"
          ]
        }
      ]
    }
  ]
}