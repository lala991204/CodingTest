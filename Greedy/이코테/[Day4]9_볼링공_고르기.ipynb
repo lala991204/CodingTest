{
  "nbformat": 4,
  "nbformat_minor": 0,
  "metadata": {
    "colab": {
      "name": "[Day4]9.볼링공 고르기.ipynb",
      "provenance": [],
      "collapsed_sections": [],
      "toc_visible": true,
      "authorship_tag": "ABX9TyPtSLohmdhsF+5vetxio9Jo",
      "include_colab_link": true
    },
    "kernelspec": {
      "name": "python3",
      "display_name": "Python 3"
    },
    "language_info": {
      "name": "python"
    }
  },
  "cells": [
    {
      "cell_type": "markdown",
      "metadata": {
        "id": "view-in-github",
        "colab_type": "text"
      },
      "source": [
        "<a href=\"https://colab.research.google.com/github/lala991204/CodingTest/blob/master/Greedy/%5BDay4%5D9_%EB%B3%BC%EB%A7%81%EA%B3%B5_%EA%B3%A0%EB%A5%B4%EA%B8%B0.ipynb\" target=\"_parent\"><img src=\"https://colab.research.google.com/assets/colab-badge.svg\" alt=\"Open In Colab\"/></a>"
      ]
    },
    {
      "cell_type": "markdown",
      "source": [
        "# 문제"
      ],
      "metadata": {
        "id": "sih1Zvpdy3OS"
      }
    },
    {
      "cell_type": "code",
      "execution_count": null,
      "metadata": {
        "id": "nE3znlOCvl0u"
      },
      "outputs": [],
      "source": [
        "# 문제: 볼링공은 총 N개가 있으며 각 볼링공마다 무게가 적혀 있고, 공의 번호는 1번부터 순서대로 부여된다.\n",
        "# 같은 무게의 공이 여러 개 있을 수 잇지만, 서로 다른 공으로 간주한다. 볼링공의 무게는 1부터 M까지의 자연수 형태로 존재한다.\n",
        "# 두 사람이 서로 무게가 다른 볼링공을 고르는 경우의 수를 구하는 프로그램을 작성하시오."
      ]
    },
    {
      "cell_type": "markdown",
      "source": [
        "# 작성 코드"
      ],
      "metadata": {
        "id": "tFKBYE4Jy7yV"
      }
    },
    {
      "cell_type": "code",
      "source": [
        "import time \n",
        "n,m = map(int, input().split())\n",
        "ball = list(map(int, input().split()))\n",
        "\n",
        "start = time.time()\n",
        "count = 0\n",
        "for i in range(n):\n",
        "    for j in range(i, n):\n",
        "        if ball[i] != ball[j]:\n",
        "            count += 1\n",
        "print(count)\n",
        "end = time.time()\n",
        "print(end-start)\n",
        "\n",
        "# 오답 이유 -> "
      ],
      "metadata": {
        "colab": {
          "base_uri": "https://localhost:8080/"
        },
        "id": "G_4sCPTHwAMd",
        "outputId": "e56b8ae2-074c-4d41-c45d-c327e2cb5633"
      },
      "execution_count": null,
      "outputs": [
        {
          "output_type": "stream",
          "name": "stdout",
          "text": [
            "8 5\n",
            "1 5 4 3 2 4 5 2\n",
            "25\n",
            "0.001739501953125\n"
          ]
        }
      ]
    },
    {
      "cell_type": "markdown",
      "source": [
        "# 모범 답안"
      ],
      "metadata": {
        "id": "7RfxRbVNy_WD"
      }
    },
    {
      "cell_type": "code",
      "source": [
        "n, m = map(int, input().split())\n",
        "data = list(map(int, input().split()))\n",
        "\n",
        "start = time.time()\n",
        "# 1부터 10까지의 무게를 담을 수 있는 리스트\n",
        "array = [0] * 11\n",
        "for x in data:\n",
        "    # 각 무게에 해당하는 볼링공 개수 카운트\n",
        "    array[x] += 1\n",
        "result = 0\n",
        "# 1부터 m까지의 각 무게에 대해 처리\n",
        "for i in range(1, m+1):\n",
        "    n -= array[i]    # 무게가 i인 볼링공의 개수 (A가 선택할 수 있는 개수) 제외\n",
        "    result += array[i] * n\n",
        "print(result)\n",
        "end = time.time()\n",
        "print(end-start)\n",
        "\n",
        "# Tip1: 위의 코드에서는 입력 받은 m은 사용하지 않았으므로 혹시나 문제가 될 수 있다. 그리고 너무 간단해서 문제.\n",
        "# 모범답안에서는 주어진 최대 볼링 공의 무게를 이용하여 해당 공간에 저장해두고\n",
        "# A가 선택한 결과에 따라 B가 선택한 결과가 정해지는 구조이다."
      ],
      "metadata": {
        "colab": {
          "base_uri": "https://localhost:8080/"
        },
        "id": "2iNHBpuay1fa",
        "outputId": "555be39c-a23c-4ac4-ee0c-cb1dba05f5d9"
      },
      "execution_count": 2,
      "outputs": [
        {
          "output_type": "stream",
          "name": "stdout",
          "text": [
            "8 5\n",
            "1 5 4 3 2 4 5 2\n",
            "25\n",
            "0.0019073486328125\n"
          ]
        }
      ]
    },
    {
      "cell_type": "markdown",
      "source": [
        "# 기술 면접 대비"
      ],
      "metadata": {
        "id": "Y1RYq5GVnrY6"
      }
    },
    {
      "cell_type": "code",
      "source": [
        "# 1."
      ],
      "metadata": {
        "id": "Y5Z1A2hZns0f"
      },
      "execution_count": null,
      "outputs": []
    }
  ]
}
