{
  "nbformat": 4,
  "nbformat_minor": 0,
  "metadata": {
    "colab": {
      "provenance": [],
      "authorship_tag": "ABX9TyNLSgXNjkkitWN9bYWhFFhY",
      "include_colab_link": true
    },
    "kernelspec": {
      "name": "python3",
      "display_name": "Python 3"
    },
    "language_info": {
      "name": "python"
    }
  },
  "cells": [
    {
      "cell_type": "markdown",
      "metadata": {
        "id": "view-in-github",
        "colab_type": "text"
      },
      "source": [
        "<a href=\"https://colab.research.google.com/github/lala991204/CodingTest/blob/master/Programmers/BFS_%EC%95%84%EC%9D%B4%ED%85%9C_%EC%A4%8D%EA%B8%B0.ipynb\" target=\"_parent\"><img src=\"https://colab.research.google.com/assets/colab-badge.svg\" alt=\"Open In Colab\"/></a>"
      ]
    },
    {
      "cell_type": "code",
      "source": [
        "from collections import deque\n",
        "\n",
        "def solution(rectangle, characterX, characterY, itemX, itemY):\n",
        "    field = [[-1] * 102 for i in range(102)]\n",
        "    for r in rectangle:\n",
        "        x1, y1, x2, y2 = map(lambda x: x*2, r)\n",
        "        for i in range(x1, x2 + 1):\n",
        "            for j in range(y1, y2 + 1):\n",
        "                if x1 < i < x2 and y1 < j < y2:\n",
        "                    field[i][j] = 0\n",
        "                elif field[i][j] != 0:\n",
        "                    field[i][j] = 1\n",
        "    dx = [-1,1,0,0]\n",
        "    dy = [0,0,-1,1]\n",
        "    q = deque()\n",
        "    q.append([characterX * 2, characterY * 2])\n",
        "    visited = [[1] * 102 for i in range(102)]\n",
        "    while q:\n",
        "        x, y = q.popleft()\n",
        "        if x == itemX * 2 and y == itemY * 2:\n",
        "            answer = visited[x][y] // 2\n",
        "            break\n",
        "        for k in range(4):\n",
        "            nx = x + dx[k]\n",
        "            ny = y + dy[k]\n",
        "            if field[nx][ny] == 1 and visited[nx][ny] == 1:\n",
        "                q.append([nx, ny])\n",
        "                visited[nx][ny] = visited[x][y] + 1\n",
        "    return answer"
      ],
      "metadata": {
        "id": "uVvkCPpzr3KB"
      },
      "execution_count": null,
      "outputs": []
    }
  ]
}