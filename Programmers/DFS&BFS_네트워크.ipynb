{
  "nbformat": 4,
  "nbformat_minor": 0,
  "metadata": {
    "colab": {
      "provenance": [],
      "toc_visible": true,
      "authorship_tag": "ABX9TyMtPzw1gGbrtkaG8pPr/NMs",
      "include_colab_link": true
    },
    "kernelspec": {
      "name": "python3",
      "display_name": "Python 3"
    },
    "language_info": {
      "name": "python"
    }
  },
  "cells": [
    {
      "cell_type": "markdown",
      "metadata": {
        "id": "view-in-github",
        "colab_type": "text"
      },
      "source": [
        "<a href=\"https://colab.research.google.com/github/lala991204/CodingTest/blob/master/Programmers/DFS%26BFS_%EB%84%A4%ED%8A%B8%EC%9B%8C%ED%81%AC.ipynb\" target=\"_parent\"><img src=\"https://colab.research.google.com/assets/colab-badge.svg\" alt=\"Open In Colab\"/></a>"
      ]
    },
    {
      "cell_type": "code",
      "source": [
        "# DFS\n",
        "def solution(n, computers):\n",
        "    answer = 0\n",
        "    visited = [False for i in range(n)]\n",
        "    for com in range(n):\n",
        "        if visited[com] == False:\n",
        "            DFS(n, computers, com, visited)\n",
        "            answer += 1\n",
        "    return answer\n",
        "\n",
        "def DFS(n, computers, com, visited):\n",
        "    visited[com] = True\n",
        "    for connect in range(n):\n",
        "        if connect != com and computers[com][connect] == 1:\n",
        "            if visited[connect] == False:\n",
        "                DFS(n, computers, connect, visited)"
      ],
      "metadata": {
        "id": "utDcYAFyfvs7"
      },
      "execution_count": 1,
      "outputs": []
    },
    {
      "cell_type": "code",
      "source": [
        "# BFS\n",
        "from collections import deque\n",
        "\n",
        "def solution(n, computers):\n",
        "    answer = 0\n",
        "    visited = [False for i in range(n)]\n",
        "    for com in range(n):\n",
        "        if visited[com] == False:\n",
        "            BFS(n, computers, com, visited)\n",
        "            answer += 1\n",
        "    return answer\n",
        "\n",
        "def BFS(n, computers, com, visited):\n",
        "    visited[com] = True\n",
        "    queue = deque()\n",
        "    queue.append(com)\n",
        "    while queue:\n",
        "        com = queue.popleft()\n",
        "        visited[com] = True\n",
        "        for connect in range(n):\n",
        "            if connect != com and computers[com][connect] == 1:\n",
        "                if visited[connect] == False:\n",
        "                    queue.append(connect)"
      ],
      "metadata": {
        "id": "P7ZaI6edgXiF"
      },
      "execution_count": 2,
      "outputs": []
    }
  ]
}