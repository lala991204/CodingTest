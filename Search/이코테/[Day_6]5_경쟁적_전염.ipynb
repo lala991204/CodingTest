{
  "nbformat": 4,
  "nbformat_minor": 0,
  "metadata": {
    "colab": {
      "provenance": [],
      "collapsed_sections": [],
      "authorship_tag": "ABX9TyN4SSjFHHQ88P5+46zQZq9F",
      "include_colab_link": true
    },
    "kernelspec": {
      "name": "python3",
      "display_name": "Python 3"
    },
    "language_info": {
      "name": "python"
    }
  },
  "cells": [
    {
      "cell_type": "markdown",
      "metadata": {
        "id": "view-in-github",
        "colab_type": "text"
      },
      "source": [
        "<a href=\"https://colab.research.google.com/github/lala991204/CodingTest/blob/master/Search/%EC%9D%B4%EC%BD%94%ED%85%8C/%5BDay_6%5D5_%EA%B2%BD%EC%9F%81%EC%A0%81_%EC%A0%84%EC%97%BC.ipynb\" target=\"_parent\"><img src=\"https://colab.research.google.com/assets/colab-badge.svg\" alt=\"Open In Colab\"/></a>"
      ]
    },
    {
      "cell_type": "markdown",
      "source": [
        "# 문제"
      ],
      "metadata": {
        "id": "sih1Zvpdy3OS"
      }
    },
    {
      "cell_type": "code",
      "execution_count": null,
      "metadata": {
        "id": "nE3znlOCvl0u"
      },
      "outputs": [],
      "source": [
        "# 문제: N*N 크기의 시험관이 있다. 시험관은 1*1 크기의 칸으로 나눠지며 특정 위치에 바이러스가 존재할 수 있다.\n",
        "# 바이러스 종류는 1~K번까지 K가지가 있으며, 모든 바이러스는 이 중 하나에 속한다. 모든 바이러스는 1초마다 상,하,좌,우의 방향으로 증식하는데,\n",
        "# 매초 번호가 낮은 종류의 바이러스부터 먼저 증식한다. 또한, 특정 칸에 이미 어떤 바이러스가 있으면 그곳에는 다른 바이러스가 들어갈 수 없다. \n",
        "# 시험관 크기, 바이러스 위치 정보가 주어질 때 S초가 지난 후 (X,Y)에 존재하는 바이러스의 종류를 출력하는 프로그램 작성하라.\n",
        "# (단, 해당 위치에 바이러스가 존재하지 않으면 0을 출력한다.)"
      ]
    },
    {
      "cell_type": "markdown",
      "source": [
        "# 작성 코드"
      ],
      "metadata": {
        "id": "tFKBYE4Jy7yV"
      }
    },
    {
      "cell_type": "code",
      "source": [
        "import time \n",
        "from collections import deque"
      ],
      "metadata": {
        "id": "-G8s84Tbxgsi"
      },
      "execution_count": 1,
      "outputs": []
    },
    {
      "cell_type": "code",
      "source": [
        "# 아이디어: 초당 1,2,3번 바이러스가 이동할 수 있는 범위 체크 => s시간 만큼 반복 (bfs)\n",
        "\n",
        "n,k = map(int, input().split())\n",
        "graph = []\n",
        "for i in range(n):\n",
        "    graph.append(list(map(int, input().split())))\n",
        "s,x,y = map(int, input().split())\n",
        "\n",
        "start = time.time()\n",
        "dx = [-1, 1, 0, 0]\n",
        "dy = [0, 0, -1, 1]\n",
        "\n",
        "def bfs(x,y,n):\n",
        "    queue = deque()\n",
        "    queue.append((x,y))\n",
        "    while queue:\n",
        "        x, y = queue.popleft()\n",
        "        for i in range(4):\n",
        "            nx = x + dx[i]\n",
        "            ny = y + dy[i]\n",
        "            if nx < 0 or ny < 0 or nx >= n or ny >= m:\n",
        "                continue\n",
        "            if graph[nx][ny] == 1:\n",
        "                graph[nx][ny] = graph[x][y]\n",
        "                queue.append((nx,ny))\n",
        "    return\n",
        "for i in range(s):\n",
        "    for j in range(1,4):\n",
        "        bfs(0,0,j)\n",
        "if graph[x-1][y-1] != 0:\n",
        "    print(graoh[x-1][y-1])\n",
        "else:\n",
        "    print(0)\n",
        "end = time.time()\n",
        "print(end-start)\n",
        "\n",
        "# 오답 이유 -> long time thinking , 정리되지 않음, 알고리즘 짜는 법을 생각해내지 못함"
      ],
      "metadata": {
        "colab": {
          "base_uri": "https://localhost:8080/"
        },
        "id": "G_4sCPTHwAMd",
        "outputId": "f3032b72-a955-4983-8c60-9060753de6e9"
      },
      "execution_count": null,
      "outputs": [
        {
          "output_type": "stream",
          "name": "stdout",
          "text": [
            "2.6702880859375e-05\n"
          ]
        }
      ]
    },
    {
      "cell_type": "markdown",
      "source": [
        "# 모범 답안"
      ],
      "metadata": {
        "id": "7RfxRbVNy_WD"
      }
    },
    {
      "cell_type": "code",
      "source": [
        "n, k = map(int, input().split())\n",
        "graph = []    \n",
        "data = []     \n",
        "for i in range(n):\n",
        "    graph.append(list(map(int, input().split())))\n",
        "    for j in range(n):                    # 맵 정보를 받아들일 때부터 바이러스 정보 저장 (바이러스 종류, 시간, 위치 X, 위치 Y)\n",
        "        if graph[i][j] != 0:\n",
        "            data.append((graph[i][j], 0, i, j))\n",
        "\n",
        "target_s, target_x, target_y = map(int, input().split())\n",
        "\n",
        "start = time.time()\n",
        "# 정렬 후 큐로 옮기기 (낮은 번호의 바이러스가 먼저 증식)\n",
        "data.sort()\n",
        "q = deque(data)\n",
        "\n",
        "dx = [-1,1,0,0]\n",
        "dy = [0,0,-1,1]\n",
        "# 너비 우선 탐색(BFS) => 해당 좌표의 이웃부분을 모두 살핀 후 다음을 진행하므로\n",
        "while q:\n",
        "    virus, s, x, y = q.popleft()\n",
        "    if s == target_s:       # 해당 시간이 초과하기 전, while문 빠져나오기.\n",
        "        break\n",
        "    for i in range(4):\n",
        "        nx = x + dx[i]\n",
        "        ny = y + dy[i]\n",
        "        if 0 <= nx and nx < n and 0 <= ny and ny < n:\n",
        "            if graph[nx][ny] == 0:    # 방문하지 않았을 경우\n",
        "                graph[nx][ny] = virus\n",
        "                q.append((virus, s+1, nx, ny))\n",
        "print(graph[target_x - 1][target_y - 1])\n",
        "end = time.time()\n",
        "print(end-start)\n",
        "\n",
        "# Tip1: "
      ],
      "metadata": {
        "colab": {
          "base_uri": "https://localhost:8080/"
        },
        "id": "2iNHBpuay1fa",
        "outputId": "86ef48ef-81a8-4cf4-bd3c-262593e07b12"
      },
      "execution_count": 4,
      "outputs": [
        {
          "output_type": "stream",
          "name": "stdout",
          "text": [
            "3 3\n",
            "1 0 2\n",
            "0 0 0\n",
            "3 0 0\n",
            "2 3 2\n",
            "3\n",
            "0.0006885528564453125\n"
          ]
        }
      ]
    },
    {
      "cell_type": "markdown",
      "source": [
        "# 기술 면접 대비"
      ],
      "metadata": {
        "id": "gryCrmQlnYJ3"
      }
    },
    {
      "cell_type": "code",
      "source": [
        "# 1. BFS는 각 목적에 따른 정보를 가지고 움직인다.\n",
        "# 예1) 해당 최단거리에 따르는 원하는 도시 찾기 => distance 정보 저장 및 업데이트\n",
        "# 예2) 낮은 바이러스 번호부터 증식하는데, 몇 초후 해당 좌표 바이러스 번호 찾기 => 좌표,시간,바이러스 정보 저장 및 업데이트"
      ],
      "metadata": {
        "id": "Q5MkbWYxnbjh"
      },
      "execution_count": null,
      "outputs": []
    }
  ]
}