{
  "nbformat": 4,
  "nbformat_minor": 0,
  "metadata": {
    "colab": {
      "provenance": [],
      "collapsed_sections": [],
      "authorship_tag": "ABX9TyMftvlJAI32Cm8BYc2LjTiN",
      "include_colab_link": true
    },
    "kernelspec": {
      "name": "python3",
      "display_name": "Python 3"
    },
    "language_info": {
      "name": "python"
    }
  },
  "cells": [
    {
      "cell_type": "markdown",
      "metadata": {
        "id": "view-in-github",
        "colab_type": "text"
      },
      "source": [
        "<a href=\"https://colab.research.google.com/github/lala991204/CodingTest/blob/master/Search/%EC%9D%B4%EC%BD%94%ED%85%8C/%5BDay_6%5D5_%EA%B2%BD%EC%9F%81%EC%A0%81_%EC%A0%84%EC%97%BC.ipynb\" target=\"_parent\"><img src=\"https://colab.research.google.com/assets/colab-badge.svg\" alt=\"Open In Colab\"/></a>"
      ]
    },
    {
      "cell_type": "code",
      "source": [
        "from collections import deque\n",
        "\n",
        "n, k = map(int, input().split())\n",
        "graph = []\n",
        "data = []\n",
        "for i in range(n):\n",
        "    graph.append(list(map(int, input().split())))\n",
        "    for j in range(n):\n",
        "        if graph[i][j] != 0:\n",
        "            data.append((graph[i][j], 0, i, j))    \n",
        "target_s, target_x, target_y = map(int, input().split())\n",
        "\n",
        "data.sort()   # 낮은 번호의 바이러스부터 증식 가능\n",
        "q = deque(data)\n",
        "dx = [-1,1,0,0]\n",
        "dy = [0,0,-1,1]\n",
        "while q:\n",
        "    virus, s, x, y = q.popleft()\n",
        "    if s == target_s:\n",
        "        break\n",
        "    for i in range(4):\n",
        "        nx = x + dx[i]\n",
        "        ny = y + dy[i]\n",
        "        if 0 <= nx and nx < n and 0 <= ny and ny < n:  # CHECK\n",
        "            if graph[nx][ny] == 0:\n",
        "                graph[nx][ny] = virus\n",
        "                q.append((virus, s + 1, nx, ny))  # update\n",
        "print(graph[target_x - 1][target_y - 1])"
      ],
      "metadata": {
        "colab": {
          "base_uri": "https://localhost:8080/"
        },
        "id": "G_4sCPTHwAMd",
        "outputId": "ad59d2d4-c37a-4e20-c9c2-c54b16768fea"
      },
      "execution_count": null,
      "outputs": [
        {
          "output_type": "stream",
          "name": "stdout",
          "text": [
            "3 3\n",
            "1 0 2\n",
            "0 0 0\n",
            "3 0 0\n",
            "2 3 2\n",
            "3\n"
          ]
        }
      ]
    }
  ]
}